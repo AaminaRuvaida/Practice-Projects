{
 "cells": [
  {
   "cell_type": "markdown",
   "metadata": {},
   "source": [
    "## Predicting the Salary"
   ]
  },
  {
   "cell_type": "code",
   "execution_count": 1,
   "metadata": {},
   "outputs": [],
   "source": [
    "# Importing Libraries\n",
    "\n",
    "import pandas as pd\n",
    "import numpy as np\n",
    "import matplotlib.pyplot as plt\n",
    "import seaborn as sns\n",
    "from sklearn.model_selection import train_test_split\n",
    "from sklearn.linear_model import LinearRegression\n",
    "import warnings\n",
    "warnings.filterwarnings('ignore')"
   ]
  },
  {
   "cell_type": "code",
   "execution_count": 2,
   "metadata": {},
   "outputs": [
    {
     "data": {
      "text/html": [
       "<div>\n",
       "<style scoped>\n",
       "    .dataframe tbody tr th:only-of-type {\n",
       "        vertical-align: middle;\n",
       "    }\n",
       "\n",
       "    .dataframe tbody tr th {\n",
       "        vertical-align: top;\n",
       "    }\n",
       "\n",
       "    .dataframe thead th {\n",
       "        text-align: right;\n",
       "    }\n",
       "</style>\n",
       "<table border=\"1\" class=\"dataframe\">\n",
       "  <thead>\n",
       "    <tr style=\"text-align: right;\">\n",
       "      <th></th>\n",
       "      <th>rank</th>\n",
       "      <th>discipline</th>\n",
       "      <th>yrs.since.phd</th>\n",
       "      <th>yrs.service</th>\n",
       "      <th>sex</th>\n",
       "      <th>salary</th>\n",
       "    </tr>\n",
       "  </thead>\n",
       "  <tbody>\n",
       "    <tr>\n",
       "      <th>0</th>\n",
       "      <td>Prof</td>\n",
       "      <td>B</td>\n",
       "      <td>19</td>\n",
       "      <td>18</td>\n",
       "      <td>Male</td>\n",
       "      <td>139750</td>\n",
       "    </tr>\n",
       "    <tr>\n",
       "      <th>1</th>\n",
       "      <td>Prof</td>\n",
       "      <td>B</td>\n",
       "      <td>20</td>\n",
       "      <td>16</td>\n",
       "      <td>Male</td>\n",
       "      <td>173200</td>\n",
       "    </tr>\n",
       "    <tr>\n",
       "      <th>2</th>\n",
       "      <td>AsstProf</td>\n",
       "      <td>B</td>\n",
       "      <td>4</td>\n",
       "      <td>3</td>\n",
       "      <td>Male</td>\n",
       "      <td>79750</td>\n",
       "    </tr>\n",
       "    <tr>\n",
       "      <th>3</th>\n",
       "      <td>Prof</td>\n",
       "      <td>B</td>\n",
       "      <td>45</td>\n",
       "      <td>39</td>\n",
       "      <td>Male</td>\n",
       "      <td>115000</td>\n",
       "    </tr>\n",
       "    <tr>\n",
       "      <th>4</th>\n",
       "      <td>Prof</td>\n",
       "      <td>B</td>\n",
       "      <td>40</td>\n",
       "      <td>41</td>\n",
       "      <td>Male</td>\n",
       "      <td>141500</td>\n",
       "    </tr>\n",
       "    <tr>\n",
       "      <th>...</th>\n",
       "      <td>...</td>\n",
       "      <td>...</td>\n",
       "      <td>...</td>\n",
       "      <td>...</td>\n",
       "      <td>...</td>\n",
       "      <td>...</td>\n",
       "    </tr>\n",
       "    <tr>\n",
       "      <th>392</th>\n",
       "      <td>Prof</td>\n",
       "      <td>A</td>\n",
       "      <td>33</td>\n",
       "      <td>30</td>\n",
       "      <td>Male</td>\n",
       "      <td>103106</td>\n",
       "    </tr>\n",
       "    <tr>\n",
       "      <th>393</th>\n",
       "      <td>Prof</td>\n",
       "      <td>A</td>\n",
       "      <td>31</td>\n",
       "      <td>19</td>\n",
       "      <td>Male</td>\n",
       "      <td>150564</td>\n",
       "    </tr>\n",
       "    <tr>\n",
       "      <th>394</th>\n",
       "      <td>Prof</td>\n",
       "      <td>A</td>\n",
       "      <td>42</td>\n",
       "      <td>25</td>\n",
       "      <td>Male</td>\n",
       "      <td>101738</td>\n",
       "    </tr>\n",
       "    <tr>\n",
       "      <th>395</th>\n",
       "      <td>Prof</td>\n",
       "      <td>A</td>\n",
       "      <td>25</td>\n",
       "      <td>15</td>\n",
       "      <td>Male</td>\n",
       "      <td>95329</td>\n",
       "    </tr>\n",
       "    <tr>\n",
       "      <th>396</th>\n",
       "      <td>AsstProf</td>\n",
       "      <td>A</td>\n",
       "      <td>8</td>\n",
       "      <td>4</td>\n",
       "      <td>Male</td>\n",
       "      <td>81035</td>\n",
       "    </tr>\n",
       "  </tbody>\n",
       "</table>\n",
       "<p>397 rows × 6 columns</p>\n",
       "</div>"
      ],
      "text/plain": [
       "         rank discipline  yrs.since.phd  yrs.service   sex  salary\n",
       "0        Prof          B             19           18  Male  139750\n",
       "1        Prof          B             20           16  Male  173200\n",
       "2    AsstProf          B              4            3  Male   79750\n",
       "3        Prof          B             45           39  Male  115000\n",
       "4        Prof          B             40           41  Male  141500\n",
       "..        ...        ...            ...          ...   ...     ...\n",
       "392      Prof          A             33           30  Male  103106\n",
       "393      Prof          A             31           19  Male  150564\n",
       "394      Prof          A             42           25  Male  101738\n",
       "395      Prof          A             25           15  Male   95329\n",
       "396  AsstProf          A              8            4  Male   81035\n",
       "\n",
       "[397 rows x 6 columns]"
      ]
     },
     "execution_count": 2,
     "metadata": {},
     "output_type": "execute_result"
    }
   ],
   "source": [
    "df=pd.read_csv('Salaries.csv')\n",
    "df"
   ]
  },
  {
   "cell_type": "code",
   "execution_count": 3,
   "metadata": {},
   "outputs": [
    {
     "data": {
      "text/html": [
       "<div>\n",
       "<style scoped>\n",
       "    .dataframe tbody tr th:only-of-type {\n",
       "        vertical-align: middle;\n",
       "    }\n",
       "\n",
       "    .dataframe tbody tr th {\n",
       "        vertical-align: top;\n",
       "    }\n",
       "\n",
       "    .dataframe thead th {\n",
       "        text-align: right;\n",
       "    }\n",
       "</style>\n",
       "<table border=\"1\" class=\"dataframe\">\n",
       "  <thead>\n",
       "    <tr style=\"text-align: right;\">\n",
       "      <th></th>\n",
       "      <th>rank</th>\n",
       "      <th>discipline</th>\n",
       "      <th>yrs.since.phd</th>\n",
       "      <th>yrs.service</th>\n",
       "      <th>sex</th>\n",
       "      <th>salary</th>\n",
       "    </tr>\n",
       "  </thead>\n",
       "  <tbody>\n",
       "    <tr>\n",
       "      <th>0</th>\n",
       "      <td>Prof</td>\n",
       "      <td>B</td>\n",
       "      <td>19</td>\n",
       "      <td>18</td>\n",
       "      <td>Male</td>\n",
       "      <td>139750</td>\n",
       "    </tr>\n",
       "    <tr>\n",
       "      <th>1</th>\n",
       "      <td>Prof</td>\n",
       "      <td>B</td>\n",
       "      <td>20</td>\n",
       "      <td>16</td>\n",
       "      <td>Male</td>\n",
       "      <td>173200</td>\n",
       "    </tr>\n",
       "    <tr>\n",
       "      <th>2</th>\n",
       "      <td>AsstProf</td>\n",
       "      <td>B</td>\n",
       "      <td>4</td>\n",
       "      <td>3</td>\n",
       "      <td>Male</td>\n",
       "      <td>79750</td>\n",
       "    </tr>\n",
       "    <tr>\n",
       "      <th>3</th>\n",
       "      <td>Prof</td>\n",
       "      <td>B</td>\n",
       "      <td>45</td>\n",
       "      <td>39</td>\n",
       "      <td>Male</td>\n",
       "      <td>115000</td>\n",
       "    </tr>\n",
       "    <tr>\n",
       "      <th>4</th>\n",
       "      <td>Prof</td>\n",
       "      <td>B</td>\n",
       "      <td>40</td>\n",
       "      <td>41</td>\n",
       "      <td>Male</td>\n",
       "      <td>141500</td>\n",
       "    </tr>\n",
       "    <tr>\n",
       "      <th>5</th>\n",
       "      <td>AssocProf</td>\n",
       "      <td>B</td>\n",
       "      <td>6</td>\n",
       "      <td>6</td>\n",
       "      <td>Male</td>\n",
       "      <td>97000</td>\n",
       "    </tr>\n",
       "    <tr>\n",
       "      <th>6</th>\n",
       "      <td>Prof</td>\n",
       "      <td>B</td>\n",
       "      <td>30</td>\n",
       "      <td>23</td>\n",
       "      <td>Male</td>\n",
       "      <td>175000</td>\n",
       "    </tr>\n",
       "  </tbody>\n",
       "</table>\n",
       "</div>"
      ],
      "text/plain": [
       "        rank discipline  yrs.since.phd  yrs.service   sex  salary\n",
       "0       Prof          B             19           18  Male  139750\n",
       "1       Prof          B             20           16  Male  173200\n",
       "2   AsstProf          B              4            3  Male   79750\n",
       "3       Prof          B             45           39  Male  115000\n",
       "4       Prof          B             40           41  Male  141500\n",
       "5  AssocProf          B              6            6  Male   97000\n",
       "6       Prof          B             30           23  Male  175000"
      ]
     },
     "execution_count": 3,
     "metadata": {},
     "output_type": "execute_result"
    }
   ],
   "source": [
    "df.head(7)"
   ]
  },
  {
   "cell_type": "code",
   "execution_count": 4,
   "metadata": {},
   "outputs": [
    {
     "data": {
      "text/html": [
       "<div>\n",
       "<style scoped>\n",
       "    .dataframe tbody tr th:only-of-type {\n",
       "        vertical-align: middle;\n",
       "    }\n",
       "\n",
       "    .dataframe tbody tr th {\n",
       "        vertical-align: top;\n",
       "    }\n",
       "\n",
       "    .dataframe thead th {\n",
       "        text-align: right;\n",
       "    }\n",
       "</style>\n",
       "<table border=\"1\" class=\"dataframe\">\n",
       "  <thead>\n",
       "    <tr style=\"text-align: right;\">\n",
       "      <th></th>\n",
       "      <th>rank</th>\n",
       "      <th>discipline</th>\n",
       "      <th>yrs.since.phd</th>\n",
       "      <th>yrs.service</th>\n",
       "      <th>sex</th>\n",
       "      <th>salary</th>\n",
       "    </tr>\n",
       "  </thead>\n",
       "  <tbody>\n",
       "    <tr>\n",
       "      <th>391</th>\n",
       "      <td>Prof</td>\n",
       "      <td>A</td>\n",
       "      <td>30</td>\n",
       "      <td>19</td>\n",
       "      <td>Male</td>\n",
       "      <td>151292</td>\n",
       "    </tr>\n",
       "    <tr>\n",
       "      <th>392</th>\n",
       "      <td>Prof</td>\n",
       "      <td>A</td>\n",
       "      <td>33</td>\n",
       "      <td>30</td>\n",
       "      <td>Male</td>\n",
       "      <td>103106</td>\n",
       "    </tr>\n",
       "    <tr>\n",
       "      <th>393</th>\n",
       "      <td>Prof</td>\n",
       "      <td>A</td>\n",
       "      <td>31</td>\n",
       "      <td>19</td>\n",
       "      <td>Male</td>\n",
       "      <td>150564</td>\n",
       "    </tr>\n",
       "    <tr>\n",
       "      <th>394</th>\n",
       "      <td>Prof</td>\n",
       "      <td>A</td>\n",
       "      <td>42</td>\n",
       "      <td>25</td>\n",
       "      <td>Male</td>\n",
       "      <td>101738</td>\n",
       "    </tr>\n",
       "    <tr>\n",
       "      <th>395</th>\n",
       "      <td>Prof</td>\n",
       "      <td>A</td>\n",
       "      <td>25</td>\n",
       "      <td>15</td>\n",
       "      <td>Male</td>\n",
       "      <td>95329</td>\n",
       "    </tr>\n",
       "    <tr>\n",
       "      <th>396</th>\n",
       "      <td>AsstProf</td>\n",
       "      <td>A</td>\n",
       "      <td>8</td>\n",
       "      <td>4</td>\n",
       "      <td>Male</td>\n",
       "      <td>81035</td>\n",
       "    </tr>\n",
       "  </tbody>\n",
       "</table>\n",
       "</div>"
      ],
      "text/plain": [
       "         rank discipline  yrs.since.phd  yrs.service   sex  salary\n",
       "391      Prof          A             30           19  Male  151292\n",
       "392      Prof          A             33           30  Male  103106\n",
       "393      Prof          A             31           19  Male  150564\n",
       "394      Prof          A             42           25  Male  101738\n",
       "395      Prof          A             25           15  Male   95329\n",
       "396  AsstProf          A              8            4  Male   81035"
      ]
     },
     "execution_count": 4,
     "metadata": {},
     "output_type": "execute_result"
    }
   ],
   "source": [
    "df.tail(6)"
   ]
  },
  {
   "cell_type": "code",
   "execution_count": 5,
   "metadata": {},
   "outputs": [
    {
     "data": {
      "text/html": [
       "<div>\n",
       "<style scoped>\n",
       "    .dataframe tbody tr th:only-of-type {\n",
       "        vertical-align: middle;\n",
       "    }\n",
       "\n",
       "    .dataframe tbody tr th {\n",
       "        vertical-align: top;\n",
       "    }\n",
       "\n",
       "    .dataframe thead th {\n",
       "        text-align: right;\n",
       "    }\n",
       "</style>\n",
       "<table border=\"1\" class=\"dataframe\">\n",
       "  <thead>\n",
       "    <tr style=\"text-align: right;\">\n",
       "      <th></th>\n",
       "      <th>yrs.since.phd</th>\n",
       "      <th>yrs.service</th>\n",
       "      <th>salary</th>\n",
       "    </tr>\n",
       "  </thead>\n",
       "  <tbody>\n",
       "    <tr>\n",
       "      <th>count</th>\n",
       "      <td>397.000000</td>\n",
       "      <td>397.000000</td>\n",
       "      <td>397.000000</td>\n",
       "    </tr>\n",
       "    <tr>\n",
       "      <th>mean</th>\n",
       "      <td>22.314861</td>\n",
       "      <td>17.614610</td>\n",
       "      <td>113706.458438</td>\n",
       "    </tr>\n",
       "    <tr>\n",
       "      <th>std</th>\n",
       "      <td>12.887003</td>\n",
       "      <td>13.006024</td>\n",
       "      <td>30289.038695</td>\n",
       "    </tr>\n",
       "    <tr>\n",
       "      <th>min</th>\n",
       "      <td>1.000000</td>\n",
       "      <td>0.000000</td>\n",
       "      <td>57800.000000</td>\n",
       "    </tr>\n",
       "    <tr>\n",
       "      <th>25%</th>\n",
       "      <td>12.000000</td>\n",
       "      <td>7.000000</td>\n",
       "      <td>91000.000000</td>\n",
       "    </tr>\n",
       "    <tr>\n",
       "      <th>50%</th>\n",
       "      <td>21.000000</td>\n",
       "      <td>16.000000</td>\n",
       "      <td>107300.000000</td>\n",
       "    </tr>\n",
       "    <tr>\n",
       "      <th>75%</th>\n",
       "      <td>32.000000</td>\n",
       "      <td>27.000000</td>\n",
       "      <td>134185.000000</td>\n",
       "    </tr>\n",
       "    <tr>\n",
       "      <th>max</th>\n",
       "      <td>56.000000</td>\n",
       "      <td>60.000000</td>\n",
       "      <td>231545.000000</td>\n",
       "    </tr>\n",
       "  </tbody>\n",
       "</table>\n",
       "</div>"
      ],
      "text/plain": [
       "       yrs.since.phd  yrs.service         salary\n",
       "count     397.000000   397.000000     397.000000\n",
       "mean       22.314861    17.614610  113706.458438\n",
       "std        12.887003    13.006024   30289.038695\n",
       "min         1.000000     0.000000   57800.000000\n",
       "25%        12.000000     7.000000   91000.000000\n",
       "50%        21.000000    16.000000  107300.000000\n",
       "75%        32.000000    27.000000  134185.000000\n",
       "max        56.000000    60.000000  231545.000000"
      ]
     },
     "execution_count": 5,
     "metadata": {},
     "output_type": "execute_result"
    }
   ],
   "source": [
    "df.describe()"
   ]
  },
  {
   "cell_type": "code",
   "execution_count": 6,
   "metadata": {},
   "outputs": [
    {
     "name": "stdout",
     "output_type": "stream",
     "text": [
      "<class 'pandas.core.frame.DataFrame'>\n",
      "RangeIndex: 397 entries, 0 to 396\n",
      "Data columns (total 6 columns):\n",
      " #   Column         Non-Null Count  Dtype \n",
      "---  ------         --------------  ----- \n",
      " 0   rank           397 non-null    object\n",
      " 1   discipline     397 non-null    object\n",
      " 2   yrs.since.phd  397 non-null    int64 \n",
      " 3   yrs.service    397 non-null    int64 \n",
      " 4   sex            397 non-null    object\n",
      " 5   salary         397 non-null    int64 \n",
      "dtypes: int64(3), object(3)\n",
      "memory usage: 18.7+ KB\n"
     ]
    }
   ],
   "source": [
    "df.info()"
   ]
  },
  {
   "cell_type": "code",
   "execution_count": 7,
   "metadata": {},
   "outputs": [
    {
     "data": {
      "text/html": [
       "<div>\n",
       "<style scoped>\n",
       "    .dataframe tbody tr th:only-of-type {\n",
       "        vertical-align: middle;\n",
       "    }\n",
       "\n",
       "    .dataframe tbody tr th {\n",
       "        vertical-align: top;\n",
       "    }\n",
       "\n",
       "    .dataframe thead th {\n",
       "        text-align: right;\n",
       "    }\n",
       "</style>\n",
       "<table border=\"1\" class=\"dataframe\">\n",
       "  <thead>\n",
       "    <tr style=\"text-align: right;\">\n",
       "      <th></th>\n",
       "      <th>rank</th>\n",
       "      <th>discipline</th>\n",
       "      <th>yrs.since.phd</th>\n",
       "      <th>yrs.service</th>\n",
       "      <th>sex</th>\n",
       "      <th>salary</th>\n",
       "    </tr>\n",
       "  </thead>\n",
       "  <tbody>\n",
       "    <tr>\n",
       "      <th>0</th>\n",
       "      <td>False</td>\n",
       "      <td>False</td>\n",
       "      <td>False</td>\n",
       "      <td>False</td>\n",
       "      <td>False</td>\n",
       "      <td>False</td>\n",
       "    </tr>\n",
       "    <tr>\n",
       "      <th>1</th>\n",
       "      <td>False</td>\n",
       "      <td>False</td>\n",
       "      <td>False</td>\n",
       "      <td>False</td>\n",
       "      <td>False</td>\n",
       "      <td>False</td>\n",
       "    </tr>\n",
       "    <tr>\n",
       "      <th>2</th>\n",
       "      <td>False</td>\n",
       "      <td>False</td>\n",
       "      <td>False</td>\n",
       "      <td>False</td>\n",
       "      <td>False</td>\n",
       "      <td>False</td>\n",
       "    </tr>\n",
       "    <tr>\n",
       "      <th>3</th>\n",
       "      <td>False</td>\n",
       "      <td>False</td>\n",
       "      <td>False</td>\n",
       "      <td>False</td>\n",
       "      <td>False</td>\n",
       "      <td>False</td>\n",
       "    </tr>\n",
       "    <tr>\n",
       "      <th>4</th>\n",
       "      <td>False</td>\n",
       "      <td>False</td>\n",
       "      <td>False</td>\n",
       "      <td>False</td>\n",
       "      <td>False</td>\n",
       "      <td>False</td>\n",
       "    </tr>\n",
       "    <tr>\n",
       "      <th>...</th>\n",
       "      <td>...</td>\n",
       "      <td>...</td>\n",
       "      <td>...</td>\n",
       "      <td>...</td>\n",
       "      <td>...</td>\n",
       "      <td>...</td>\n",
       "    </tr>\n",
       "    <tr>\n",
       "      <th>392</th>\n",
       "      <td>False</td>\n",
       "      <td>False</td>\n",
       "      <td>False</td>\n",
       "      <td>False</td>\n",
       "      <td>False</td>\n",
       "      <td>False</td>\n",
       "    </tr>\n",
       "    <tr>\n",
       "      <th>393</th>\n",
       "      <td>False</td>\n",
       "      <td>False</td>\n",
       "      <td>False</td>\n",
       "      <td>False</td>\n",
       "      <td>False</td>\n",
       "      <td>False</td>\n",
       "    </tr>\n",
       "    <tr>\n",
       "      <th>394</th>\n",
       "      <td>False</td>\n",
       "      <td>False</td>\n",
       "      <td>False</td>\n",
       "      <td>False</td>\n",
       "      <td>False</td>\n",
       "      <td>False</td>\n",
       "    </tr>\n",
       "    <tr>\n",
       "      <th>395</th>\n",
       "      <td>False</td>\n",
       "      <td>False</td>\n",
       "      <td>False</td>\n",
       "      <td>False</td>\n",
       "      <td>False</td>\n",
       "      <td>False</td>\n",
       "    </tr>\n",
       "    <tr>\n",
       "      <th>396</th>\n",
       "      <td>False</td>\n",
       "      <td>False</td>\n",
       "      <td>False</td>\n",
       "      <td>False</td>\n",
       "      <td>False</td>\n",
       "      <td>False</td>\n",
       "    </tr>\n",
       "  </tbody>\n",
       "</table>\n",
       "<p>397 rows × 6 columns</p>\n",
       "</div>"
      ],
      "text/plain": [
       "      rank  discipline  yrs.since.phd  yrs.service    sex  salary\n",
       "0    False       False          False        False  False   False\n",
       "1    False       False          False        False  False   False\n",
       "2    False       False          False        False  False   False\n",
       "3    False       False          False        False  False   False\n",
       "4    False       False          False        False  False   False\n",
       "..     ...         ...            ...          ...    ...     ...\n",
       "392  False       False          False        False  False   False\n",
       "393  False       False          False        False  False   False\n",
       "394  False       False          False        False  False   False\n",
       "395  False       False          False        False  False   False\n",
       "396  False       False          False        False  False   False\n",
       "\n",
       "[397 rows x 6 columns]"
      ]
     },
     "execution_count": 7,
     "metadata": {},
     "output_type": "execute_result"
    }
   ],
   "source": [
    "df.isnull()"
   ]
  },
  {
   "cell_type": "code",
   "execution_count": 8,
   "metadata": {},
   "outputs": [
    {
     "data": {
      "text/plain": [
       "rank             0\n",
       "discipline       0\n",
       "yrs.since.phd    0\n",
       "yrs.service      0\n",
       "sex              0\n",
       "salary           0\n",
       "dtype: int64"
      ]
     },
     "execution_count": 8,
     "metadata": {},
     "output_type": "execute_result"
    }
   ],
   "source": [
    "# Checking missing values\n",
    "\n",
    "df.isnull().sum()   "
   ]
  },
  {
   "cell_type": "code",
   "execution_count": 9,
   "metadata": {},
   "outputs": [
    {
     "data": {
      "text/plain": [
       "<matplotlib.axes._subplots.AxesSubplot at 0x22f14317748>"
      ]
     },
     "execution_count": 9,
     "metadata": {},
     "output_type": "execute_result"
    },
    {
     "data": {
      "image/png": "[encoded data removed]",
      "text/plain": [
       "<Figure size 432x288 with 2 Axes>"
      ]
     },
     "metadata": {
      "needs_background": "light"
     },
     "output_type": "display_data"
    }
   ],
   "source": [
    "sns.heatmap(df.isnull())"
   ]
  },
  {
   "cell_type": "code",
   "execution_count": 10,
   "metadata": {},
   "outputs": [
    {
     "data": {
      "text/html": [
       "<div>\n",
       "<style scoped>\n",
       "    .dataframe tbody tr th:only-of-type {\n",
       "        vertical-align: middle;\n",
       "    }\n",
       "\n",
       "    .dataframe tbody tr th {\n",
       "        vertical-align: top;\n",
       "    }\n",
       "\n",
       "    .dataframe thead th {\n",
       "        text-align: right;\n",
       "    }\n",
       "</style>\n",
       "<table border=\"1\" class=\"dataframe\">\n",
       "  <thead>\n",
       "    <tr style=\"text-align: right;\">\n",
       "      <th></th>\n",
       "      <th>yrs.since.phd</th>\n",
       "      <th>yrs.service</th>\n",
       "      <th>salary</th>\n",
       "    </tr>\n",
       "  </thead>\n",
       "  <tbody>\n",
       "    <tr>\n",
       "      <th>yrs.since.phd</th>\n",
       "      <td>1.000000</td>\n",
       "      <td>0.909649</td>\n",
       "      <td>0.419231</td>\n",
       "    </tr>\n",
       "    <tr>\n",
       "      <th>yrs.service</th>\n",
       "      <td>0.909649</td>\n",
       "      <td>1.000000</td>\n",
       "      <td>0.334745</td>\n",
       "    </tr>\n",
       "    <tr>\n",
       "      <th>salary</th>\n",
       "      <td>0.419231</td>\n",
       "      <td>0.334745</td>\n",
       "      <td>1.000000</td>\n",
       "    </tr>\n",
       "  </tbody>\n",
       "</table>\n",
       "</div>"
      ],
      "text/plain": [
       "               yrs.since.phd  yrs.service    salary\n",
       "yrs.since.phd       1.000000     0.909649  0.419231\n",
       "yrs.service         0.909649     1.000000  0.334745\n",
       "salary              0.419231     0.334745  1.000000"
      ]
     },
     "execution_count": 10,
     "metadata": {},
     "output_type": "execute_result"
    }
   ],
   "source": [
    "dfcorr=df.corr()\n",
    "dfcorr"
   ]
  },
  {
   "cell_type": "code",
   "execution_count": 11,
   "metadata": {},
   "outputs": [
    {
     "data": {
      "text/plain": [
       "<matplotlib.axes._subplots.AxesSubplot at 0x22f14b2db48>"
      ]
     },
     "execution_count": 11,
     "metadata": {},
     "output_type": "execute_result"
    },
    {
     "data": {
      "image/png": "[encoded data removed]",
      "text/plain": [
       "<Figure size 432x288 with 2 Axes>"
      ]
     },
     "metadata": {
      "needs_background": "light"
     },
     "output_type": "display_data"
    }
   ],
   "source": [
    "sns.heatmap(dfcorr,annot=True)"
   ]
  },
  {
   "cell_type": "markdown",
   "metadata": {},
   "source": [
    "# Visualization of data"
   ]
  },
  {
   "cell_type": "code",
   "execution_count": 12,
   "metadata": {},
   "outputs": [
    {
     "data": {
      "text/plain": [
       "<seaborn.axisgrid.PairGrid at 0x22f14b1aa08>"
      ]
     },
     "execution_count": 12,
     "metadata": {},
     "output_type": "execute_result"
    },
    {
     "data": {
      "image/png": "[encoded data removed]",
      "text/plain": [
       "<Figure size 540x540 with 12 Axes>"
      ]
     },
     "metadata": {
      "needs_background": "light"
     },
     "output_type": "display_data"
    }
   ],
   "source": [
    "sns.pairplot(df)"
   ]
  },
  {
   "cell_type": "code",
   "execution_count": 13,
   "metadata": {},
   "outputs": [
    {
     "data": {
      "text/plain": [
       "yrs.since.phd       AxesSubplot(0.125,0.536818;0.352273x0.343182)\n",
       "yrs.service      AxesSubplot(0.547727,0.536818;0.352273x0.343182)\n",
       "salary                 AxesSubplot(0.125,0.125;0.352273x0.343182)\n",
       "dtype: object"
      ]
     },
     "execution_count": 13,
     "metadata": {},
     "output_type": "execute_result"
    },
    {
     "data": {
      "image/png": "[encoded data removed]",
      "text/plain": [
       "<Figure size 504x504 with 4 Axes>"
      ]
     },
     "metadata": {
      "needs_background": "light"
     },
     "output_type": "display_data"
    }
   ],
   "source": [
    "df.plot(kind='box', subplots=True, layout=(2,2), figsize=(7,7))"
   ]
  },
  {
   "cell_type": "code",
   "execution_count": 14,
   "metadata": {},
   "outputs": [
    {
     "data": {
      "text/plain": [
       "array([[<matplotlib.axes._subplots.AxesSubplot object at 0x0000022F1551CE08>,\n",
       "        <matplotlib.axes._subplots.AxesSubplot object at 0x0000022F15568A08>],\n",
       "       [<matplotlib.axes._subplots.AxesSubplot object at 0x0000022F15544F48>,\n",
       "        <matplotlib.axes._subplots.AxesSubplot object at 0x0000022F155D1108>]],\n",
       "      dtype=object)"
      ]
     },
     "execution_count": 14,
     "metadata": {},
     "output_type": "execute_result"
    },
    {
     "data": {
      "image/png": "[encoded data removed]",
      "text/plain": [
       "<Figure size 504x504 with 4 Axes>"
      ]
     },
     "metadata": {
      "needs_background": "light"
     },
     "output_type": "display_data"
    }
   ],
   "source": [
    "df.plot(kind='kde', subplots=True, layout=(2,2), figsize=(7,7))"
   ]
  },
  {
   "cell_type": "code",
   "execution_count": 15,
   "metadata": {
    "scrolled": true
   },
   "outputs": [
    {
     "data": {
      "text/plain": [
       "<matplotlib.axes._subplots.AxesSubplot at 0x22f15623b88>"
      ]
     },
     "execution_count": 15,
     "metadata": {},
     "output_type": "execute_result"
    },
    {
     "data": {
      "image/png": "[encoded data removed]",
      "text/plain": [
       "<Figure size 432x288 with 1 Axes>"
      ]
     },
     "metadata": {
      "needs_background": "light"
     },
     "output_type": "display_data"
    }
   ],
   "source": [
    "sns.scatterplot(x=\"yrs.since.phd\",y=\"salary\",data=df)"
   ]
  },
  {
   "cell_type": "code",
   "execution_count": 16,
   "metadata": {},
   "outputs": [
    {
     "data": {
      "text/plain": [
       "<matplotlib.axes._subplots.AxesSubplot at 0x22f156b1888>"
      ]
     },
     "execution_count": 16,
     "metadata": {},
     "output_type": "execute_result"
    },
    {
     "data": {
      "image/png": "[encoded data removed]",
      "text/plain": [
       "<Figure size 432x288 with 1 Axes>"
      ]
     },
     "metadata": {
      "needs_background": "light"
     },
     "output_type": "display_data"
    }
   ],
   "source": [
    "sns.scatterplot(x=\"yrs.service\",y=\"salary\",data=df, color=\"Green\")"
   ]
  },
  {
   "cell_type": "code",
   "execution_count": 17,
   "metadata": {},
   "outputs": [
    {
     "data": {
      "text/plain": [
       "<matplotlib.axes._subplots.AxesSubplot at 0x22f1578cac8>"
      ]
     },
     "execution_count": 17,
     "metadata": {},
     "output_type": "execute_result"
    },
    {
     "data": {
      "image/png": "[encoded data removed]",
      "text/plain": [
       "<Figure size 432x288 with 1 Axes>"
      ]
     },
     "metadata": {
      "needs_background": "light"
     },
     "output_type": "display_data"
    }
   ],
   "source": [
    "sns.countplot(df['sex'])"
   ]
  },
  {
   "cell_type": "markdown",
   "metadata": {},
   "source": [
    "### Removing Outlier"
   ]
  },
  {
   "cell_type": "code",
   "execution_count": 18,
   "metadata": {},
   "outputs": [],
   "source": [
    "from scipy.stats import zscore"
   ]
  },
  {
   "cell_type": "code",
   "execution_count": 19,
   "metadata": {},
   "outputs": [
    {
     "data": {
      "text/html": [
       "<div>\n",
       "<style scoped>\n",
       "    .dataframe tbody tr th:only-of-type {\n",
       "        vertical-align: middle;\n",
       "    }\n",
       "\n",
       "    .dataframe tbody tr th {\n",
       "        vertical-align: top;\n",
       "    }\n",
       "\n",
       "    .dataframe thead th {\n",
       "        text-align: right;\n",
       "    }\n",
       "</style>\n",
       "<table border=\"1\" class=\"dataframe\">\n",
       "  <thead>\n",
       "    <tr style=\"text-align: right;\">\n",
       "      <th></th>\n",
       "      <th>yrs.since.phd</th>\n",
       "      <th>yrs.service</th>\n",
       "      <th>salary</th>\n",
       "    </tr>\n",
       "  </thead>\n",
       "  <tbody>\n",
       "    <tr>\n",
       "      <th>0</th>\n",
       "      <td>19</td>\n",
       "      <td>18</td>\n",
       "      <td>139750</td>\n",
       "    </tr>\n",
       "    <tr>\n",
       "      <th>1</th>\n",
       "      <td>20</td>\n",
       "      <td>16</td>\n",
       "      <td>173200</td>\n",
       "    </tr>\n",
       "    <tr>\n",
       "      <th>2</th>\n",
       "      <td>4</td>\n",
       "      <td>3</td>\n",
       "      <td>79750</td>\n",
       "    </tr>\n",
       "    <tr>\n",
       "      <th>3</th>\n",
       "      <td>45</td>\n",
       "      <td>39</td>\n",
       "      <td>115000</td>\n",
       "    </tr>\n",
       "    <tr>\n",
       "      <th>4</th>\n",
       "      <td>40</td>\n",
       "      <td>41</td>\n",
       "      <td>141500</td>\n",
       "    </tr>\n",
       "    <tr>\n",
       "      <th>...</th>\n",
       "      <td>...</td>\n",
       "      <td>...</td>\n",
       "      <td>...</td>\n",
       "    </tr>\n",
       "    <tr>\n",
       "      <th>392</th>\n",
       "      <td>33</td>\n",
       "      <td>30</td>\n",
       "      <td>103106</td>\n",
       "    </tr>\n",
       "    <tr>\n",
       "      <th>393</th>\n",
       "      <td>31</td>\n",
       "      <td>19</td>\n",
       "      <td>150564</td>\n",
       "    </tr>\n",
       "    <tr>\n",
       "      <th>394</th>\n",
       "      <td>42</td>\n",
       "      <td>25</td>\n",
       "      <td>101738</td>\n",
       "    </tr>\n",
       "    <tr>\n",
       "      <th>395</th>\n",
       "      <td>25</td>\n",
       "      <td>15</td>\n",
       "      <td>95329</td>\n",
       "    </tr>\n",
       "    <tr>\n",
       "      <th>396</th>\n",
       "      <td>8</td>\n",
       "      <td>4</td>\n",
       "      <td>81035</td>\n",
       "    </tr>\n",
       "  </tbody>\n",
       "</table>\n",
       "<p>397 rows × 3 columns</p>\n",
       "</div>"
      ],
      "text/plain": [
       "     yrs.since.phd  yrs.service  salary\n",
       "0               19           18  139750\n",
       "1               20           16  173200\n",
       "2                4            3   79750\n",
       "3               45           39  115000\n",
       "4               40           41  141500\n",
       "..             ...          ...     ...\n",
       "392             33           30  103106\n",
       "393             31           19  150564\n",
       "394             42           25  101738\n",
       "395             25           15   95329\n",
       "396              8            4   81035\n",
       "\n",
       "[397 rows x 3 columns]"
      ]
     },
     "execution_count": 19,
     "metadata": {},
     "output_type": "execute_result"
    }
   ],
   "source": [
    "df_new=df.drop(columns=['rank','discipline','sex'])\n",
    "df_new"
   ]
  },
  {
   "cell_type": "code",
   "execution_count": 20,
   "metadata": {},
   "outputs": [
    {
     "data": {
      "text/plain": [
       "array([[-0.25754973,  0.02966908,  0.86091884],\n",
       "       [-0.17985426, -0.12429986,  1.96667226],\n",
       "       [-1.42298184, -1.12509795, -1.12249537],\n",
       "       ...,\n",
       "       [ 1.52944617,  0.56856036, -0.39564018],\n",
       "       [ 0.20862311, -0.20128433, -0.60750187],\n",
       "       [-1.11219995, -1.04811348, -1.08001725]])"
      ]
     },
     "execution_count": 20,
     "metadata": {},
     "output_type": "execute_result"
    }
   ],
   "source": [
    "zscore(df_new)"
   ]
  },
  {
   "cell_type": "code",
   "execution_count": 21,
   "metadata": {},
   "outputs": [
    {
     "data": {
      "text/plain": [
       "array([[0.25754973, 0.02966908, 0.86091884],\n",
       "       [0.17985426, 0.12429986, 1.96667226],\n",
       "       [1.42298184, 1.12509795, 1.12249537],\n",
       "       ...,\n",
       "       [1.52944617, 0.56856036, 0.39564018],\n",
       "       [0.20862311, 0.20128433, 0.60750187],\n",
       "       [1.11219995, 1.04811348, 1.08001725]])"
      ]
     },
     "execution_count": 21,
     "metadata": {},
     "output_type": "execute_result"
    }
   ],
   "source": [
    "z=np.abs(zscore(df_new))\n",
    "z"
   ]
  },
  {
   "cell_type": "code",
   "execution_count": 22,
   "metadata": {},
   "outputs": [
    {
     "name": "stdout",
     "output_type": "stream",
     "text": [
      "(array([ 43, 131, 330, 364], dtype=int64), array([2, 1, 1, 2], dtype=int64))\n"
     ]
    }
   ],
   "source": [
    "threshold=3\n",
    "print(np.where(z>3))"
   ]
  },
  {
   "cell_type": "code",
   "execution_count": 23,
   "metadata": {},
   "outputs": [
    {
     "data": {
      "text/plain": [
       "1.569358449995484"
      ]
     },
     "execution_count": 23,
     "metadata": {},
     "output_type": "execute_result"
    }
   ],
   "source": [
    "z[43][1]"
   ]
  },
  {
   "cell_type": "code",
   "execution_count": 24,
   "metadata": {},
   "outputs": [
    {
     "data": {
      "text/plain": [
       "1.218690960094809"
      ]
     },
     "execution_count": 24,
     "metadata": {},
     "output_type": "execute_result"
    }
   ],
   "source": [
    "z[131][2]"
   ]
  },
  {
   "cell_type": "code",
   "execution_count": 25,
   "metadata": {},
   "outputs": [
    {
     "data": {
      "text/plain": [
       "4"
      ]
     },
     "execution_count": 25,
     "metadata": {},
     "output_type": "execute_result"
    }
   ],
   "source": [
    "len(np.where(z>3)[0])"
   ]
  },
  {
   "cell_type": "markdown",
   "metadata": {},
   "source": [
    " 4 Outliers are present in data, let's remove the outliers"
   ]
  },
  {
   "cell_type": "code",
   "execution_count": 26,
   "metadata": {},
   "outputs": [
    {
     "data": {
      "text/html": [
       "<div>\n",
       "<style scoped>\n",
       "    .dataframe tbody tr th:only-of-type {\n",
       "        vertical-align: middle;\n",
       "    }\n",
       "\n",
       "    .dataframe tbody tr th {\n",
       "        vertical-align: top;\n",
       "    }\n",
       "\n",
       "    .dataframe thead th {\n",
       "        text-align: right;\n",
       "    }\n",
       "</style>\n",
       "<table border=\"1\" class=\"dataframe\">\n",
       "  <thead>\n",
       "    <tr style=\"text-align: right;\">\n",
       "      <th></th>\n",
       "      <th>yrs.since.phd</th>\n",
       "      <th>yrs.service</th>\n",
       "      <th>salary</th>\n",
       "    </tr>\n",
       "  </thead>\n",
       "  <tbody>\n",
       "    <tr>\n",
       "      <th>0</th>\n",
       "      <td>19</td>\n",
       "      <td>18</td>\n",
       "      <td>139750</td>\n",
       "    </tr>\n",
       "    <tr>\n",
       "      <th>1</th>\n",
       "      <td>20</td>\n",
       "      <td>16</td>\n",
       "      <td>173200</td>\n",
       "    </tr>\n",
       "    <tr>\n",
       "      <th>2</th>\n",
       "      <td>4</td>\n",
       "      <td>3</td>\n",
       "      <td>79750</td>\n",
       "    </tr>\n",
       "    <tr>\n",
       "      <th>3</th>\n",
       "      <td>45</td>\n",
       "      <td>39</td>\n",
       "      <td>115000</td>\n",
       "    </tr>\n",
       "    <tr>\n",
       "      <th>4</th>\n",
       "      <td>40</td>\n",
       "      <td>41</td>\n",
       "      <td>141500</td>\n",
       "    </tr>\n",
       "    <tr>\n",
       "      <th>...</th>\n",
       "      <td>...</td>\n",
       "      <td>...</td>\n",
       "      <td>...</td>\n",
       "    </tr>\n",
       "    <tr>\n",
       "      <th>392</th>\n",
       "      <td>33</td>\n",
       "      <td>30</td>\n",
       "      <td>103106</td>\n",
       "    </tr>\n",
       "    <tr>\n",
       "      <th>393</th>\n",
       "      <td>31</td>\n",
       "      <td>19</td>\n",
       "      <td>150564</td>\n",
       "    </tr>\n",
       "    <tr>\n",
       "      <th>394</th>\n",
       "      <td>42</td>\n",
       "      <td>25</td>\n",
       "      <td>101738</td>\n",
       "    </tr>\n",
       "    <tr>\n",
       "      <th>395</th>\n",
       "      <td>25</td>\n",
       "      <td>15</td>\n",
       "      <td>95329</td>\n",
       "    </tr>\n",
       "    <tr>\n",
       "      <th>396</th>\n",
       "      <td>8</td>\n",
       "      <td>4</td>\n",
       "      <td>81035</td>\n",
       "    </tr>\n",
       "  </tbody>\n",
       "</table>\n",
       "<p>393 rows × 3 columns</p>\n",
       "</div>"
      ],
      "text/plain": [
       "     yrs.since.phd  yrs.service  salary\n",
       "0               19           18  139750\n",
       "1               20           16  173200\n",
       "2                4            3   79750\n",
       "3               45           39  115000\n",
       "4               40           41  141500\n",
       "..             ...          ...     ...\n",
       "392             33           30  103106\n",
       "393             31           19  150564\n",
       "394             42           25  101738\n",
       "395             25           15   95329\n",
       "396              8            4   81035\n",
       "\n",
       "[393 rows x 3 columns]"
      ]
     },
     "execution_count": 26,
     "metadata": {},
     "output_type": "execute_result"
    }
   ],
   "source": [
    "df_new.drop([ 43, 131, 330, 364],axis=0)"
   ]
  },
  {
   "cell_type": "code",
   "execution_count": 27,
   "metadata": {},
   "outputs": [
    {
     "data": {
      "text/html": [
       "<div>\n",
       "<style scoped>\n",
       "    .dataframe tbody tr th:only-of-type {\n",
       "        vertical-align: middle;\n",
       "    }\n",
       "\n",
       "    .dataframe tbody tr th {\n",
       "        vertical-align: top;\n",
       "    }\n",
       "\n",
       "    .dataframe thead th {\n",
       "        text-align: right;\n",
       "    }\n",
       "</style>\n",
       "<table border=\"1\" class=\"dataframe\">\n",
       "  <thead>\n",
       "    <tr style=\"text-align: right;\">\n",
       "      <th></th>\n",
       "      <th>yrs.since.phd</th>\n",
       "      <th>yrs.service</th>\n",
       "      <th>salary</th>\n",
       "    </tr>\n",
       "  </thead>\n",
       "  <tbody>\n",
       "    <tr>\n",
       "      <th>0</th>\n",
       "      <td>19</td>\n",
       "      <td>18</td>\n",
       "      <td>139750</td>\n",
       "    </tr>\n",
       "    <tr>\n",
       "      <th>1</th>\n",
       "      <td>20</td>\n",
       "      <td>16</td>\n",
       "      <td>173200</td>\n",
       "    </tr>\n",
       "    <tr>\n",
       "      <th>2</th>\n",
       "      <td>4</td>\n",
       "      <td>3</td>\n",
       "      <td>79750</td>\n",
       "    </tr>\n",
       "    <tr>\n",
       "      <th>3</th>\n",
       "      <td>45</td>\n",
       "      <td>39</td>\n",
       "      <td>115000</td>\n",
       "    </tr>\n",
       "    <tr>\n",
       "      <th>4</th>\n",
       "      <td>40</td>\n",
       "      <td>41</td>\n",
       "      <td>141500</td>\n",
       "    </tr>\n",
       "    <tr>\n",
       "      <th>...</th>\n",
       "      <td>...</td>\n",
       "      <td>...</td>\n",
       "      <td>...</td>\n",
       "    </tr>\n",
       "    <tr>\n",
       "      <th>392</th>\n",
       "      <td>33</td>\n",
       "      <td>30</td>\n",
       "      <td>103106</td>\n",
       "    </tr>\n",
       "    <tr>\n",
       "      <th>393</th>\n",
       "      <td>31</td>\n",
       "      <td>19</td>\n",
       "      <td>150564</td>\n",
       "    </tr>\n",
       "    <tr>\n",
       "      <th>394</th>\n",
       "      <td>42</td>\n",
       "      <td>25</td>\n",
       "      <td>101738</td>\n",
       "    </tr>\n",
       "    <tr>\n",
       "      <th>395</th>\n",
       "      <td>25</td>\n",
       "      <td>15</td>\n",
       "      <td>95329</td>\n",
       "    </tr>\n",
       "    <tr>\n",
       "      <th>396</th>\n",
       "      <td>8</td>\n",
       "      <td>4</td>\n",
       "      <td>81035</td>\n",
       "    </tr>\n",
       "  </tbody>\n",
       "</table>\n",
       "<p>393 rows × 3 columns</p>\n",
       "</div>"
      ],
      "text/plain": [
       "     yrs.since.phd  yrs.service  salary\n",
       "0               19           18  139750\n",
       "1               20           16  173200\n",
       "2                4            3   79750\n",
       "3               45           39  115000\n",
       "4               40           41  141500\n",
       "..             ...          ...     ...\n",
       "392             33           30  103106\n",
       "393             31           19  150564\n",
       "394             42           25  101738\n",
       "395             25           15   95329\n",
       "396              8            4   81035\n",
       "\n",
       "[393 rows x 3 columns]"
      ]
     },
     "execution_count": 27,
     "metadata": {},
     "output_type": "execute_result"
    }
   ],
   "source": [
    "dfs=df_new[(z<3).all(axis=1)]\n",
    "dfs"
   ]
  },
  {
   "cell_type": "code",
   "execution_count": 28,
   "metadata": {},
   "outputs": [
    {
     "data": {
      "text/html": [
       "<div>\n",
       "<style scoped>\n",
       "    .dataframe tbody tr th:only-of-type {\n",
       "        vertical-align: middle;\n",
       "    }\n",
       "\n",
       "    .dataframe tbody tr th {\n",
       "        vertical-align: top;\n",
       "    }\n",
       "\n",
       "    .dataframe thead th {\n",
       "        text-align: right;\n",
       "    }\n",
       "</style>\n",
       "<table border=\"1\" class=\"dataframe\">\n",
       "  <thead>\n",
       "    <tr style=\"text-align: right;\">\n",
       "      <th></th>\n",
       "      <th>yrs.since.phd</th>\n",
       "      <th>yrs.service</th>\n",
       "    </tr>\n",
       "  </thead>\n",
       "  <tbody>\n",
       "    <tr>\n",
       "      <th>0</th>\n",
       "      <td>19</td>\n",
       "      <td>18</td>\n",
       "    </tr>\n",
       "    <tr>\n",
       "      <th>1</th>\n",
       "      <td>20</td>\n",
       "      <td>16</td>\n",
       "    </tr>\n",
       "    <tr>\n",
       "      <th>2</th>\n",
       "      <td>4</td>\n",
       "      <td>3</td>\n",
       "    </tr>\n",
       "    <tr>\n",
       "      <th>3</th>\n",
       "      <td>45</td>\n",
       "      <td>39</td>\n",
       "    </tr>\n",
       "    <tr>\n",
       "      <th>4</th>\n",
       "      <td>40</td>\n",
       "      <td>41</td>\n",
       "    </tr>\n",
       "    <tr>\n",
       "      <th>...</th>\n",
       "      <td>...</td>\n",
       "      <td>...</td>\n",
       "    </tr>\n",
       "    <tr>\n",
       "      <th>392</th>\n",
       "      <td>33</td>\n",
       "      <td>30</td>\n",
       "    </tr>\n",
       "    <tr>\n",
       "      <th>393</th>\n",
       "      <td>31</td>\n",
       "      <td>19</td>\n",
       "    </tr>\n",
       "    <tr>\n",
       "      <th>394</th>\n",
       "      <td>42</td>\n",
       "      <td>25</td>\n",
       "    </tr>\n",
       "    <tr>\n",
       "      <th>395</th>\n",
       "      <td>25</td>\n",
       "      <td>15</td>\n",
       "    </tr>\n",
       "    <tr>\n",
       "      <th>396</th>\n",
       "      <td>8</td>\n",
       "      <td>4</td>\n",
       "    </tr>\n",
       "  </tbody>\n",
       "</table>\n",
       "<p>393 rows × 2 columns</p>\n",
       "</div>"
      ],
      "text/plain": [
       "     yrs.since.phd  yrs.service\n",
       "0               19           18\n",
       "1               20           16\n",
       "2                4            3\n",
       "3               45           39\n",
       "4               40           41\n",
       "..             ...          ...\n",
       "392             33           30\n",
       "393             31           19\n",
       "394             42           25\n",
       "395             25           15\n",
       "396              8            4\n",
       "\n",
       "[393 rows x 2 columns]"
      ]
     },
     "execution_count": 28,
     "metadata": {},
     "output_type": "execute_result"
    }
   ],
   "source": [
    "x=dfs.drop(columns=['salary'])\n",
    "x"
   ]
  },
  {
   "cell_type": "code",
   "execution_count": 29,
   "metadata": {},
   "outputs": [
    {
     "data": {
      "text/plain": [
       "0      139750\n",
       "1      173200\n",
       "2       79750\n",
       "3      115000\n",
       "4      141500\n",
       "        ...  \n",
       "392    103106\n",
       "393    150564\n",
       "394    101738\n",
       "395     95329\n",
       "396     81035\n",
       "Name: salary, Length: 393, dtype: int64"
      ]
     },
     "execution_count": 29,
     "metadata": {},
     "output_type": "execute_result"
    }
   ],
   "source": [
    "y=dfs['salary']\n",
    "y"
   ]
  },
  {
   "cell_type": "code",
   "execution_count": 30,
   "metadata": {},
   "outputs": [],
   "source": [
    "\n",
    "from sklearn.preprocessing import StandardScaler"
   ]
  },
  {
   "cell_type": "code",
   "execution_count": 31,
   "metadata": {},
   "outputs": [
    {
     "name": "stdout",
     "output_type": "stream",
     "text": [
      "[[-0.24194678  0.05627813]\n",
      " [-0.16310343 -0.10226886]\n",
      " [-1.42459711 -1.13282426]\n",
      " [ 1.80798045  1.72102147]\n",
      " [ 1.41376367  1.87956846]\n",
      " [-1.2669104  -0.89500378]\n",
      " [ 0.62533012  0.45264559]\n",
      " [ 1.80798045  2.19666243]\n",
      " [-0.08426007  0.21482511]\n",
      " [-0.32079014  0.05627813]\n",
      " [-0.79385027 -0.7364568 ]\n",
      " [-1.18806704 -1.21209775]\n",
      " [-1.66112717 -1.29137124]\n",
      " [-1.58228382 -1.37064474]\n",
      " [-0.16310343  0.05627813]\n",
      " [-0.79385027 -1.13282426]\n",
      " [-0.24194678  0.21482511]\n",
      " [ 1.25607696  1.32465401]\n",
      " [ 1.17723361  0.45264559]\n",
      " [ 1.33492032  1.48320099]\n",
      " [ 0.70417348  0.69046607]\n",
      " [ 1.09839025  1.08683353]\n",
      " [ 0.94070354  1.00756004]\n",
      " [ 0.15226999  0.13555162]\n",
      " [-0.71500691 -0.7364568 ]\n",
      " [-0.08426007 -0.7364568 ]\n",
      " [ 1.0195469   0.45264559]\n",
      " [-1.34575375 -1.13282426]\n",
      " [-0.87269362 -1.37064474]\n",
      " [-0.79385027 -0.7364568 ]\n",
      " [-0.16310343 -1.05355077]\n",
      " [-1.18806704 -1.21209775]\n",
      " [-0.71500691 -0.6571833 ]\n",
      " [-1.42459711 -1.21209775]\n",
      " [-1.42459711 -1.21209775]\n",
      " [-1.34575375 -1.37064474]\n",
      " [-0.00541672  0.29409861]\n",
      " [-1.18806704 -1.05355077]\n",
      " [ 1.49260703  1.08683353]\n",
      " [-1.03038033 -0.6571833 ]\n",
      " [ 0.07342664 -1.21209775]\n",
      " [ 0.07342664  0.45264559]\n",
      " [ 1.41376367  0.76973956]\n",
      " [-0.24194678  0.13555162]\n",
      " [ 0.23111335 -0.18154235]\n",
      " [ 1.41376367  0.84901305]\n",
      " [ 0.07342664  0.13555162]\n",
      " [ 0.23111335  0.61119258]\n",
      " [-1.66112717 -1.29137124]\n",
      " [ 0.46764341  0.84901305]\n",
      " [-0.79385027 -0.49863632]\n",
      " [-0.87269362 -1.13282426]\n",
      " [-0.47847685 -0.6571833 ]\n",
      " [-0.79385027 -0.49863632]\n",
      " [-0.63616356 -0.97427727]\n",
      " [ 0.07342664  0.29409861]\n",
      " [-1.03038033 -0.7364568 ]\n",
      " [-0.95153698 -0.6571833 ]\n",
      " [-1.10922369 -1.13282426]\n",
      " [-1.03038033 -0.7364568 ]\n",
      " [-1.50344046 -1.21209775]\n",
      " [ 0.86186019  1.08683353]\n",
      " [-0.87269362 -0.49863632]\n",
      " [-1.42459711 -1.13282426]\n",
      " [-1.03038033 -0.7364568 ]\n",
      " [-0.00541672 -0.41936283]\n",
      " [ 1.0195469   1.08683353]\n",
      " [-0.39963349 -0.02299536]\n",
      " [ 0.46764341  1.48320099]\n",
      " [-0.39963349 -1.21209775]\n",
      " [ 1.80798045  2.19666243]\n",
      " [ 0.54648677  0.13555162]\n",
      " [ 1.0195469   1.32465401]\n",
      " [ 0.46764341  0.45264559]\n",
      " [-1.10922369 -1.13282426]\n",
      " [-0.39963349 -1.13282426]\n",
      " [ 0.3099567   0.13555162]\n",
      " [-1.50344046 -1.29137124]\n",
      " [-1.2669104  -1.21209775]\n",
      " [ 1.65029374  0.84901305]\n",
      " [-0.39963349 -0.10226886]\n",
      " [-0.00541672  0.21482511]\n",
      " [-1.2669104  -1.21209775]\n",
      " [-0.39963349  0.05627813]\n",
      " [-0.5573202  -0.26081584]\n",
      " [ 1.17723361  1.56247449]\n",
      " [-1.58228382 -1.21209775]\n",
      " [ 0.23111335  0.61119258]\n",
      " [-1.03038033 -0.81573029]\n",
      " [-0.95153698 -0.97427727]\n",
      " [-0.95153698 -0.81573029]\n",
      " [-0.95153698 -0.81573029]\n",
      " [ 1.25607696  1.64174798]\n",
      " [-0.08426007  0.21482511]\n",
      " [-1.42459711 -1.37064474]\n",
      " [-0.39963349 -0.41936283]\n",
      " [-0.71500691 -0.81573029]\n",
      " [ 0.62533012 -0.26081584]\n",
      " [ 1.49260703  0.69046607]\n",
      " [ 1.57145038  0.61119258]\n",
      " [ 0.46764341  0.45264559]\n",
      " [-0.47847685 -0.97427727]\n",
      " [-0.16310343 -0.26081584]\n",
      " [-0.32079014 -0.57790981]\n",
      " [ 0.70417348  0.84901305]\n",
      " [-0.87269362 -0.7364568 ]\n",
      " [-0.95153698 -0.7364568 ]\n",
      " [-0.5573202  -0.7364568 ]\n",
      " [ 1.41376367  1.08683353]\n",
      " [-0.16310343 -0.10226886]\n",
      " [-0.24194678 -0.10226886]\n",
      " [-1.50344046 -1.29137124]\n",
      " [ 1.17723361  1.56247449]\n",
      " [-0.79385027 -1.37064474]\n",
      " [-0.08426007 -0.6571833 ]\n",
      " [ 0.62533012  0.92828655]\n",
      " [ 1.33492032  1.48320099]\n",
      " [-1.42459711 -1.29137124]\n",
      " [-1.34575375 -1.13282426]\n",
      " [-0.63616356 -0.26081584]\n",
      " [ 0.78301683  1.16610702]\n",
      " [ 0.15226999  0.3733721 ]\n",
      " [ 0.23111335  0.3733721 ]\n",
      " [ 0.15226999  0.3733721 ]\n",
      " [ 2.51757064  2.5137564 ]\n",
      " [ 0.46764341  0.69046607]\n",
      " [-1.58228382 -1.37064474]\n",
      " [ 0.78301683  1.00756004]\n",
      " [-1.42459711 -1.21209775]\n",
      " [-0.87269362 -0.6571833 ]\n",
      " [-0.95153698 -0.7364568 ]\n",
      " [-1.50344046 -1.29137124]\n",
      " [ 1.0195469   0.61119258]\n",
      " [-0.16310343  0.05627813]\n",
      " [-0.47847685 -0.26081584]\n",
      " [-0.39963349 -0.26081584]\n",
      " [-0.95153698 -0.81573029]\n",
      " [-0.08426007  0.05627813]\n",
      " [-0.63616356 -0.7364568 ]\n",
      " [-0.5573202  -0.57790981]\n",
      " [-0.24194678 -0.49863632]\n",
      " [-1.50344046 -1.13282426]\n",
      " [ 0.38880006  0.76973956]\n",
      " [ 0.46764341  0.84901305]\n",
      " [-1.42459711 -1.05355077]\n",
      " [ 0.38880006  0.76973956]\n",
      " [ 1.09839025  0.69046607]\n",
      " [-1.42459711 -1.13282426]\n",
      " [-0.63616356 -0.41936283]\n",
      " [-1.42459711 -1.05355077]\n",
      " [-0.08426007 -0.6571833 ]\n",
      " [-0.79385027 -0.57790981]\n",
      " [-1.42459711 -1.37064474]\n",
      " [-0.08426007  0.29409861]\n",
      " [-0.79385027  0.05627813]\n",
      " [-1.66112717 -1.37064474]\n",
      " [-1.2669104  -0.89500378]\n",
      " [-0.5573202  -0.10226886]\n",
      " [-1.58228382 -1.21209775]\n",
      " [ 0.3099567   0.13555162]\n",
      " [-0.00541672 -0.81573029]\n",
      " [-1.50344046 -1.13282426]\n",
      " [-1.66112717 -1.37064474]\n",
      " [-0.08426007 -0.7364568 ]\n",
      " [-0.47847685 -0.10226886]\n",
      " [-0.32079014  0.13555162]\n",
      " [-1.10922369 -0.89500378]\n",
      " [ 0.23111335  0.05627813]\n",
      " [-1.34575375 -0.97427727]\n",
      " [-0.24194678  0.13555162]\n",
      " [ 1.17723361  0.53191908]\n",
      " [-0.16310343  0.21482511]\n",
      " [-0.39963349 -0.89500378]\n",
      " [ 0.46764341  0.61119258]\n",
      " [-0.95153698 -0.81573029]\n",
      " [-0.71500691 -0.6571833 ]\n",
      " [ 0.38880006 -0.26081584]\n",
      " [-1.50344046 -1.13282426]\n",
      " [-0.87269362 -0.49863632]\n",
      " [-0.32079014 -0.97427727]\n",
      " [-1.10922369 -0.7364568 ]\n",
      " [ 0.3099567   0.3733721 ]\n",
      " [ 0.07342664  0.45264559]\n",
      " [ 0.86186019  1.00756004]\n",
      " [-0.71500691 -0.57790981]\n",
      " [-0.32079014 -0.57790981]\n",
      " [ 0.46764341  0.84901305]\n",
      " [ 0.23111335  0.13555162]\n",
      " [-0.00541672 -0.6571833 ]\n",
      " [ 1.65029374  0.3733721 ]\n",
      " [-0.24194678  0.05627813]\n",
      " [-0.24194678  0.13555162]\n",
      " [ 2.04451051  2.83085037]\n",
      " [-1.03038033 -0.81573029]\n",
      " [-1.42459711 -1.05355077]\n",
      " [-1.42459711 -1.05355077]\n",
      " [ 0.94070354  1.24538052]\n",
      " [ 1.25607696  0.3733721 ]\n",
      " [-1.42459711 -1.05355077]\n",
      " [ 1.41376367  1.80029496]\n",
      " [ 0.46764341 -0.02299536]\n",
      " [-0.39963349 -0.02299536]\n",
      " [-0.24194678 -0.97427727]\n",
      " [-0.08426007 -1.21209775]\n",
      " [ 1.0195469   1.24538052]\n",
      " [-0.32079014  0.05627813]\n",
      " [-1.18806704 -1.21209775]\n",
      " [-0.16310343  0.21482511]\n",
      " [-1.42459711 -1.13282426]\n",
      " [ 1.33492032  1.72102147]\n",
      " [-0.5573202  -0.81573029]\n",
      " [ 0.3099567   0.13555162]\n",
      " [-0.87269362 -1.29137124]\n",
      " [-0.47847685 -0.49863632]\n",
      " [-0.5573202  -0.49863632]\n",
      " [ 0.54648677  0.3733721 ]\n",
      " [-0.63616356 -0.81573029]\n",
      " [-0.71500691 -0.49863632]\n",
      " [-0.08426007  0.29409861]\n",
      " [ 0.07342664 -0.57790981]\n",
      " [-0.71500691 -0.89500378]\n",
      " [ 0.94070354  0.21482511]\n",
      " [ 1.25607696  1.4039275 ]\n",
      " [-0.16310343  0.21482511]\n",
      " [-1.50344046 -1.29137124]\n",
      " [-1.03038033 -0.81573029]\n",
      " [-0.47847685 -0.49863632]\n",
      " [ 1.33492032  1.64174798]\n",
      " [ 0.54648677  0.76973956]\n",
      " [ 0.3099567   0.53191908]\n",
      " [ 1.25607696  0.13555162]\n",
      " [ 1.09839025  0.13555162]\n",
      " [-1.10922369 -1.13282426]\n",
      " [ 0.46764341 -0.02299536]\n",
      " [ 0.23111335  0.61119258]\n",
      " [-1.18806704 -0.89500378]\n",
      " [ 1.8868238   1.80029496]\n",
      " [-0.24194678 -0.89500378]\n",
      " [-1.34575375 -1.13282426]\n",
      " [ 0.70417348  1.00756004]\n",
      " [ 1.25607696  1.56247449]\n",
      " [ 0.07342664  0.45264559]\n",
      " [-0.24194678  0.45264559]\n",
      " [-0.39963349 -0.49863632]\n",
      " [ 0.62533012  0.45264559]\n",
      " [-0.08426007  0.05627813]\n",
      " [ 0.46764341  0.45264559]\n",
      " [ 0.54648677 -0.81573029]\n",
      " [ 1.33492032  1.72102147]\n",
      " [-0.16310343 -0.7364568 ]\n",
      " [ 0.70417348 -0.41936283]\n",
      " [-1.42459711 -1.21209775]\n",
      " [ 0.46764341 -0.81573029]\n",
      " [-0.79385027 -0.7364568 ]\n",
      " [-0.00541672  0.3733721 ]\n",
      " [ 0.62533012  0.45264559]\n",
      " [-1.03038033 -1.13282426]\n",
      " [ 0.78301683  1.00756004]\n",
      " [ 1.49260703  1.24538052]\n",
      " [ 1.80798045  2.19666243]\n",
      " [ 0.70417348  0.69046607]\n",
      " [ 0.70417348  1.08683353]\n",
      " [ 1.17723361  1.4039275 ]\n",
      " [ 1.09839025  1.00756004]\n",
      " [ 1.65029374  2.03811544]\n",
      " [-0.63616356 -0.57790981]\n",
      " [ 1.96566716  2.11738893]\n",
      " [-0.71500691 -0.81573029]\n",
      " [ 1.57145038  1.80029496]\n",
      " [ 1.57145038  0.05627813]\n",
      " [-1.42459711 -1.29137124]\n",
      " [-1.10922369 -1.05355077]\n",
      " [-1.10922369 -1.13282426]\n",
      " [-0.79385027 -0.89500378]\n",
      " [ 2.35988393  2.4344829 ]\n",
      " [ 0.70417348  0.76973956]\n",
      " [ 0.15226999  0.05627813]\n",
      " [ 1.8868238   2.27593592]\n",
      " [ 1.33492032  1.64174798]\n",
      " [ 1.17723361  0.76973956]\n",
      " [ 2.28104058  2.67230338]\n",
      " [ 1.80798045  2.03811544]\n",
      " [-1.10922369 -0.89500378]\n",
      " [ 2.12335387  2.5137564 ]\n",
      " [ 0.46764341  0.76973956]\n",
      " [-1.58228382 -1.37064474]\n",
      " [ 0.54648677  0.76973956]\n",
      " [-1.10922369 -0.97427727]\n",
      " [ 0.86186019 -0.81573029]\n",
      " [ 0.78301683  0.84901305]\n",
      " [ 1.33492032 -0.6571833 ]\n",
      " [-0.87269362 -1.29137124]\n",
      " [-0.24194678 -0.81573029]\n",
      " [ 1.41376367  1.48320099]\n",
      " [-0.32079014  0.05627813]\n",
      " [-0.39963349 -0.49863632]\n",
      " [ 2.12335387  2.03811544]\n",
      " [ 1.80798045  1.72102147]\n",
      " [ 1.33492032  1.48320099]\n",
      " [ 0.38880006 -0.10226886]\n",
      " [ 0.46764341 -0.34008933]\n",
      " [-0.63616356 -1.05355077]\n",
      " [ 1.8868238   2.11738893]\n",
      " [ 0.86186019  1.08683353]\n",
      " [-1.18806704 -1.05355077]\n",
      " [ 0.70417348  0.84901305]\n",
      " [-1.34575375 -1.37064474]\n",
      " [-0.00541672 -0.18154235]\n",
      " [-0.16310343 -0.81573029]\n",
      " [-0.63616356 -0.6571833 ]\n",
      " [ 0.54648677  0.13555162]\n",
      " [ 1.0195469   1.4039275 ]\n",
      " [-0.00541672 -0.89500378]\n",
      " [-1.2669104  -1.13282426]\n",
      " [-0.79385027 -0.6571833 ]\n",
      " [ 1.8868238   2.19666243]\n",
      " [-0.47847685 -0.10226886]\n",
      " [-0.47847685 -0.18154235]\n",
      " [ 0.15226999  0.45264559]\n",
      " [-1.03038033 -0.6571833 ]\n",
      " [-0.71500691 -0.49863632]\n",
      " [ 0.15226999 -0.18154235]\n",
      " [ 0.62533012  1.08683353]\n",
      " [-1.10922369 -1.05355077]\n",
      " [ 0.07342664 -0.18154235]\n",
      " [ 1.17723361  1.56247449]\n",
      " [-0.95153698 -0.57790981]\n",
      " [ 0.07342664  0.45264559]\n",
      " [-0.16310343 -0.6571833 ]\n",
      " [-0.32079014 -0.57790981]\n",
      " [ 0.86186019  0.13555162]\n",
      " [-0.24194678 -0.89500378]\n",
      " [ 1.09839025  1.64174798]\n",
      " [ 1.0195469   0.45264559]\n",
      " [-0.71500691 -0.41936283]\n",
      " [ 0.78301683  0.61119258]\n",
      " [ 1.17723361 -0.18154235]\n",
      " [-0.71500691 -0.49863632]\n",
      " [-0.39963349 -0.02299536]\n",
      " [ 1.25607696  1.64174798]\n",
      " [ 0.70417348  1.08683353]\n",
      " [ 0.78301683  1.4039275 ]\n",
      " [-0.5573202  -0.57790981]\n",
      " [ 1.49260703  0.76973956]\n",
      " [ 1.33492032  1.24538052]\n",
      " [-1.42459711 -1.13282426]\n",
      " [ 0.38880006  0.84901305]\n",
      " [ 2.67525735  2.5137564 ]\n",
      " [ 1.25607696  1.64174798]\n",
      " [ 0.3099567   0.76973956]\n",
      " [-0.00541672  0.21482511]\n",
      " [-1.10922369 -1.29137124]\n",
      " [ 0.23111335  0.29409861]\n",
      " [ 2.12335387  1.80029496]\n",
      " [ 1.33492032  1.4039275 ]\n",
      " [ 0.46764341 -0.26081584]\n",
      " [-0.87269362 -1.05355077]\n",
      " [-0.63616356 -0.49863632]\n",
      " [ 0.07342664 -0.18154235]\n",
      " [ 0.62533012  1.00756004]\n",
      " [-0.16310343 -0.02299536]\n",
      " [ 1.65029374  1.80029496]\n",
      " [-0.5573202  -0.57790981]\n",
      " [-0.95153698 -1.29137124]\n",
      " [ 1.0195469   1.00756004]\n",
      " [ 0.86186019  1.08683353]\n",
      " [-0.71500691 -0.7364568 ]\n",
      " [ 0.07342664  0.21482511]\n",
      " [-0.79385027 -0.81573029]\n",
      " [ 0.62533012  0.69046607]\n",
      " [ 0.38880006  0.13555162]\n",
      " [ 0.46764341  0.69046607]\n",
      " [-1.42459711 -1.29137124]\n",
      " [-1.2669104  -1.13282426]\n",
      " [ 1.25607696  1.64174798]\n",
      " [-0.87269362 -0.7364568 ]\n",
      " [-1.10922369 -1.13282426]\n",
      " [ 0.38880006  0.45264559]\n",
      " [-1.10922369 -0.97427727]\n",
      " [ 1.72913709  2.11738893]\n",
      " [ 0.38880006  0.29409861]\n",
      " [-0.5573202  -0.6571833 ]\n",
      " [ 0.54648677  0.76973956]\n",
      " [ 0.54648677 -0.18154235]\n",
      " [ 1.25607696  1.48320099]\n",
      " [ 0.86186019  0.05627813]\n",
      " [ 1.41376367  0.13555162]\n",
      " [ 0.62533012  0.13555162]\n",
      " [ 0.86186019  1.00756004]\n",
      " [ 0.70417348  0.13555162]\n",
      " [ 1.57145038  0.61119258]\n",
      " [ 0.23111335 -0.18154235]\n",
      " [-1.10922369 -1.05355077]]\n"
     ]
    }
   ],
   "source": [
    "sc=StandardScaler()\n",
    "scaled=sc.fit_transform(x)\n",
    "print(scaled)"
   ]
  },
  {
   "cell_type": "code",
   "execution_count": 32,
   "metadata": {},
   "outputs": [],
   "source": [
    "train_x,test_x,train_y,test_y=train_test_split(x,y,test_size=.33,random_state=42)"
   ]
  },
  {
   "cell_type": "code",
   "execution_count": 33,
   "metadata": {},
   "outputs": [
    {
     "data": {
      "text/plain": [
       "(263, 2)"
      ]
     },
     "execution_count": 33,
     "metadata": {},
     "output_type": "execute_result"
    }
   ],
   "source": [
    "train_x.shape"
   ]
  },
  {
   "cell_type": "code",
   "execution_count": 34,
   "metadata": {},
   "outputs": [
    {
     "data": {
      "text/plain": [
       "(130, 2)"
      ]
     },
     "execution_count": 34,
     "metadata": {},
     "output_type": "execute_result"
    }
   ],
   "source": [
    "test_x.shape"
   ]
  },
  {
   "cell_type": "code",
   "execution_count": 35,
   "metadata": {},
   "outputs": [
    {
     "data": {
      "text/plain": [
       "(263,)"
      ]
     },
     "execution_count": 35,
     "metadata": {},
     "output_type": "execute_result"
    }
   ],
   "source": [
    "train_y.shape"
   ]
  },
  {
   "cell_type": "code",
   "execution_count": 36,
   "metadata": {},
   "outputs": [
    {
     "data": {
      "text/plain": [
       "(130,)"
      ]
     },
     "execution_count": 36,
     "metadata": {},
     "output_type": "execute_result"
    }
   ],
   "source": [
    "y=test_y.shape\n",
    "y"
   ]
  },
  {
   "cell_type": "code",
   "execution_count": 38,
   "metadata": {},
   "outputs": [
    {
     "data": {
      "text/plain": [
       "LinearRegression()"
      ]
     },
     "execution_count": 38,
     "metadata": {},
     "output_type": "execute_result"
    }
   ],
   "source": [
    "lr=LinearRegression()\n",
    "lr.fit(train_x,train_y)"
   ]
  },
  {
   "cell_type": "code",
   "execution_count": 39,
   "metadata": {},
   "outputs": [
    {
     "data": {
      "text/plain": [
       "array([1536.01512823, -586.89630754])"
      ]
     },
     "execution_count": 39,
     "metadata": {},
     "output_type": "execute_result"
    }
   ],
   "source": [
    "lr.coef_"
   ]
  },
  {
   "cell_type": "code",
   "execution_count": 40,
   "metadata": {},
   "outputs": [
    {
     "data": {
      "text/plain": [
       "90020.65725137769"
      ]
     },
     "execution_count": 40,
     "metadata": {},
     "output_type": "execute_result"
    }
   ],
   "source": [
    "lr.intercept_"
   ]
  },
  {
   "cell_type": "code",
   "execution_count": 41,
   "metadata": {},
   "outputs": [
    {
     "data": {
      "text/plain": [
       "0.19598842579512699"
      ]
     },
     "execution_count": 41,
     "metadata": {},
     "output_type": "execute_result"
    }
   ],
   "source": [
    "lr.score(train_x,train_y)"
   ]
  },
  {
   "cell_type": "code",
   "execution_count": 42,
   "metadata": {},
   "outputs": [
    {
     "data": {
      "text/plain": [
       "array([ 98062.95540569, 121790.92592298, 130456.82181733, 113024.18274237,\n",
       "       123102.26725682, 121103.18232917, 135615.06207707, 123051.84361369,\n",
       "       116994.90817639, 128796.98018097, 107104.79602383,  94404.02884168,\n",
       "       131057.44033551, 106517.89971629,  97476.05909815, 141722.42115751,\n",
       "       144207.55510643,  99961.19304707, 122740.04474367, 130282.57166607,\n",
       "       106692.14986754, 126486.09638331, 115059.96910251, 108640.81115206,\n",
       "       112749.08530484, 108452.83879016,  94041.80632853,  94990.92514923,\n",
       "       111662.41776539, 118806.02074214,  91556.67237961, 120841.80710229,\n",
       "       144643.18048457, 129383.87648852, 101272.53438092, 133629.69936006,\n",
       "       111712.84140852, 100098.74176583, 119530.46576845, 117581.80448393,\n",
       "       123826.71228313, 115646.86541005, 120342.03587038,  92868.01371345,\n",
       "       103670.54325421, 110539.04879344, 114197.97535745, 118081.57571584,\n",
       "       133267.47684691,  93817.13253414,  98562.7266376 ,  99149.62294514,\n",
       "       118393.37458586, 102221.65320161, 127260.96505274, 129108.77905099,\n",
       "       117581.80448393, 117856.90192145, 124638.28238506,  99598.97053392,\n",
       "        96164.71776431, 132643.87910688, 112075.06392168, 123276.51740808,\n",
       "       117907.32556459, 117045.33181952,  94404.02884168, 118356.67315337,\n",
       "       127036.29125835,  95715.37017553, 135028.16576953, 104844.33586929,\n",
       "       120030.23700036, 109814.60376714, 107191.92109946,  98062.95540569,\n",
       "       116994.90817639, 136252.38202775, 133354.60192254, 111799.96648415,\n",
       "       111850.39012729, 112611.53658608,  94404.02884168, 118631.77059089,\n",
       "       115871.53920444, 118718.89566652, 107778.817407  , 123239.81597559,\n",
       "       106467.47607315,  94041.80632853, 133904.79679758, 104569.23843177,\n",
       "       115683.56684255, 105293.68345807, 147279.5853629 , 127036.29125835,\n",
       "       114372.2255087 , 121204.02961544, 136389.93074651, 107467.01853698,\n",
       "       125587.40120575,  91918.89489276, 132731.0041825 , 128796.98018097,\n",
       "        98425.17791884, 119617.59084407, 107191.92109946,  95940.04396992,\n",
       "        92868.01371345,  99374.29673953, 131781.88536181, 115096.67053501,\n",
       "        93454.91002099, 139636.21115423, 138425.71710665, 141809.54623313,\n",
       "       116045.7893557 , 109952.1524859 , 111350.61889537, 128434.75766782,\n",
       "       116096.21299883, 105293.68345807,  93092.68750784, 104793.91222616,\n",
       "       104706.78715053, 100548.08935461,  99736.51925268,  95940.04396992,\n",
       "        96164.71776431, 107104.79602383])"
      ]
     },
     "execution_count": 42,
     "metadata": {},
     "output_type": "execute_result"
    }
   ],
   "source": [
    "pred=lr.predict(test_x)\n",
    "pred"
   ]
  },
  {
   "cell_type": "code",
   "execution_count": 46,
   "metadata": {},
   "outputs": [
    {
     "name": "stdout",
     "output_type": "stream",
     "text": [
      " Predicted Salary:\n",
      " [ 98062.95540569 121790.92592298 130456.82181733 113024.18274237\n",
      " 123102.26725682 121103.18232917 135615.06207707 123051.84361369\n",
      " 116994.90817639 128796.98018097 107104.79602383  94404.02884168\n",
      " 131057.44033551 106517.89971629  97476.05909815 141722.42115751\n",
      " 144207.55510643  99961.19304707 122740.04474367 130282.57166607\n",
      " 106692.14986754 126486.09638331 115059.96910251 108640.81115206\n",
      " 112749.08530484 108452.83879016  94041.80632853  94990.92514923\n",
      " 111662.41776539 118806.02074214  91556.67237961 120841.80710229\n",
      " 144643.18048457 129383.87648852 101272.53438092 133629.69936006\n",
      " 111712.84140852 100098.74176583 119530.46576845 117581.80448393\n",
      " 123826.71228313 115646.86541005 120342.03587038  92868.01371345\n",
      " 103670.54325421 110539.04879344 114197.97535745 118081.57571584\n",
      " 133267.47684691  93817.13253414  98562.7266376   99149.62294514\n",
      " 118393.37458586 102221.65320161 127260.96505274 129108.77905099\n",
      " 117581.80448393 117856.90192145 124638.28238506  99598.97053392\n",
      "  96164.71776431 132643.87910688 112075.06392168 123276.51740808\n",
      " 117907.32556459 117045.33181952  94404.02884168 118356.67315337\n",
      " 127036.29125835  95715.37017553 135028.16576953 104844.33586929\n",
      " 120030.23700036 109814.60376714 107191.92109946  98062.95540569\n",
      " 116994.90817639 136252.38202775 133354.60192254 111799.96648415\n",
      " 111850.39012729 112611.53658608  94404.02884168 118631.77059089\n",
      " 115871.53920444 118718.89566652 107778.817407   123239.81597559\n",
      " 106467.47607315  94041.80632853 133904.79679758 104569.23843177\n",
      " 115683.56684255 105293.68345807 147279.5853629  127036.29125835\n",
      " 114372.2255087  121204.02961544 136389.93074651 107467.01853698\n",
      " 125587.40120575  91918.89489276 132731.0041825  128796.98018097\n",
      "  98425.17791884 119617.59084407 107191.92109946  95940.04396992\n",
      "  92868.01371345  99374.29673953 131781.88536181 115096.67053501\n",
      "  93454.91002099 139636.21115423 138425.71710665 141809.54623313\n",
      " 116045.7893557  109952.1524859  111350.61889537 128434.75766782\n",
      " 116096.21299883 105293.68345807  93092.68750784 104793.91222616\n",
      " 104706.78715053 100548.08935461  99736.51925268  95940.04396992\n",
      "  96164.71776431 107104.79602383] \n",
      "\n",
      " Actual Salary:\n",
      " 79      84240\n",
      "277    163200\n",
      "249    204000\n",
      "56     117704\n",
      "392    103106\n",
      "        ...  \n",
      "234     69700\n",
      "195    113600\n",
      "240     69200\n",
      "154     92000\n",
      "296    126300\n",
      "Name: salary, Length: 130, dtype: int64\n"
     ]
    }
   ],
   "source": [
    "print(\" Predicted Salary:\\n\",pred,\"\\n\\n\", \"Actual Salary:\\n\",test_y)"
   ]
  },
  {
   "cell_type": "code",
   "execution_count": null,
   "metadata": {},
   "outputs": [],
   "source": []
  }
 ],
 "metadata": {
  "kernelspec": {
   "display_name": "Python 3",
   "language": "python",
   "name": "python3"
  },
  "language_info": {
   "codemirror_mode": {
    "name": "ipython",
    "version": 3
   },
   "file_extension": ".py",
   "mimetype": "text/x-python",
   "name": "python",
   "nbconvert_exporter": "python",
   "pygments_lexer": "ipython3",
   "version": "3.7.6"
  }
 },
 "nbformat": 4,
 "nbformat_minor": 4
}
