{
 "cells": [
  {
   "cell_type": "markdown",
   "metadata": {},
   "source": [
    "# Sales Channel Prediction Case Study  \n",
    "\n",
    "When a company enters a market, the distribution strategy and channel it uses are keys to its success in the market, as well as market know-how and customer knowledge and understanding. Because an effective distribution strategy under efficient supply-chain management opens doors for attaining competitive advantage and strong brand equity in the market, it is a component of the marketing mix that cannot be ignored . \n",
    "\n",
    "The distribution strategy and the channel design have to be right the first time. The case study of Sales channel includes the detailed study of TV, radio and newspaper channel. The predict the total sales generated from all the sales channel.  "
   ]
  },
  {
   "cell_type": "code",
   "execution_count": 2,
   "metadata": {},
   "outputs": [],
   "source": [
    "# Importing Libraries\n",
    "\n",
    "import pandas as pd\n",
    "import numpy as np\n",
    "import matplotlib.pyplot as plt\n",
    "import seaborn as sns\n",
    "from sklearn.model_selection import train_test_split\n",
    "from sklearn.preprocessing import StandardScaler\n",
    "from sklearn.metrics import accuracy_score, classification_report, confusion_matrix\n",
    "import warnings\n",
    "warnings.filterwarnings('ignore')"
   ]
  },
  {
   "cell_type": "code",
   "execution_count": 3,
   "metadata": {},
   "outputs": [
    {
     "data": {
      "text/html": [
       "<div>\n",
       "<style scoped>\n",
       "    .dataframe tbody tr th:only-of-type {\n",
       "        vertical-align: middle;\n",
       "    }\n",
       "\n",
       "    .dataframe tbody tr th {\n",
       "        vertical-align: top;\n",
       "    }\n",
       "\n",
       "    .dataframe thead th {\n",
       "        text-align: right;\n",
       "    }\n",
       "</style>\n",
       "<table border=\"1\" class=\"dataframe\">\n",
       "  <thead>\n",
       "    <tr style=\"text-align: right;\">\n",
       "      <th></th>\n",
       "      <th>Unnamed: 0</th>\n",
       "      <th>TV</th>\n",
       "      <th>radio</th>\n",
       "      <th>newspaper</th>\n",
       "      <th>sales</th>\n",
       "    </tr>\n",
       "  </thead>\n",
       "  <tbody>\n",
       "    <tr>\n",
       "      <th>0</th>\n",
       "      <td>1</td>\n",
       "      <td>230.1</td>\n",
       "      <td>37.8</td>\n",
       "      <td>69.2</td>\n",
       "      <td>22.1</td>\n",
       "    </tr>\n",
       "    <tr>\n",
       "      <th>1</th>\n",
       "      <td>2</td>\n",
       "      <td>44.5</td>\n",
       "      <td>39.3</td>\n",
       "      <td>45.1</td>\n",
       "      <td>10.4</td>\n",
       "    </tr>\n",
       "    <tr>\n",
       "      <th>2</th>\n",
       "      <td>3</td>\n",
       "      <td>17.2</td>\n",
       "      <td>45.9</td>\n",
       "      <td>69.3</td>\n",
       "      <td>9.3</td>\n",
       "    </tr>\n",
       "    <tr>\n",
       "      <th>3</th>\n",
       "      <td>4</td>\n",
       "      <td>151.5</td>\n",
       "      <td>41.3</td>\n",
       "      <td>58.5</td>\n",
       "      <td>18.5</td>\n",
       "    </tr>\n",
       "    <tr>\n",
       "      <th>4</th>\n",
       "      <td>5</td>\n",
       "      <td>180.8</td>\n",
       "      <td>10.8</td>\n",
       "      <td>58.4</td>\n",
       "      <td>12.9</td>\n",
       "    </tr>\n",
       "    <tr>\n",
       "      <th>...</th>\n",
       "      <td>...</td>\n",
       "      <td>...</td>\n",
       "      <td>...</td>\n",
       "      <td>...</td>\n",
       "      <td>...</td>\n",
       "    </tr>\n",
       "    <tr>\n",
       "      <th>195</th>\n",
       "      <td>196</td>\n",
       "      <td>38.2</td>\n",
       "      <td>3.7</td>\n",
       "      <td>13.8</td>\n",
       "      <td>7.6</td>\n",
       "    </tr>\n",
       "    <tr>\n",
       "      <th>196</th>\n",
       "      <td>197</td>\n",
       "      <td>94.2</td>\n",
       "      <td>4.9</td>\n",
       "      <td>8.1</td>\n",
       "      <td>9.7</td>\n",
       "    </tr>\n",
       "    <tr>\n",
       "      <th>197</th>\n",
       "      <td>198</td>\n",
       "      <td>177.0</td>\n",
       "      <td>9.3</td>\n",
       "      <td>6.4</td>\n",
       "      <td>12.8</td>\n",
       "    </tr>\n",
       "    <tr>\n",
       "      <th>198</th>\n",
       "      <td>199</td>\n",
       "      <td>283.6</td>\n",
       "      <td>42.0</td>\n",
       "      <td>66.2</td>\n",
       "      <td>25.5</td>\n",
       "    </tr>\n",
       "    <tr>\n",
       "      <th>199</th>\n",
       "      <td>200</td>\n",
       "      <td>232.1</td>\n",
       "      <td>8.6</td>\n",
       "      <td>8.7</td>\n",
       "      <td>13.4</td>\n",
       "    </tr>\n",
       "  </tbody>\n",
       "</table>\n",
       "<p>200 rows × 5 columns</p>\n",
       "</div>"
      ],
      "text/plain": [
       "     Unnamed: 0     TV  radio  newspaper  sales\n",
       "0             1  230.1   37.8       69.2   22.1\n",
       "1             2   44.5   39.3       45.1   10.4\n",
       "2             3   17.2   45.9       69.3    9.3\n",
       "3             4  151.5   41.3       58.5   18.5\n",
       "4             5  180.8   10.8       58.4   12.9\n",
       "..          ...    ...    ...        ...    ...\n",
       "195         196   38.2    3.7       13.8    7.6\n",
       "196         197   94.2    4.9        8.1    9.7\n",
       "197         198  177.0    9.3        6.4   12.8\n",
       "198         199  283.6   42.0       66.2   25.5\n",
       "199         200  232.1    8.6        8.7   13.4\n",
       "\n",
       "[200 rows x 5 columns]"
      ]
     },
     "execution_count": 3,
     "metadata": {},
     "output_type": "execute_result"
    }
   ],
   "source": [
    "#Loading the Dataset\n",
    "df=pd.read_csv('Advertising.csv')\n",
    "df"
   ]
  },
  {
   "cell_type": "code",
   "execution_count": 4,
   "metadata": {},
   "outputs": [
    {
     "data": {
      "text/html": [
       "<div>\n",
       "<style scoped>\n",
       "    .dataframe tbody tr th:only-of-type {\n",
       "        vertical-align: middle;\n",
       "    }\n",
       "\n",
       "    .dataframe tbody tr th {\n",
       "        vertical-align: top;\n",
       "    }\n",
       "\n",
       "    .dataframe thead th {\n",
       "        text-align: right;\n",
       "    }\n",
       "</style>\n",
       "<table border=\"1\" class=\"dataframe\">\n",
       "  <thead>\n",
       "    <tr style=\"text-align: right;\">\n",
       "      <th></th>\n",
       "      <th>TV</th>\n",
       "      <th>radio</th>\n",
       "      <th>newspaper</th>\n",
       "      <th>sales</th>\n",
       "    </tr>\n",
       "  </thead>\n",
       "  <tbody>\n",
       "    <tr>\n",
       "      <th>0</th>\n",
       "      <td>230.1</td>\n",
       "      <td>37.8</td>\n",
       "      <td>69.2</td>\n",
       "      <td>22.1</td>\n",
       "    </tr>\n",
       "    <tr>\n",
       "      <th>1</th>\n",
       "      <td>44.5</td>\n",
       "      <td>39.3</td>\n",
       "      <td>45.1</td>\n",
       "      <td>10.4</td>\n",
       "    </tr>\n",
       "    <tr>\n",
       "      <th>2</th>\n",
       "      <td>17.2</td>\n",
       "      <td>45.9</td>\n",
       "      <td>69.3</td>\n",
       "      <td>9.3</td>\n",
       "    </tr>\n",
       "    <tr>\n",
       "      <th>3</th>\n",
       "      <td>151.5</td>\n",
       "      <td>41.3</td>\n",
       "      <td>58.5</td>\n",
       "      <td>18.5</td>\n",
       "    </tr>\n",
       "    <tr>\n",
       "      <th>4</th>\n",
       "      <td>180.8</td>\n",
       "      <td>10.8</td>\n",
       "      <td>58.4</td>\n",
       "      <td>12.9</td>\n",
       "    </tr>\n",
       "    <tr>\n",
       "      <th>...</th>\n",
       "      <td>...</td>\n",
       "      <td>...</td>\n",
       "      <td>...</td>\n",
       "      <td>...</td>\n",
       "    </tr>\n",
       "    <tr>\n",
       "      <th>195</th>\n",
       "      <td>38.2</td>\n",
       "      <td>3.7</td>\n",
       "      <td>13.8</td>\n",
       "      <td>7.6</td>\n",
       "    </tr>\n",
       "    <tr>\n",
       "      <th>196</th>\n",
       "      <td>94.2</td>\n",
       "      <td>4.9</td>\n",
       "      <td>8.1</td>\n",
       "      <td>9.7</td>\n",
       "    </tr>\n",
       "    <tr>\n",
       "      <th>197</th>\n",
       "      <td>177.0</td>\n",
       "      <td>9.3</td>\n",
       "      <td>6.4</td>\n",
       "      <td>12.8</td>\n",
       "    </tr>\n",
       "    <tr>\n",
       "      <th>198</th>\n",
       "      <td>283.6</td>\n",
       "      <td>42.0</td>\n",
       "      <td>66.2</td>\n",
       "      <td>25.5</td>\n",
       "    </tr>\n",
       "    <tr>\n",
       "      <th>199</th>\n",
       "      <td>232.1</td>\n",
       "      <td>8.6</td>\n",
       "      <td>8.7</td>\n",
       "      <td>13.4</td>\n",
       "    </tr>\n",
       "  </tbody>\n",
       "</table>\n",
       "<p>200 rows × 4 columns</p>\n",
       "</div>"
      ],
      "text/plain": [
       "        TV  radio  newspaper  sales\n",
       "0    230.1   37.8       69.2   22.1\n",
       "1     44.5   39.3       45.1   10.4\n",
       "2     17.2   45.9       69.3    9.3\n",
       "3    151.5   41.3       58.5   18.5\n",
       "4    180.8   10.8       58.4   12.9\n",
       "..     ...    ...        ...    ...\n",
       "195   38.2    3.7       13.8    7.6\n",
       "196   94.2    4.9        8.1    9.7\n",
       "197  177.0    9.3        6.4   12.8\n",
       "198  283.6   42.0       66.2   25.5\n",
       "199  232.1    8.6        8.7   13.4\n",
       "\n",
       "[200 rows x 4 columns]"
      ]
     },
     "execution_count": 4,
     "metadata": {},
     "output_type": "execute_result"
    }
   ],
   "source": [
    "# Remove the column Unnamed:0\n",
    "\n",
    "df=df.drop(['Unnamed: 0'],axis=1)\n",
    "df\n"
   ]
  },
  {
   "cell_type": "code",
   "execution_count": 5,
   "metadata": {},
   "outputs": [
    {
     "data": {
      "text/html": [
       "<div>\n",
       "<style scoped>\n",
       "    .dataframe tbody tr th:only-of-type {\n",
       "        vertical-align: middle;\n",
       "    }\n",
       "\n",
       "    .dataframe tbody tr th {\n",
       "        vertical-align: top;\n",
       "    }\n",
       "\n",
       "    .dataframe thead th {\n",
       "        text-align: right;\n",
       "    }\n",
       "</style>\n",
       "<table border=\"1\" class=\"dataframe\">\n",
       "  <thead>\n",
       "    <tr style=\"text-align: right;\">\n",
       "      <th></th>\n",
       "      <th>TV</th>\n",
       "      <th>radio</th>\n",
       "      <th>newspaper</th>\n",
       "      <th>sales</th>\n",
       "    </tr>\n",
       "  </thead>\n",
       "  <tbody>\n",
       "    <tr>\n",
       "      <th>0</th>\n",
       "      <td>230.1</td>\n",
       "      <td>37.8</td>\n",
       "      <td>69.2</td>\n",
       "      <td>22.1</td>\n",
       "    </tr>\n",
       "    <tr>\n",
       "      <th>1</th>\n",
       "      <td>44.5</td>\n",
       "      <td>39.3</td>\n",
       "      <td>45.1</td>\n",
       "      <td>10.4</td>\n",
       "    </tr>\n",
       "    <tr>\n",
       "      <th>2</th>\n",
       "      <td>17.2</td>\n",
       "      <td>45.9</td>\n",
       "      <td>69.3</td>\n",
       "      <td>9.3</td>\n",
       "    </tr>\n",
       "    <tr>\n",
       "      <th>3</th>\n",
       "      <td>151.5</td>\n",
       "      <td>41.3</td>\n",
       "      <td>58.5</td>\n",
       "      <td>18.5</td>\n",
       "    </tr>\n",
       "    <tr>\n",
       "      <th>4</th>\n",
       "      <td>180.8</td>\n",
       "      <td>10.8</td>\n",
       "      <td>58.4</td>\n",
       "      <td>12.9</td>\n",
       "    </tr>\n",
       "    <tr>\n",
       "      <th>5</th>\n",
       "      <td>8.7</td>\n",
       "      <td>48.9</td>\n",
       "      <td>75.0</td>\n",
       "      <td>7.2</td>\n",
       "    </tr>\n",
       "    <tr>\n",
       "      <th>6</th>\n",
       "      <td>57.5</td>\n",
       "      <td>32.8</td>\n",
       "      <td>23.5</td>\n",
       "      <td>11.8</td>\n",
       "    </tr>\n",
       "    <tr>\n",
       "      <th>7</th>\n",
       "      <td>120.2</td>\n",
       "      <td>19.6</td>\n",
       "      <td>11.6</td>\n",
       "      <td>13.2</td>\n",
       "    </tr>\n",
       "    <tr>\n",
       "      <th>8</th>\n",
       "      <td>8.6</td>\n",
       "      <td>2.1</td>\n",
       "      <td>1.0</td>\n",
       "      <td>4.8</td>\n",
       "    </tr>\n",
       "    <tr>\n",
       "      <th>9</th>\n",
       "      <td>199.8</td>\n",
       "      <td>2.6</td>\n",
       "      <td>21.2</td>\n",
       "      <td>10.6</td>\n",
       "    </tr>\n",
       "  </tbody>\n",
       "</table>\n",
       "</div>"
      ],
      "text/plain": [
       "      TV  radio  newspaper  sales\n",
       "0  230.1   37.8       69.2   22.1\n",
       "1   44.5   39.3       45.1   10.4\n",
       "2   17.2   45.9       69.3    9.3\n",
       "3  151.5   41.3       58.5   18.5\n",
       "4  180.8   10.8       58.4   12.9\n",
       "5    8.7   48.9       75.0    7.2\n",
       "6   57.5   32.8       23.5   11.8\n",
       "7  120.2   19.6       11.6   13.2\n",
       "8    8.6    2.1        1.0    4.8\n",
       "9  199.8    2.6       21.2   10.6"
      ]
     },
     "execution_count": 5,
     "metadata": {},
     "output_type": "execute_result"
    }
   ],
   "source": [
    "df.head(10)"
   ]
  },
  {
   "cell_type": "code",
   "execution_count": 6,
   "metadata": {},
   "outputs": [
    {
     "data": {
      "text/html": [
       "<div>\n",
       "<style scoped>\n",
       "    .dataframe tbody tr th:only-of-type {\n",
       "        vertical-align: middle;\n",
       "    }\n",
       "\n",
       "    .dataframe tbody tr th {\n",
       "        vertical-align: top;\n",
       "    }\n",
       "\n",
       "    .dataframe thead th {\n",
       "        text-align: right;\n",
       "    }\n",
       "</style>\n",
       "<table border=\"1\" class=\"dataframe\">\n",
       "  <thead>\n",
       "    <tr style=\"text-align: right;\">\n",
       "      <th></th>\n",
       "      <th>TV</th>\n",
       "      <th>radio</th>\n",
       "      <th>newspaper</th>\n",
       "      <th>sales</th>\n",
       "    </tr>\n",
       "  </thead>\n",
       "  <tbody>\n",
       "    <tr>\n",
       "      <th>190</th>\n",
       "      <td>39.5</td>\n",
       "      <td>41.1</td>\n",
       "      <td>5.8</td>\n",
       "      <td>10.8</td>\n",
       "    </tr>\n",
       "    <tr>\n",
       "      <th>191</th>\n",
       "      <td>75.5</td>\n",
       "      <td>10.8</td>\n",
       "      <td>6.0</td>\n",
       "      <td>9.9</td>\n",
       "    </tr>\n",
       "    <tr>\n",
       "      <th>192</th>\n",
       "      <td>17.2</td>\n",
       "      <td>4.1</td>\n",
       "      <td>31.6</td>\n",
       "      <td>5.9</td>\n",
       "    </tr>\n",
       "    <tr>\n",
       "      <th>193</th>\n",
       "      <td>166.8</td>\n",
       "      <td>42.0</td>\n",
       "      <td>3.6</td>\n",
       "      <td>19.6</td>\n",
       "    </tr>\n",
       "    <tr>\n",
       "      <th>194</th>\n",
       "      <td>149.7</td>\n",
       "      <td>35.6</td>\n",
       "      <td>6.0</td>\n",
       "      <td>17.3</td>\n",
       "    </tr>\n",
       "    <tr>\n",
       "      <th>195</th>\n",
       "      <td>38.2</td>\n",
       "      <td>3.7</td>\n",
       "      <td>13.8</td>\n",
       "      <td>7.6</td>\n",
       "    </tr>\n",
       "    <tr>\n",
       "      <th>196</th>\n",
       "      <td>94.2</td>\n",
       "      <td>4.9</td>\n",
       "      <td>8.1</td>\n",
       "      <td>9.7</td>\n",
       "    </tr>\n",
       "    <tr>\n",
       "      <th>197</th>\n",
       "      <td>177.0</td>\n",
       "      <td>9.3</td>\n",
       "      <td>6.4</td>\n",
       "      <td>12.8</td>\n",
       "    </tr>\n",
       "    <tr>\n",
       "      <th>198</th>\n",
       "      <td>283.6</td>\n",
       "      <td>42.0</td>\n",
       "      <td>66.2</td>\n",
       "      <td>25.5</td>\n",
       "    </tr>\n",
       "    <tr>\n",
       "      <th>199</th>\n",
       "      <td>232.1</td>\n",
       "      <td>8.6</td>\n",
       "      <td>8.7</td>\n",
       "      <td>13.4</td>\n",
       "    </tr>\n",
       "  </tbody>\n",
       "</table>\n",
       "</div>"
      ],
      "text/plain": [
       "        TV  radio  newspaper  sales\n",
       "190   39.5   41.1        5.8   10.8\n",
       "191   75.5   10.8        6.0    9.9\n",
       "192   17.2    4.1       31.6    5.9\n",
       "193  166.8   42.0        3.6   19.6\n",
       "194  149.7   35.6        6.0   17.3\n",
       "195   38.2    3.7       13.8    7.6\n",
       "196   94.2    4.9        8.1    9.7\n",
       "197  177.0    9.3        6.4   12.8\n",
       "198  283.6   42.0       66.2   25.5\n",
       "199  232.1    8.6        8.7   13.4"
      ]
     },
     "execution_count": 6,
     "metadata": {},
     "output_type": "execute_result"
    }
   ],
   "source": [
    "df.tail(10)"
   ]
  },
  {
   "cell_type": "code",
   "execution_count": 7,
   "metadata": {},
   "outputs": [
    {
     "name": "stdout",
     "output_type": "stream",
     "text": [
      "<class 'pandas.core.frame.DataFrame'>\n",
      "RangeIndex: 200 entries, 0 to 199\n",
      "Data columns (total 4 columns):\n",
      " #   Column     Non-Null Count  Dtype  \n",
      "---  ------     --------------  -----  \n",
      " 0   TV         200 non-null    float64\n",
      " 1   radio      200 non-null    float64\n",
      " 2   newspaper  200 non-null    float64\n",
      " 3   sales      200 non-null    float64\n",
      "dtypes: float64(4)\n",
      "memory usage: 6.4 KB\n"
     ]
    }
   ],
   "source": [
    "df.info()"
   ]
  },
  {
   "cell_type": "code",
   "execution_count": 8,
   "metadata": {},
   "outputs": [
    {
     "data": {
      "text/html": [
       "<div>\n",
       "<style scoped>\n",
       "    .dataframe tbody tr th:only-of-type {\n",
       "        vertical-align: middle;\n",
       "    }\n",
       "\n",
       "    .dataframe tbody tr th {\n",
       "        vertical-align: top;\n",
       "    }\n",
       "\n",
       "    .dataframe thead th {\n",
       "        text-align: right;\n",
       "    }\n",
       "</style>\n",
       "<table border=\"1\" class=\"dataframe\">\n",
       "  <thead>\n",
       "    <tr style=\"text-align: right;\">\n",
       "      <th></th>\n",
       "      <th>TV</th>\n",
       "      <th>radio</th>\n",
       "      <th>newspaper</th>\n",
       "      <th>sales</th>\n",
       "    </tr>\n",
       "  </thead>\n",
       "  <tbody>\n",
       "    <tr>\n",
       "      <th>count</th>\n",
       "      <td>200.000000</td>\n",
       "      <td>200.000000</td>\n",
       "      <td>200.000000</td>\n",
       "      <td>200.000000</td>\n",
       "    </tr>\n",
       "    <tr>\n",
       "      <th>mean</th>\n",
       "      <td>147.042500</td>\n",
       "      <td>23.264000</td>\n",
       "      <td>30.554000</td>\n",
       "      <td>14.022500</td>\n",
       "    </tr>\n",
       "    <tr>\n",
       "      <th>std</th>\n",
       "      <td>85.854236</td>\n",
       "      <td>14.846809</td>\n",
       "      <td>21.778621</td>\n",
       "      <td>5.217457</td>\n",
       "    </tr>\n",
       "    <tr>\n",
       "      <th>min</th>\n",
       "      <td>0.700000</td>\n",
       "      <td>0.000000</td>\n",
       "      <td>0.300000</td>\n",
       "      <td>1.600000</td>\n",
       "    </tr>\n",
       "    <tr>\n",
       "      <th>25%</th>\n",
       "      <td>74.375000</td>\n",
       "      <td>9.975000</td>\n",
       "      <td>12.750000</td>\n",
       "      <td>10.375000</td>\n",
       "    </tr>\n",
       "    <tr>\n",
       "      <th>50%</th>\n",
       "      <td>149.750000</td>\n",
       "      <td>22.900000</td>\n",
       "      <td>25.750000</td>\n",
       "      <td>12.900000</td>\n",
       "    </tr>\n",
       "    <tr>\n",
       "      <th>75%</th>\n",
       "      <td>218.825000</td>\n",
       "      <td>36.525000</td>\n",
       "      <td>45.100000</td>\n",
       "      <td>17.400000</td>\n",
       "    </tr>\n",
       "    <tr>\n",
       "      <th>max</th>\n",
       "      <td>296.400000</td>\n",
       "      <td>49.600000</td>\n",
       "      <td>114.000000</td>\n",
       "      <td>27.000000</td>\n",
       "    </tr>\n",
       "  </tbody>\n",
       "</table>\n",
       "</div>"
      ],
      "text/plain": [
       "               TV       radio   newspaper       sales\n",
       "count  200.000000  200.000000  200.000000  200.000000\n",
       "mean   147.042500   23.264000   30.554000   14.022500\n",
       "std     85.854236   14.846809   21.778621    5.217457\n",
       "min      0.700000    0.000000    0.300000    1.600000\n",
       "25%     74.375000    9.975000   12.750000   10.375000\n",
       "50%    149.750000   22.900000   25.750000   12.900000\n",
       "75%    218.825000   36.525000   45.100000   17.400000\n",
       "max    296.400000   49.600000  114.000000   27.000000"
      ]
     },
     "execution_count": 8,
     "metadata": {},
     "output_type": "execute_result"
    }
   ],
   "source": [
    "df.describe()"
   ]
  },
  {
   "cell_type": "code",
   "execution_count": 9,
   "metadata": {},
   "outputs": [
    {
     "data": {
      "text/html": [
       "<div>\n",
       "<style scoped>\n",
       "    .dataframe tbody tr th:only-of-type {\n",
       "        vertical-align: middle;\n",
       "    }\n",
       "\n",
       "    .dataframe tbody tr th {\n",
       "        vertical-align: top;\n",
       "    }\n",
       "\n",
       "    .dataframe thead th {\n",
       "        text-align: right;\n",
       "    }\n",
       "</style>\n",
       "<table border=\"1\" class=\"dataframe\">\n",
       "  <thead>\n",
       "    <tr style=\"text-align: right;\">\n",
       "      <th></th>\n",
       "      <th>TV</th>\n",
       "      <th>radio</th>\n",
       "      <th>newspaper</th>\n",
       "      <th>sales</th>\n",
       "    </tr>\n",
       "  </thead>\n",
       "  <tbody>\n",
       "    <tr>\n",
       "      <th>135</th>\n",
       "      <td>48.3</td>\n",
       "      <td>47.0</td>\n",
       "      <td>8.5</td>\n",
       "      <td>11.6</td>\n",
       "    </tr>\n",
       "    <tr>\n",
       "      <th>110</th>\n",
       "      <td>225.8</td>\n",
       "      <td>8.2</td>\n",
       "      <td>56.5</td>\n",
       "      <td>13.4</td>\n",
       "    </tr>\n",
       "    <tr>\n",
       "      <th>94</th>\n",
       "      <td>107.4</td>\n",
       "      <td>14.0</td>\n",
       "      <td>10.9</td>\n",
       "      <td>11.5</td>\n",
       "    </tr>\n",
       "    <tr>\n",
       "      <th>105</th>\n",
       "      <td>137.9</td>\n",
       "      <td>46.4</td>\n",
       "      <td>59.0</td>\n",
       "      <td>19.2</td>\n",
       "    </tr>\n",
       "    <tr>\n",
       "      <th>198</th>\n",
       "      <td>283.6</td>\n",
       "      <td>42.0</td>\n",
       "      <td>66.2</td>\n",
       "      <td>25.5</td>\n",
       "    </tr>\n",
       "  </tbody>\n",
       "</table>\n",
       "</div>"
      ],
      "text/plain": [
       "        TV  radio  newspaper  sales\n",
       "135   48.3   47.0        8.5   11.6\n",
       "110  225.8    8.2       56.5   13.4\n",
       "94   107.4   14.0       10.9   11.5\n",
       "105  137.9   46.4       59.0   19.2\n",
       "198  283.6   42.0       66.2   25.5"
      ]
     },
     "execution_count": 9,
     "metadata": {},
     "output_type": "execute_result"
    }
   ],
   "source": [
    "df.sample(5)"
   ]
  },
  {
   "cell_type": "code",
   "execution_count": 10,
   "metadata": {},
   "outputs": [
    {
     "data": {
      "text/html": [
       "<div>\n",
       "<style scoped>\n",
       "    .dataframe tbody tr th:only-of-type {\n",
       "        vertical-align: middle;\n",
       "    }\n",
       "\n",
       "    .dataframe tbody tr th {\n",
       "        vertical-align: top;\n",
       "    }\n",
       "\n",
       "    .dataframe thead th {\n",
       "        text-align: right;\n",
       "    }\n",
       "</style>\n",
       "<table border=\"1\" class=\"dataframe\">\n",
       "  <thead>\n",
       "    <tr style=\"text-align: right;\">\n",
       "      <th></th>\n",
       "      <th>TV</th>\n",
       "      <th>radio</th>\n",
       "      <th>newspaper</th>\n",
       "      <th>sales</th>\n",
       "    </tr>\n",
       "  </thead>\n",
       "  <tbody>\n",
       "    <tr>\n",
       "      <th>0</th>\n",
       "      <td>False</td>\n",
       "      <td>False</td>\n",
       "      <td>False</td>\n",
       "      <td>False</td>\n",
       "    </tr>\n",
       "    <tr>\n",
       "      <th>1</th>\n",
       "      <td>False</td>\n",
       "      <td>False</td>\n",
       "      <td>False</td>\n",
       "      <td>False</td>\n",
       "    </tr>\n",
       "    <tr>\n",
       "      <th>2</th>\n",
       "      <td>False</td>\n",
       "      <td>False</td>\n",
       "      <td>False</td>\n",
       "      <td>False</td>\n",
       "    </tr>\n",
       "    <tr>\n",
       "      <th>3</th>\n",
       "      <td>False</td>\n",
       "      <td>False</td>\n",
       "      <td>False</td>\n",
       "      <td>False</td>\n",
       "    </tr>\n",
       "    <tr>\n",
       "      <th>4</th>\n",
       "      <td>False</td>\n",
       "      <td>False</td>\n",
       "      <td>False</td>\n",
       "      <td>False</td>\n",
       "    </tr>\n",
       "    <tr>\n",
       "      <th>...</th>\n",
       "      <td>...</td>\n",
       "      <td>...</td>\n",
       "      <td>...</td>\n",
       "      <td>...</td>\n",
       "    </tr>\n",
       "    <tr>\n",
       "      <th>195</th>\n",
       "      <td>False</td>\n",
       "      <td>False</td>\n",
       "      <td>False</td>\n",
       "      <td>False</td>\n",
       "    </tr>\n",
       "    <tr>\n",
       "      <th>196</th>\n",
       "      <td>False</td>\n",
       "      <td>False</td>\n",
       "      <td>False</td>\n",
       "      <td>False</td>\n",
       "    </tr>\n",
       "    <tr>\n",
       "      <th>197</th>\n",
       "      <td>False</td>\n",
       "      <td>False</td>\n",
       "      <td>False</td>\n",
       "      <td>False</td>\n",
       "    </tr>\n",
       "    <tr>\n",
       "      <th>198</th>\n",
       "      <td>False</td>\n",
       "      <td>False</td>\n",
       "      <td>False</td>\n",
       "      <td>False</td>\n",
       "    </tr>\n",
       "    <tr>\n",
       "      <th>199</th>\n",
       "      <td>False</td>\n",
       "      <td>False</td>\n",
       "      <td>False</td>\n",
       "      <td>False</td>\n",
       "    </tr>\n",
       "  </tbody>\n",
       "</table>\n",
       "<p>200 rows × 4 columns</p>\n",
       "</div>"
      ],
      "text/plain": [
       "        TV  radio  newspaper  sales\n",
       "0    False  False      False  False\n",
       "1    False  False      False  False\n",
       "2    False  False      False  False\n",
       "3    False  False      False  False\n",
       "4    False  False      False  False\n",
       "..     ...    ...        ...    ...\n",
       "195  False  False      False  False\n",
       "196  False  False      False  False\n",
       "197  False  False      False  False\n",
       "198  False  False      False  False\n",
       "199  False  False      False  False\n",
       "\n",
       "[200 rows x 4 columns]"
      ]
     },
     "execution_count": 10,
     "metadata": {},
     "output_type": "execute_result"
    }
   ],
   "source": [
    "df.isnull()"
   ]
  },
  {
   "cell_type": "code",
   "execution_count": 11,
   "metadata": {},
   "outputs": [
    {
     "data": {
      "text/plain": [
       "TV           0\n",
       "radio        0\n",
       "newspaper    0\n",
       "sales        0\n",
       "dtype: int64"
      ]
     },
     "execution_count": 11,
     "metadata": {},
     "output_type": "execute_result"
    }
   ],
   "source": [
    "df.isnull().sum() # No null valuse present in the data"
   ]
  },
  {
   "cell_type": "code",
   "execution_count": 12,
   "metadata": {},
   "outputs": [
    {
     "data": {
      "text/plain": [
       "<matplotlib.axes._subplots.AxesSubplot at 0x280a04a2508>"
      ]
     },
     "execution_count": 12,
     "metadata": {},
     "output_type": "execute_result"
    },
    {
     "data": {
      "image/png": "[encoded data removed]",
      "text/plain": [
       "<Figure size 432x288 with 2 Axes>"
      ]
     },
     "metadata": {
      "needs_background": "light"
     },
     "output_type": "display_data"
    }
   ],
   "source": [
    "sns.heatmap(df.isnull())"
   ]
  },
  {
   "cell_type": "code",
   "execution_count": 13,
   "metadata": {},
   "outputs": [
    {
     "data": {
      "text/html": [
       "<div>\n",
       "<style scoped>\n",
       "    .dataframe tbody tr th:only-of-type {\n",
       "        vertical-align: middle;\n",
       "    }\n",
       "\n",
       "    .dataframe tbody tr th {\n",
       "        vertical-align: top;\n",
       "    }\n",
       "\n",
       "    .dataframe thead th {\n",
       "        text-align: right;\n",
       "    }\n",
       "</style>\n",
       "<table border=\"1\" class=\"dataframe\">\n",
       "  <thead>\n",
       "    <tr style=\"text-align: right;\">\n",
       "      <th></th>\n",
       "      <th>TV</th>\n",
       "      <th>radio</th>\n",
       "      <th>newspaper</th>\n",
       "      <th>sales</th>\n",
       "    </tr>\n",
       "  </thead>\n",
       "  <tbody>\n",
       "    <tr>\n",
       "      <th>TV</th>\n",
       "      <td>1.000000</td>\n",
       "      <td>0.054809</td>\n",
       "      <td>0.056648</td>\n",
       "      <td>0.782224</td>\n",
       "    </tr>\n",
       "    <tr>\n",
       "      <th>radio</th>\n",
       "      <td>0.054809</td>\n",
       "      <td>1.000000</td>\n",
       "      <td>0.354104</td>\n",
       "      <td>0.576223</td>\n",
       "    </tr>\n",
       "    <tr>\n",
       "      <th>newspaper</th>\n",
       "      <td>0.056648</td>\n",
       "      <td>0.354104</td>\n",
       "      <td>1.000000</td>\n",
       "      <td>0.228299</td>\n",
       "    </tr>\n",
       "    <tr>\n",
       "      <th>sales</th>\n",
       "      <td>0.782224</td>\n",
       "      <td>0.576223</td>\n",
       "      <td>0.228299</td>\n",
       "      <td>1.000000</td>\n",
       "    </tr>\n",
       "  </tbody>\n",
       "</table>\n",
       "</div>"
      ],
      "text/plain": [
       "                 TV     radio  newspaper     sales\n",
       "TV         1.000000  0.054809   0.056648  0.782224\n",
       "radio      0.054809  1.000000   0.354104  0.576223\n",
       "newspaper  0.056648  0.354104   1.000000  0.228299\n",
       "sales      0.782224  0.576223   0.228299  1.000000"
      ]
     },
     "execution_count": 13,
     "metadata": {},
     "output_type": "execute_result"
    }
   ],
   "source": [
    "df.corr()"
   ]
  },
  {
   "cell_type": "code",
   "execution_count": 14,
   "metadata": {},
   "outputs": [
    {
     "data": {
      "text/plain": [
       "<matplotlib.axes._subplots.AxesSubplot at 0x280a32ebf08>"
      ]
     },
     "execution_count": 14,
     "metadata": {},
     "output_type": "execute_result"
    },
    {
     "data": {
      "image/png": "[encoded data removed]",
      "text/plain": [
       "<Figure size 432x288 with 2 Axes>"
      ]
     },
     "metadata": {
      "needs_background": "light"
     },
     "output_type": "display_data"
    }
   ],
   "source": [
    "sns.heatmap(df.corr(),annot=True)"
   ]
  },
  {
   "cell_type": "code",
   "execution_count": 15,
   "metadata": {},
   "outputs": [
    {
     "data": {
      "text/plain": [
       "<seaborn.axisgrid.PairGrid at 0x280a339ef88>"
      ]
     },
     "execution_count": 15,
     "metadata": {},
     "output_type": "execute_result"
    },
    {
     "data": {
      "image/png": "[encoded data removed]",
      "text/plain": [
       "<Figure size 1058.4x504 with 3 Axes>"
      ]
     },
     "metadata": {
      "needs_background": "light"
     },
     "output_type": "display_data"
    }
   ],
   "source": [
    "sns.pairplot(df,x_vars=df.columns[:3],y_vars=df.columns[3:],size=7,aspect=0.7,kind='reg')"
   ]
  },
  {
   "cell_type": "code",
   "execution_count": 16,
   "metadata": {},
   "outputs": [
    {
     "data": {
      "text/plain": [
       "<matplotlib.axes._subplots.AxesSubplot at 0x280a36fa848>"
      ]
     },
     "execution_count": 16,
     "metadata": {},
     "output_type": "execute_result"
    },
    {
     "data": {
      "image/png": "[encoded data removed]",
      "text/plain": [
       "<Figure size 432x288 with 1 Axes>"
      ]
     },
     "metadata": {
      "needs_background": "light"
     },
     "output_type": "display_data"
    }
   ],
   "source": [
    "sns.distplot(df)"
   ]
  },
  {
   "cell_type": "code",
   "execution_count": 17,
   "metadata": {},
   "outputs": [
    {
     "data": {
      "text/plain": [
       "TV              AxesSubplot(0.125,0.536818;0.352273x0.343182)\n",
       "radio        AxesSubplot(0.547727,0.536818;0.352273x0.343182)\n",
       "newspaper          AxesSubplot(0.125,0.125;0.352273x0.343182)\n",
       "sales           AxesSubplot(0.547727,0.125;0.352273x0.343182)\n",
       "dtype: object"
      ]
     },
     "execution_count": 17,
     "metadata": {},
     "output_type": "execute_result"
    },
    {
     "data": {
      "image/png": "[encoded data removed]",
      "text/plain": [
       "<Figure size 720x720 with 4 Axes>"
      ]
     },
     "metadata": {
      "needs_background": "light"
     },
     "output_type": "display_data"
    }
   ],
   "source": [
    "df.plot(kind='box',subplots=True,layout=(2,2),figsize=(10,10))  #Outlier is present in News paper"
   ]
  },
  {
   "cell_type": "code",
   "execution_count": 18,
   "metadata": {},
   "outputs": [
    {
     "data": {
      "text/plain": [
       "array([[<matplotlib.axes._subplots.AxesSubplot object at 0x00000280A3C37948>,\n",
       "        <matplotlib.axes._subplots.AxesSubplot object at 0x00000280A3E9F148>],\n",
       "       [<matplotlib.axes._subplots.AxesSubplot object at 0x00000280A3C78EC8>,\n",
       "        <matplotlib.axes._subplots.AxesSubplot object at 0x00000280A3CB07C8>]],\n",
       "      dtype=object)"
      ]
     },
     "execution_count": 18,
     "metadata": {},
     "output_type": "execute_result"
    },
    {
     "data": {
      "image/png": "[encoded data removed]",
      "text/plain": [
       "<Figure size 720x720 with 4 Axes>"
      ]
     },
     "metadata": {
      "needs_background": "light"
     },
     "output_type": "display_data"
    }
   ],
   "source": [
    "df.plot(kind='kde',subplots=True, layout=(2,2),figsize=(10,10))"
   ]
  },
  {
   "cell_type": "code",
   "execution_count": 19,
   "metadata": {},
   "outputs": [
    {
     "data": {
      "text/plain": [
       "<matplotlib.axes._subplots.AxesSubplot at 0x280a3de7f88>"
      ]
     },
     "execution_count": 19,
     "metadata": {},
     "output_type": "execute_result"
    },
    {
     "data": {
      "image/png": "[encoded data removed]",
      "text/plain": [
       "<Figure size 432x288 with 1 Axes>"
      ]
     },
     "metadata": {
      "needs_background": "light"
     },
     "output_type": "display_data"
    }
   ],
   "source": [
    "sns.boxplot(df['TV'])"
   ]
  },
  {
   "cell_type": "code",
   "execution_count": 20,
   "metadata": {},
   "outputs": [
    {
     "data": {
      "text/plain": [
       "<matplotlib.axes._subplots.AxesSubplot at 0x280a3e3a948>"
      ]
     },
     "execution_count": 20,
     "metadata": {},
     "output_type": "execute_result"
    },
    {
     "data": {
      "image/png": "[encoded data removed]",
      "text/plain": [
       "<Figure size 432x288 with 1 Axes>"
      ]
     },
     "metadata": {
      "needs_background": "light"
     },
     "output_type": "display_data"
    }
   ],
   "source": [
    "sns.boxplot(df['newspaper'])"
   ]
  },
  {
   "cell_type": "code",
   "execution_count": 23,
   "metadata": {},
   "outputs": [
    {
     "data": {
      "text/plain": [
       "<matplotlib.axes._subplots.AxesSubplot at 0x280a43c87c8>"
      ]
     },
     "execution_count": 23,
     "metadata": {},
     "output_type": "execute_result"
    },
    {
     "data": {
      "image/png": "[encoded data removed]",
      "text/plain": [
       "<Figure size 432x288 with 1 Axes>"
      ]
     },
     "metadata": {
      "needs_background": "light"
     },
     "output_type": "display_data"
    }
   ],
   "source": [
    "sns.boxplot(df['radio'])"
   ]
  },
  {
   "cell_type": "code",
   "execution_count": 22,
   "metadata": {},
   "outputs": [
    {
     "data": {
      "text/plain": [
       "<matplotlib.axes._subplots.AxesSubplot at 0x280a41f3448>"
      ]
     },
     "execution_count": 22,
     "metadata": {},
     "output_type": "execute_result"
    },
    {
     "data": {
      "image/png": "[encoded data removed]",
      "text/plain": [
       "<Figure size 432x288 with 1 Axes>"
      ]
     },
     "metadata": {
      "needs_background": "light"
     },
     "output_type": "display_data"
    }
   ],
   "source": [
    "sns.boxplot(df['sales'])"
   ]
  },
  {
   "cell_type": "markdown",
   "metadata": {},
   "source": [
    "### Skewnes"
   ]
  },
  {
   "cell_type": "code",
   "execution_count": 25,
   "metadata": {},
   "outputs": [
    {
     "data": {
      "text/plain": [
       "<matplotlib.axes._subplots.AxesSubplot at 0x280a449ddc8>"
      ]
     },
     "execution_count": 25,
     "metadata": {},
     "output_type": "execute_result"
    },
    {
     "data": {
      "image/png": "[encoded data removed]",
      "text/plain": [
       "<Figure size 432x288 with 1 Axes>"
      ]
     },
     "metadata": {
      "needs_background": "light"
     },
     "output_type": "display_data"
    }
   ],
   "source": [
    "sns.distplot(df['TV'])"
   ]
  },
  {
   "cell_type": "code",
   "execution_count": 28,
   "metadata": {},
   "outputs": [
    {
     "data": {
      "text/plain": [
       "<matplotlib.axes._subplots.AxesSubplot at 0x280a45222c8>"
      ]
     },
     "execution_count": 28,
     "metadata": {},
     "output_type": "execute_result"
    },
    {
     "data": {
      "image/png": "[encoded data removed]",
      "text/plain": [
       "<Figure size 432x288 with 1 Axes>"
      ]
     },
     "metadata": {
      "needs_background": "light"
     },
     "output_type": "display_data"
    }
   ],
   "source": [
    "sns.distplot(df['newspaper'])"
   ]
  },
  {
   "cell_type": "code",
   "execution_count": 29,
   "metadata": {},
   "outputs": [
    {
     "data": {
      "text/plain": [
       "<matplotlib.axes._subplots.AxesSubplot at 0x280a45ad148>"
      ]
     },
     "execution_count": 29,
     "metadata": {},
     "output_type": "execute_result"
    },
    {
     "data": {
      "image/png": "[encoded data removed]",
      "text/plain": [
       "<Figure size 432x288 with 1 Axes>"
      ]
     },
     "metadata": {
      "needs_background": "light"
     },
     "output_type": "display_data"
    }
   ],
   "source": [
    "sns.distplot(df['radio'])"
   ]
  },
  {
   "cell_type": "code",
   "execution_count": 30,
   "metadata": {},
   "outputs": [
    {
     "data": {
      "text/plain": [
       "<matplotlib.axes._subplots.AxesSubplot at 0x280a55ec688>"
      ]
     },
     "execution_count": 30,
     "metadata": {},
     "output_type": "execute_result"
    },
    {
     "data": {
      "image/png": "[encoded data removed]",
      "text/plain": [
       "<Figure size 432x288 with 1 Axes>"
      ]
     },
     "metadata": {
      "needs_background": "light"
     },
     "output_type": "display_data"
    }
   ],
   "source": [
    "sns.distplot(df['sales'])"
   ]
  },
  {
   "cell_type": "code",
   "execution_count": 35,
   "metadata": {},
   "outputs": [
    {
     "data": {
      "text/plain": [
       "TV          -0.069853\n",
       "radio        0.094175\n",
       "newspaper    0.894720\n",
       "sales        0.407571\n",
       "dtype: float64"
      ]
     },
     "execution_count": 35,
     "metadata": {},
     "output_type": "execute_result"
    }
   ],
   "source": [
    "df.skew()"
   ]
  },
  {
   "cell_type": "code",
   "execution_count": 254,
   "metadata": {},
   "outputs": [
    {
     "name": "stdout",
     "output_type": "stream",
     "text": [
      "           TV     radio  newspaper     sales\n",
      "0    5.438514  3.632309   4.237001  3.095578\n",
      "1    3.795489  3.671225   3.808882  2.341806\n",
      "2    2.844909  3.826465   4.238445  2.230014\n",
      "3    5.020586  3.720862   4.069027  2.917771\n",
      "4    5.197391  2.379546   4.067316  2.557227\n",
      "..        ...       ...        ...       ...\n",
      "195  3.642836  1.308333   2.624669  2.028148\n",
      "196  4.545420  1.589235   2.091864  2.272126\n",
      "197  5.176150  2.230014   1.856298  2.549445\n",
      "198  5.647565  3.737670   4.192680  3.238678\n",
      "199  5.447168  2.151762   2.163323  2.595255\n",
      "\n",
      "[200 rows x 4 columns]\n"
     ]
    }
   ],
   "source": [
    "skewed=np.log(df)\n",
    "print(skewed)"
   ]
  },
  {
   "cell_type": "code",
   "execution_count": 256,
   "metadata": {},
   "outputs": [],
   "source": [
    "from scipy.stats import boxcox\n",
    "\n",
    "# Box-Cox Transformation in Python\n",
    "df.insert(len(df.columns), 'A_Boxcox', \n",
    "              boxcox(df.iloc[:, 0])[0])"
   ]
  },
  {
   "cell_type": "markdown",
   "metadata": {},
   "source": [
    "# Removing Outliers"
   ]
  },
  {
   "cell_type": "code",
   "execution_count": 40,
   "metadata": {},
   "outputs": [
    {
     "data": {
      "text/plain": [
       "array([[9.69852266e-01, 9.81522472e-01, 1.77894547e+00, 1.55205313e+00],\n",
       "       [1.19737623e+00, 1.08280781e+00, 6.69578760e-01, 6.96046111e-01],\n",
       "       [1.51615499e+00, 1.52846331e+00, 1.78354865e+00, 9.07405869e-01],\n",
       "       [5.20496822e-02, 1.21785493e+00, 1.28640506e+00, 8.60330287e-01],\n",
       "       [3.94182198e-01, 8.41613655e-01, 1.28180188e+00, 2.15683025e-01],\n",
       "       [1.61540845e+00, 1.73103399e+00, 2.04592999e+00, 1.31091086e+00],\n",
       "       [1.04557682e+00, 6.43904671e-01, 3.24708413e-01, 4.27042783e-01],\n",
       "       [3.13436589e-01, 2.47406325e-01, 8.72486994e-01, 1.58039455e-01],\n",
       "       [1.61657614e+00, 1.42906863e+00, 1.36042422e+00, 1.77205942e+00],\n",
       "       [6.16042873e-01, 1.39530685e+00, 4.30581584e-01, 6.57617064e-01],\n",
       "       [9.45155670e-01, 1.17923146e+00, 2.92486143e-01, 1.04190753e+00],\n",
       "       [7.90028350e-01, 4.96973404e-02, 1.22232878e+00, 6.48970529e-01],\n",
       "       [1.43908760e+00, 7.99208859e-01, 1.62704048e+00, 9.26620392e-01],\n",
       "       [5.78501712e-01, 1.05768905e+00, 1.07502697e+00, 8.30547775e-01],\n",
       "       [6.66253447e-01, 6.50657027e-01, 7.11007392e-01, 9.56402904e-01],\n",
       "       [5.64664612e-01, 1.65000572e+00, 1.02862691e+00, 1.60969670e+00],\n",
       "       [9.25304978e-01, 9.00494200e-01, 3.84117072e+00, 2.92541119e-01],\n",
       "       [1.56887609e+00, 1.10306488e+00, 1.16211917e+00, 1.99398717e+00],\n",
       "       [9.08957349e-01, 1.86635121e-01, 5.64073843e-01, 5.23115400e-01],\n",
       "       [3.00679600e-03, 4.29449843e-02, 5.27248393e-01, 1.10963873e-01],\n",
       "       [8.33232798e-01, 2.99534513e-01, 1.05164281e+00, 7.64257669e-01],\n",
       "       [1.05509347e+00, 1.22649795e+00, 3.24708413e-01, 2.92541119e-01],\n",
       "       [1.56286250e+00, 4.97243498e-01, 8.76721921e-01, 1.61834324e+00],\n",
       "       [9.48833887e-01, 4.29719938e-01, 2.00422516e-01, 2.83894584e-01],\n",
       "       [9.89527805e-01, 7.20071247e-01, 5.64073843e-01, 8.30547775e-01],\n",
       "       [1.35285385e+00, 1.33453565e+00, 5.08835667e-01, 3.88613736e-01],\n",
       "       [4.83714657e-02, 4.07572210e-01, 8.26455181e-01, 1.87821967e-01],\n",
       "       [1.08662104e+00, 4.43224650e-01, 3.52327501e-01, 3.60752677e-01],\n",
       "       [1.18820988e+00, 2.59020377e-01, 3.52327501e-01, 9.37188380e-01],\n",
       "       [8.92609721e-01, 4.90491142e-01, 4.71641962e-01, 6.76831588e-01],\n",
       "       [1.70316018e+00, 3.40048650e-01, 5.82118314e-01, 1.41755147e+00],\n",
       "       [3.98677796e-01, 3.95958157e-01, 3.70371972e-01, 4.07828260e-01],\n",
       "       [5.82004775e-01, 1.46958277e+00, 2.55016247e-02, 8.49762299e-01],\n",
       "       [1.38438142e+00, 2.20396901e-01, 1.39264649e+00, 6.48970529e-01],\n",
       "       [5.99520091e-01, 1.47633512e+00, 1.06582061e+00, 8.68976822e-01],\n",
       "       [1.67747105e+00, 1.29402151e+00, 1.01518562e+00, 2.34897549e-01],\n",
       "       [1.39956136e+00, 1.38666383e+00, 1.17629696e+00, 2.18613240e+00],\n",
       "       [8.44734522e-01, 1.76479577e+00, 6.97197848e-01, 1.30178396e-01],\n",
       "       [1.21372386e+00, 2.32010953e-01, 2.09260624e-01, 7.53689682e-01],\n",
       "       [9.45330823e-01, 9.74770116e-01, 6.65620024e-02, 1.43676599e+00],\n",
       "       [6.47570443e-01, 6.50927121e-02, 4.81492770e-02, 4.95254341e-01],\n",
       "       [3.49810063e-01, 6.84418807e-01, 3.74975153e-01, 5.91326959e-01],\n",
       "       [1.71133400e+00, 2.99534513e-01, 1.32359877e+00, 1.28304980e+00],\n",
       "       [6.98948705e-01, 1.00367020e+00, 1.91216154e-01, 2.15683025e-01],\n",
       "       [1.42390765e+00, 1.64487393e-01, 5.86721496e-01, 1.06112206e+00],\n",
       "       [3.27623995e-01, 5.15880000e-02, 4.35460956e-02, 1.68607443e-01],\n",
       "       [6.69581357e-01, 9.02384859e-01, 2.36879713e-01, 6.57617064e-01],\n",
       "       [1.08428567e+00, 1.23135965e+00, 5.54867481e-01, 1.76341289e+00],\n",
       "       [9.35989321e-01, 5.03995854e-01, 8.90531465e-01, 1.49392920e-01],\n",
       "       [9.35814168e-01, 7.80842451e-01, 2.87514708e-01, 8.30547775e-01],\n",
       "       [6.16042873e-01, 1.36154507e+00, 1.86244718e-01, 5.03900877e-01],\n",
       "       [5.44638766e-01, 9.22641928e-01, 1.24074150e+00, 6.38402541e-01],\n",
       "       [8.09879042e-01, 1.24486436e+00, 4.16403786e-01, 1.64812575e+00],\n",
       "       [4.15200577e-01, 1.54872038e+00, 1.29561142e+00, 1.37912242e+00],\n",
       "       [1.35051848e+00, 3.73810430e-01, 6.74550196e-01, 1.18697718e+00],\n",
       "       [6.05533683e-01, 1.76479577e+00, 1.35545278e+00, 1.85948550e+00],\n",
       "       [1.63175608e+00, 3.26543937e-01, 4.99261050e-01, 1.63755776e+00],\n",
       "       [1.26606546e-01, 2.74415749e-01, 6.42327927e-01, 1.58039455e-01],\n",
       "       [7.44488528e-01, 1.77830048e+00, 3.28943340e-01, 1.87870003e+00],\n",
       "       [7.43320840e-01, 4.21076922e-01, 9.78360166e-01, 8.41115763e-01],\n",
       "       [1.09228433e+00, 1.43582099e+00, 4.21375221e-01, 1.13798015e+00],\n",
       "       [1.33417085e+00, 1.31238792e+00, 1.11148417e+00, 1.95555812e+00],\n",
       "       [1.07727954e+00, 5.24252922e-01, 1.49787521e-01, 3.22323631e-01],\n",
       "       [5.17781948e-01, 4.27829278e-01, 1.01978880e+00, 4.32326777e-03],\n",
       "       [1.86158622e-01, 1.31914027e+00, 7.61366196e-02, 7.64257669e-01],\n",
       "       [9.11292725e-01, 9.42898996e-01, 1.36502740e+00, 9.07405869e-01],\n",
       "       [1.34917564e+00, 9.02114765e-02, 1.30518604e+00, 8.68976822e-01],\n",
       "       [9.04082253e-02, 5.91776482e-01, 9.36931533e-01, 1.19610408e-01],\n",
       "       [1.05509347e+00, 2.86029801e-01, 9.00106083e-01, 9.37188380e-01],\n",
       "       [8.14549794e-01, 1.39341619e+00, 1.54390703e-01, 1.59048218e+00],\n",
       "       [6.07869059e-01, 4.95352838e-01, 3.74975153e-01, 8.21901240e-01],\n",
       "       [4.34876116e-01, 6.05281194e-01, 5.27524584e-02, 3.11755643e-01],\n",
       "       [1.40405696e+00, 6.57409383e-01, 5.18042030e-01, 1.00347849e+00],\n",
       "       [2.06009314e-01, 1.18598381e+00, 3.43397329e-02, 5.80758971e-01],\n",
       "       [7.74848409e-01, 9.02114765e-02, 8.03439274e-01, 5.72112435e-01],\n",
       "       [1.51965805e+00, 1.37991148e+00, 2.70878810e+00, 1.02269301e+00],\n",
       "       [1.39588315e+00, 1.46283041e+00, 4.53597491e-01, 1.36855443e+00],\n",
       "       [3.09933525e-01, 3.53553362e-01, 7.52804279e-01, 3.41057791e-02],\n",
       "       [1.65394214e+00, 4.48086346e-01, 9.73756984e-01, 1.67598681e+00],\n",
       "       [3.62479475e-01, 1.05093669e+00, 3.43121138e-01, 5.80758971e-01],\n",
       "       [8.24883830e-01, 2.32010953e-01, 3.79946589e-01, 4.27042783e-01],\n",
       "       [1.08311798e+00, 1.29402151e+00, 2.92117889e-01, 3.30970166e-01],\n",
       "       [8.37728396e-01, 2.00139833e-01, 8.95779092e-02, 5.23115400e-01],\n",
       "       [9.18298852e-01, 1.43393033e+00, 2.32276531e-01, 8.11813615e-02],\n",
       "       [7.76016097e-01, 1.33264499e+00, 1.49419267e-01, 1.47519504e+00],\n",
       "       [5.38975481e-01, 3.28434597e-01, 1.61783412e+00, 2.26251013e-01],\n",
       "       [8.26051518e-01, 2.86029801e-01, 6.69947015e-01, 3.88613736e-01],\n",
       "       [4.24366926e-01, 1.17058844e+00, 1.50275459e+00, 3.79967201e-01],\n",
       "       [6.85928986e-01, 1.50982681e-01, 1.97227908e+00, 2.15683025e-01],\n",
       "       [4.34876116e-01, 1.65675807e+00, 9.59579186e-01, 5.14468865e-01],\n",
       "       [1.48792614e-01, 1.24000266e+00, 9.78360166e-01, 5.42329924e-01],\n",
       "       [1.38303858e+00, 1.46958277e+00, 1.12593816e-01, 1.29169634e+00],\n",
       "       [8.25058983e-01, 6.91171163e-01, 1.30942097e+00, 1.03326100e+00],\n",
       "       [1.21273132e+00, 8.93741844e-01, 1.92164409e+00, 1.57126765e+00],\n",
       "       [4.62900623e-01, 6.25538262e-01, 9.04709264e-01, 4.84686354e-01],\n",
       "       [1.89836839e-01, 5.62876398e-01, 1.02862691e+00, 5.52897912e-01],\n",
       "       [5.90353742e-01, 1.33453565e+00, 1.13486833e+00, 4.46257307e-01],\n",
       "       [4.42057396e-01, 1.52873340e-01, 3.93756133e-01, 2.83894584e-01],\n",
       "       [1.66579418e+00, 1.28537849e+00, 9.50372823e-01, 2.18613240e+00],\n",
       "       [1.38283424e-01, 1.24486436e+00, 7.06404211e-01, 6.10541482e-01],\n",
       "       [8.79940308e-01, 1.28051680e+00, 8.85928284e-01, 4.46257307e-01],\n",
       "       [1.74402926e+00, 8.80237132e-01, 3.23815396e+00, 1.87870003e+00],\n",
       "       [1.55486384e+00, 8.88880147e-01, 4.21375221e-01, 1.49392920e-01],\n",
       "       [4.77088029e-01, 4.09462869e-01, 5.82486569e-01, 1.30178396e-01],\n",
       "       [1.06443498e+00, 7.45190011e-01, 1.16248742e+00, 1.28304980e+00],\n",
       "       [1.06755854e-01, 1.56222509e+00, 1.30942097e+00, 9.94831951e-01],\n",
       "       [1.42507534e+00, 8.28108943e-01, 3.93111688e-02, 1.31091086e+00],\n",
       "       [6.61407543e-01, 1.55061104e+00, 3.38517957e-01, 1.02269301e+00],\n",
       "       [1.56403019e+00, 1.54385868e+00, 2.28041604e-01, 1.67598681e+00],\n",
       "       [1.26527727e+00, 2.45515665e-01, 1.15328106e+00, 1.11011909e+00],\n",
       "       [9.19641692e-01, 1.01717491e+00, 1.19434143e+00, 1.19610408e-01],\n",
       "       [1.10530405e+00, 9.95027184e-01, 3.38517957e-01, 1.49440956e+00],\n",
       "       [3.34630122e-01, 5.31005278e-01, 1.29597968e+00, 1.48912557e-02],\n",
       "       [7.30476274e-01, 1.79882765e-01, 9.13915627e-01, 3.60752677e-01],\n",
       "       [8.03865450e-01, 1.58923451e+00, 1.81641536e-01, 1.10963873e-01],\n",
       "       [8.40063771e-01, 7.92456503e-01, 1.01942054e+00, 2.73326596e-01],\n",
       "       [9.15759131e-02, 6.05281194e-01, 2.28041604e-01, 3.50184689e-01],\n",
       "       [8.24883830e-01, 1.51684926e+00, 7.25185191e-01, 8.88191346e-01],\n",
       "       [2.49213762e-01, 9.20751268e-01, 2.23926360e+00, 3.60752677e-01],\n",
       "       [1.49046586e+00, 4.90491142e-01, 3.79946589e-01, 1.42619800e+00],\n",
       "       [6.70544700e-02, 2.38763309e-01, 7.20213755e-01, 2.83894584e-01],\n",
       "       [1.49747198e+00, 1.05606848e-01, 9.13547372e-01, 1.34933991e+00],\n",
       "       [8.98623313e-01, 1.40881156e+00, 6.88359740e-01, 4.65471830e-01],\n",
       "       [2.79573643e-01, 7.65447079e-01, 8.35661544e-01, 2.26251013e-01],\n",
       "       [9.62846140e-01, 6.10142891e-01, 2.00910454e+00, 1.09090457e+00],\n",
       "       [6.98773552e-01, 7.74090095e-01, 2.14232060e-01, 6.57617064e-01],\n",
       "       [1.62591764e+00, 1.05579839e+00, 9.22753735e-01, 1.42619800e+00],\n",
       "       [7.80511695e-01, 1.57086811e+00, 9.82963347e-01, 1.00347849e+00],\n",
       "       [8.55418865e-01, 1.73778635e+00, 1.25915423e+00, 2.05163074e+00],\n",
       "       [1.02105537e+00, 7.60585383e-01, 5.77515133e-01, 8.30547775e-01],\n",
       "       [1.70882347e+00, 1.10306488e+00, 1.00597925e+00, 2.38692417e+00],\n",
       "       [1.37971067e+00, 1.37504978e+00, 5.72911952e-01, 2.54112072e-01],\n",
       "       [1.61891151e+00, 2.65772733e-01, 1.30978922e+00, 1.59912871e+00],\n",
       "       [8.49580427e-01, 6.91171163e-01, 6.69578760e-01, 1.07169004e+00],\n",
       "       [1.28612050e+00, 1.03554132e+00, 1.61323094e+00, 6.19188018e-01],\n",
       "       [1.15300409e+00, 1.60273923e+00, 1.01518562e+00, 4.65471830e-01],\n",
       "       [1.41806922e+00, 1.06255074e+00, 9.78360166e-01, 8.68976822e-01],\n",
       "       [1.47896413e+00, 3.80562786e-01, 1.34164324e+00, 1.30226433e+00],\n",
       "       [1.21489154e+00, 1.77992105e-01, 4.62803854e-01, 8.49762299e-01],\n",
       "       [4.42057396e-01, 1.39341619e+00, 1.32820195e+00, 1.28304980e+00],\n",
       "       [8.59914463e-01, 4.22967582e-01, 8.12645637e-01, 5.99973494e-01],\n",
       "       [5.44813920e-01, 8.19465927e-01, 2.07354907e+00, 9.94831951e-01],\n",
       "       [8.57754241e-01, 6.70914095e-01, 3.38149702e-01, 1.16776266e+00],\n",
       "       [4.95595880e-01, 1.18598381e+00, 1.77038355e-01, 6.96046111e-01],\n",
       "       [5.93681653e-01, 5.71519414e-01, 3.84181516e-01, 5.03900877e-01],\n",
       "       [7.87313476e-02, 1.44257334e+00, 9.92169710e-01, 7.15260635e-01],\n",
       "       [1.08662104e+00, 1.07794612e+00, 1.00597925e+00, 1.58039455e-01],\n",
       "       [1.12281936e+00, 1.73778635e+00, 6.32753309e-01, 2.18613240e+00],\n",
       "       [1.27327593e+00, 1.15033137e+00, 8.58677450e-01, 5.99973494e-01],\n",
       "       [1.19504085e+00, 1.71239749e-01, 4.58200672e-01, 7.53689682e-01],\n",
       "       [1.56070228e+00, 6.32290618e-01, 2.96721070e-01, 3.99181724e-01],\n",
       "       [3.04095087e-01, 1.00367020e+00, 8.35293289e-01, 4.65471830e-01],\n",
       "       [5.90353742e-01, 2.43084817e-03, 7.52804279e-01, 4.95254341e-01],\n",
       "       [2.83251860e-01, 1.10981724e+00, 3.28943340e-01, 9.56402904e-01],\n",
       "       [4.75920341e-01, 1.46120984e-01, 9.69153803e-01, 3.03109107e-01],\n",
       "       [1.66912209e+00, 7.87594807e-01, 1.14407469e+00, 2.07949180e+00],\n",
       "       [6.20538471e-01, 1.36640677e+00, 9.18150553e-01, 2.45465537e-01],\n",
       "       [3.21989902e-02, 1.48308748e+00, 2.87882962e-01, 7.53689682e-01],\n",
       "       [1.58037782e+00, 9.20751268e-01, 6.74181942e-01, 1.29169634e+00],\n",
       "       [1.79152496e-01, 3.28434597e-01, 1.86244718e-01, 2.15683025e-01],\n",
       "       [2.97264113e-01, 3.48691665e-01, 6.72064478e-03, 7.25348259e-02],\n",
       "       [7.16288868e-01, 8.46475352e-01, 8.62912377e-01, 1.38824932e-01],\n",
       "       [4.82926468e-01, 3.48691665e-01, 2.28041604e-01, 1.68607443e-01],\n",
       "       [1.92172214e-01, 9.13998912e-01, 1.06582061e+00, 7.64257669e-01],\n",
       "       [3.48467222e-01, 5.78271770e-01, 1.15788424e+00, 4.07828260e-01],\n",
       "       [1.02123053e+00, 1.34128800e+00, 2.49704176e+00, 4.07828260e-01],\n",
       "       [1.50798117e+00, 9.68017760e-01, 4.12168859e-01, 1.15719467e+00],\n",
       "       [6.97781017e-01, 1.21974559e+00, 5.13438849e-01, 3.50184689e-01],\n",
       "       [7.98202165e-01, 2.26879163e-02, 1.24497643e+00, 5.91326959e-01],\n",
       "       [1.60273904e+00, 8.55118367e-01, 1.11185242e+00, 1.87821967e-01],\n",
       "       [1.13315340e+00, 7.87594807e-01, 5.59470662e-01, 1.08033658e+00],\n",
       "       [2.03849092e-01, 1.59625696e-01, 7.75451931e-01, 9.17493494e-02],\n",
       "       [1.48813048e+00, 2.13644545e-01, 6.23915201e-01, 1.23405277e+00],\n",
       "       [2.49388915e-01, 1.09145083e+00, 8.17248818e-01, 4.46257307e-01],\n",
       "       [8.79940308e-01, 1.34128800e+00, 8.03439274e-01, 4.84686354e-01],\n",
       "       [1.51633014e+00, 1.73103399e+00, 5.17673775e-01, 2.49356478e+00],\n",
       "       [1.18353913e+00, 4.68343414e-01, 4.72010216e-01, 1.18697718e+00],\n",
       "       [2.70407294e-01, 1.04418434e+00, 2.13863806e-01, 4.46257307e-01],\n",
       "       [1.51399477e+00, 1.41556392e+00, 3.15502050e-01, 4.27042783e-01],\n",
       "       [2.16693657e-01, 8.95632503e-01, 5.96296113e-01, 2.73326596e-01],\n",
       "       [1.11601758e-01, 1.39530685e+00, 1.02439198e+00, 6.76831588e-01],\n",
       "       [8.34400486e-01, 1.20624088e+00, 1.45184340e-01, 3.50184689e-01],\n",
       "       [1.06075676e+00, 1.18598381e+00, 3.93111688e-02, 1.02269301e+00],\n",
       "       [1.64127273e+00, 1.33264499e+00, 1.89862818e+00, 2.33984859e+00],\n",
       "       [1.24659427e+00, 1.32616272e-01, 2.55016247e-02, 6.87399576e-01],\n",
       "       [6.76762637e-01, 1.47444446e+00, 5.04232486e-01, 1.64812575e+00],\n",
       "       [8.80728498e-02, 1.42906863e+00, 1.82009791e-01, 7.15260635e-01],\n",
       "       [5.14454038e-01, 3.67058074e-01, 5.68677025e-01, 6.29756005e-01],\n",
       "       [1.62258973e+00, 6.32290618e-01, 1.23613832e+00, 3.60752677e-01],\n",
       "       [1.49863967e+00, 7.53833027e-01, 3.29311594e-01, 1.40698348e+00],\n",
       "       [1.25576062e+00, 1.20435022e+00, 1.13947151e+00, 6.19188018e-01],\n",
       "       [8.35393020e-01, 8.41613655e-01, 1.13026515e+00, 7.92118728e-01],\n",
       "       [1.51615499e+00, 1.29402151e+00, 4.81492770e-02, 1.56069967e+00],\n",
       "       [2.30705910e-01, 1.26512143e+00, 1.24074150e+00, 1.07169004e+00],\n",
       "       [3.10313024e-02, 8.32970639e-01, 1.13026515e+00, 6.29756005e-01],\n",
       "       [1.27094056e+00, 1.32103093e+00, 7.71217005e-01, 1.23405277e+00],\n",
       "       [6.17035408e-01, 1.24000266e+00, 1.03359834e+00, 8.30547775e-01],\n",
       "       [3.49810063e-01, 9.42898996e-01, 1.11185242e+00, 2.34897549e-01],\n",
       "       [1.59456522e+00, 1.26512143e+00, 1.64085003e+00, 2.20534693e+00],\n",
       "       [9.93206022e-01, 9.90165488e-01, 1.00597925e+00, 1.19610408e-01]])"
      ]
     },
     "execution_count": 40,
     "metadata": {},
     "output_type": "execute_result"
    }
   ],
   "source": [
    "# Removing Outliers\n",
    "from scipy.stats import zscore\n",
    "z=np.abs(zscore(df))\n",
    "z"
   ]
  },
  {
   "cell_type": "code",
   "execution_count": 41,
   "metadata": {},
   "outputs": [
    {
     "name": "stdout",
     "output_type": "stream",
     "text": [
      "(array([ 16, 101], dtype=int64), array([2, 2], dtype=int64))\n"
     ]
    }
   ],
   "source": [
    "threshold=3\n",
    "print(np.where(z>3))"
   ]
  },
  {
   "cell_type": "code",
   "execution_count": 45,
   "metadata": {},
   "outputs": [
    {
     "data": {
      "text/html": [
       "<div>\n",
       "<style scoped>\n",
       "    .dataframe tbody tr th:only-of-type {\n",
       "        vertical-align: middle;\n",
       "    }\n",
       "\n",
       "    .dataframe tbody tr th {\n",
       "        vertical-align: top;\n",
       "    }\n",
       "\n",
       "    .dataframe thead th {\n",
       "        text-align: right;\n",
       "    }\n",
       "</style>\n",
       "<table border=\"1\" class=\"dataframe\">\n",
       "  <thead>\n",
       "    <tr style=\"text-align: right;\">\n",
       "      <th></th>\n",
       "      <th>TV</th>\n",
       "      <th>radio</th>\n",
       "      <th>newspaper</th>\n",
       "      <th>sales</th>\n",
       "    </tr>\n",
       "  </thead>\n",
       "  <tbody>\n",
       "    <tr>\n",
       "      <th>0</th>\n",
       "      <td>230.1</td>\n",
       "      <td>37.8</td>\n",
       "      <td>69.2</td>\n",
       "      <td>22.1</td>\n",
       "    </tr>\n",
       "    <tr>\n",
       "      <th>1</th>\n",
       "      <td>44.5</td>\n",
       "      <td>39.3</td>\n",
       "      <td>45.1</td>\n",
       "      <td>10.4</td>\n",
       "    </tr>\n",
       "    <tr>\n",
       "      <th>2</th>\n",
       "      <td>17.2</td>\n",
       "      <td>45.9</td>\n",
       "      <td>69.3</td>\n",
       "      <td>9.3</td>\n",
       "    </tr>\n",
       "    <tr>\n",
       "      <th>3</th>\n",
       "      <td>151.5</td>\n",
       "      <td>41.3</td>\n",
       "      <td>58.5</td>\n",
       "      <td>18.5</td>\n",
       "    </tr>\n",
       "    <tr>\n",
       "      <th>4</th>\n",
       "      <td>180.8</td>\n",
       "      <td>10.8</td>\n",
       "      <td>58.4</td>\n",
       "      <td>12.9</td>\n",
       "    </tr>\n",
       "    <tr>\n",
       "      <th>...</th>\n",
       "      <td>...</td>\n",
       "      <td>...</td>\n",
       "      <td>...</td>\n",
       "      <td>...</td>\n",
       "    </tr>\n",
       "    <tr>\n",
       "      <th>195</th>\n",
       "      <td>38.2</td>\n",
       "      <td>3.7</td>\n",
       "      <td>13.8</td>\n",
       "      <td>7.6</td>\n",
       "    </tr>\n",
       "    <tr>\n",
       "      <th>196</th>\n",
       "      <td>94.2</td>\n",
       "      <td>4.9</td>\n",
       "      <td>8.1</td>\n",
       "      <td>9.7</td>\n",
       "    </tr>\n",
       "    <tr>\n",
       "      <th>197</th>\n",
       "      <td>177.0</td>\n",
       "      <td>9.3</td>\n",
       "      <td>6.4</td>\n",
       "      <td>12.8</td>\n",
       "    </tr>\n",
       "    <tr>\n",
       "      <th>198</th>\n",
       "      <td>283.6</td>\n",
       "      <td>42.0</td>\n",
       "      <td>66.2</td>\n",
       "      <td>25.5</td>\n",
       "    </tr>\n",
       "    <tr>\n",
       "      <th>199</th>\n",
       "      <td>232.1</td>\n",
       "      <td>8.6</td>\n",
       "      <td>8.7</td>\n",
       "      <td>13.4</td>\n",
       "    </tr>\n",
       "  </tbody>\n",
       "</table>\n",
       "<p>198 rows × 4 columns</p>\n",
       "</div>"
      ],
      "text/plain": [
       "        TV  radio  newspaper  sales\n",
       "0    230.1   37.8       69.2   22.1\n",
       "1     44.5   39.3       45.1   10.4\n",
       "2     17.2   45.9       69.3    9.3\n",
       "3    151.5   41.3       58.5   18.5\n",
       "4    180.8   10.8       58.4   12.9\n",
       "..     ...    ...        ...    ...\n",
       "195   38.2    3.7       13.8    7.6\n",
       "196   94.2    4.9        8.1    9.7\n",
       "197  177.0    9.3        6.4   12.8\n",
       "198  283.6   42.0       66.2   25.5\n",
       "199  232.1    8.6        8.7   13.4\n",
       "\n",
       "[198 rows x 4 columns]"
      ]
     },
     "execution_count": 45,
     "metadata": {},
     "output_type": "execute_result"
    }
   ],
   "source": [
    "df_new=df[(z<3).all(axis=1)]  # Outliers is removed\n",
    "df_new"
   ]
  },
  {
   "cell_type": "code",
   "execution_count": 47,
   "metadata": {},
   "outputs": [
    {
     "data": {
      "text/plain": [
       "TV              AxesSubplot(0.125,0.536818;0.352273x0.343182)\n",
       "radio        AxesSubplot(0.547727,0.536818;0.352273x0.343182)\n",
       "newspaper          AxesSubplot(0.125,0.125;0.352273x0.343182)\n",
       "sales           AxesSubplot(0.547727,0.125;0.352273x0.343182)\n",
       "dtype: object"
      ]
     },
     "execution_count": 47,
     "metadata": {},
     "output_type": "execute_result"
    },
    {
     "data": {
      "image/png": "[encoded data removed]",
      "text/plain": [
       "<Figure size 720x720 with 4 Axes>"
      ]
     },
     "metadata": {
      "needs_background": "light"
     },
     "output_type": "display_data"
    }
   ],
   "source": [
    "df_new.plot(kind='box',subplots=True, layout=(2,2),figsize=(10,10)) #No Outlier is present"
   ]
  },
  {
   "cell_type": "code",
   "execution_count": 87,
   "metadata": {},
   "outputs": [],
   "source": [
    "x=df_new.iloc[:,:-1]\n",
    "y=df_new.iloc[:,3:]"
   ]
  },
  {
   "cell_type": "markdown",
   "metadata": {},
   "source": [
    "## Standard Scaler"
   ]
  },
  {
   "cell_type": "code",
   "execution_count": 88,
   "metadata": {},
   "outputs": [
    {
     "name": "stdout",
     "output_type": "stream",
     "text": [
      "[[ 0.97869734  0.98952135  1.93299778]\n",
      " [-1.19901165  1.09070498  0.75131275]\n",
      " [-1.51933199  1.53591293  1.93790103]\n",
      " [ 0.05645636  1.22561648  1.40834924]\n",
      " [ 0.40024339 -0.83178391  1.40344598]\n",
      " [-1.61906543  1.73828018  2.2173867 ]\n",
      " [-1.04647815  0.6522426  -0.30779084]\n",
      " [-0.31079737 -0.23817331 -0.89127846]\n",
      " [-1.62023876 -1.41864895 -1.41102374]\n",
      " [ 0.62317696 -1.38492107 -0.42056576]\n",
      " [-0.94557138 -1.16906267 -0.27346804]\n",
      " [ 0.79800381  0.05863199 -1.26392602]\n",
      " [-1.44189191  0.80739083  1.77119028]\n",
      " [-0.57714432 -1.04764232 -1.10702179]\n",
      " [ 0.67363035  0.65898817  0.79544207]\n",
      " [ 0.57155024  1.65733328  1.13376683]\n",
      " [ 1.58061798  1.1109417   1.27596129]\n",
      " [-0.90919801 -0.17746313 -0.56276022]\n",
      " [ 0.0071763   0.05188642 -0.52353416]\n",
      " [ 0.84141719  0.30821827  1.15828311]\n",
      " [ 1.06435076 -1.21628169 -0.30779084]\n",
      " [-1.56626537 -0.48775959  0.97195933]\n",
      " [ 0.95757732 -0.42030384 -0.17540289]\n",
      " [-0.99015809 -0.71036356 -0.56276022]\n",
      " [ 1.36355108 -1.32421089 -0.50392113]\n",
      " [-0.04445042  0.41614747 -0.84224589]\n",
      " [ 1.0960308  -0.43379499 -0.33721038]\n",
      " [ 1.19811091  0.26774482 -0.33721038]\n",
      " [-0.89277132 -0.48101401  0.54047269]\n",
      " [ 1.71555146  0.34869172  0.65815086]\n",
      " [-0.39645079 -0.38657596  0.43260102]\n",
      " [-0.58066432 -1.4591224   0.01092089]\n",
      " [ 1.39523112 -0.21119101 -1.44534654]\n",
      " [-0.59826434 -1.46586797 -1.09721527]\n",
      " [ 1.6897381  -1.28373744 -1.04327944]\n",
      " [ 1.41048447  1.39425586 -1.21489345]\n",
      " [-0.8446646   1.77200806  0.7807323 ]\n",
      " [-1.21543833  0.24076252  0.26098702]\n",
      " [ 0.95405731  0.98277578  0.10898604]\n",
      " [ 0.65485699 -0.05604278  0.08937301]\n",
      " [ 0.35565668  0.69271605  0.43750428]\n",
      " [ 1.7237648   0.30821827 -1.37179768]\n",
      " [ 0.70648372 -0.99367772 -0.16559637]\n",
      " [-1.42663856  0.17330677  0.66305412]\n",
      " [ 0.33336332 -0.04255163  0.08446975]\n",
      " [-0.66866442 -0.89249409  0.29040656]\n",
      " [ 1.09368413  1.23910763 -0.5529537 ]\n",
      " [ 0.94467064 -0.49450516  0.98666911]\n",
      " [-0.9361847  -0.77107374  0.34434239]\n",
      " [ 0.62317696 -1.35119319  0.23647073]\n",
      " [-0.54311762 -0.91273082 -1.28353905]\n",
      " [ 0.8179505   1.25259878  0.4816336 ]\n",
      " [ 0.42136341  1.55614966  1.41815575]\n",
      " [ 1.36120441  0.3824196  -0.6804384 ]\n",
      " [ 0.61261695  1.77200806  1.4818981 ]\n",
      " [-1.63549211  0.33520057  0.56989223]\n",
      " [-0.12306383 -0.26515561 -0.64611559]\n",
      " [ 0.75224376  1.78549921  0.38847171]\n",
      " [ 0.75107043  0.42963862 -1.00405338]\n",
      " [-1.09341154 -1.42539452 -0.41075924]\n",
      " [ 1.34477773  1.32005453  1.22202546]\n",
      " [ 1.08664412 -0.51474189 -0.12146706]\n",
      " [-0.51613092  0.4363842  -1.0481827 ]\n",
      " [-0.1829039   1.32680011 -0.04301494]\n",
      " [-0.91154467 -0.93296754 -1.415927  ]\n",
      " [-1.35154514  0.09910544 -1.35218465]\n",
      " [-0.08669046 -0.58219764 -0.95992407]\n",
      " [ 1.06435076  0.29472712 -0.92069801]\n",
      " [ 0.82264384  1.40100143 -0.12637031]\n",
      " [ 0.61496362  0.50383995  0.43750428]\n",
      " [-0.43282416 -0.59568879  0.09427627]\n",
      " [-1.40669187  0.66573375 -0.51372765]\n",
      " [-0.20285059 -1.17580824  0.07466324]\n",
      " [ 0.78275046  0.09910544 -0.8177296 ]\n",
      " [-1.52285199  1.38751028  2.92345576]\n",
      " [-1.39847853 -1.45237682 -0.44508204]\n",
      " [-0.30727736  0.36218287 -0.76379377]\n",
      " [-1.65778547  0.45662092 -0.99915012]\n",
      " [-0.36007742 -1.04089674 -0.32740387]\n",
      " [-0.82471792  0.24076252 -0.36662993]\n",
      " [ 1.09251079 -1.28373744  0.34924565]\n",
      " [-0.8376246  -0.19095428  0.13350233]\n",
      " [-0.91858468  1.44147488  0.2855033 ]\n",
      " [ 0.7839238   1.34029126  0.19724467]\n",
      " [ 0.54573688 -0.31912021  1.76138377]\n",
      " [-0.82589125  0.29472712 -0.67553514]\n",
      " [-0.42226415  1.17839745  1.63880233]\n",
      " [-0.6850911   0.15981562  2.13893458]\n",
      " [-0.43282416  1.66407886  1.06021797]\n",
      " [-0.14535719 -1.22977284 -1.00405338]\n",
      " [-1.38557185 -1.4591224   0.15801861]\n",
      " [ 0.83320385  0.69946162  1.43286552]\n",
      " [ 1.22275093  0.90182888  2.08499875]\n",
      " [-0.46098419 -0.61592551 -0.92560126]\n",
      " [ 0.19490984  0.5712957   1.13376683]\n",
      " [ 0.5973636  -1.32421089 -1.17076413]\n",
      " [ 0.44835011 -0.14373526 -0.3813397 ]\n",
      " [ 1.67800475  1.29307223  1.05041145]\n",
      " [-0.13479718  1.25259878  0.79053881]\n",
      " [ 0.88835058 -1.27024629  0.98176585]\n",
      " [ 1.56653796 -0.87900294 -0.41075924]\n",
      " [ 0.48355014 -0.40006711 -0.58237325]\n",
      " [ 1.07373744  0.75342622 -1.20018368]\n",
      " [-0.10311715  1.56964081  1.43286552]\n",
      " [-1.42781189 -0.81829276 -0.00378888]\n",
      " [-0.66045107 -1.5400693  -0.32250061]\n",
      " [-1.56743871 -1.53332372 -0.20482243]\n",
      " [ 1.27555099  0.25425367 -1.19037716]\n",
      " [ 0.92824395 -1.00716887  1.31028409]\n",
      " [ 1.11480415  1.0030125  -0.32250061]\n",
      " [ 0.34040333 -0.52148746 -1.34237814]\n",
      " [ 0.73816375 -0.17071756 -0.93540778]\n",
      " [-0.80359789  1.59662311  0.23156747]\n",
      " [-0.83997127  0.80064525  1.12396031]\n",
      " [-0.0878638  -0.59568879 -0.20482243]\n",
      " [-0.82471792 -1.50634142 -0.73437423]\n",
      " [-0.24626397  0.92881118  2.42332351]\n",
      " [-1.49351863 -0.48101401 -0.36662993]\n",
      " [-0.06322377  0.2475081   0.80524858]\n",
      " [-1.50055864 -0.09651623  1.01118539]\n",
      " [ 0.90712393 -1.39841222 -0.69514817]\n",
      " [-0.27677067  0.77366295 -0.8520524 ]\n",
      " [ 0.97165733  0.61851472  2.17816064]\n",
      " [-0.69799778 -0.76432816 -0.19011266]\n",
      " [-1.62962544  1.06372268  1.02099191]\n",
      " [-0.7801312  -1.56030602 -1.00895664]\n",
      " [ 0.86371055  1.74502576 -1.30315208]\n",
      " [-1.02183813 -0.75083701  0.65324761]\n",
      " [-1.7129322   1.1109417  -1.03347293]\n",
      " [ 1.39053778 -1.36468434  0.64834435]\n",
      " [-1.62258543  0.2744904  -1.35708791]\n",
      " [ 0.85784388  0.69946162  0.75131275]\n",
      " [-1.28818508  1.04348595  1.75648051]\n",
      " [-1.15442493  1.61011426 -1.04327944]\n",
      " [-1.42077188  1.07046825 -1.00405338]\n",
      " [ 1.49027122  0.38916517  1.46718833]\n",
      " [-1.21661167  0.18679792 -0.45488856]\n",
      " [ 0.44835011  1.40100143 -1.37670094]\n",
      " [-0.85991795 -0.41355826 -0.82753612]\n",
      " [ 0.55160355  0.82762755  2.24680625]\n",
      " [ 0.86605722  0.6792249   0.39827822]\n",
      " [-0.49383756 -1.17580824  0.22666422]\n",
      " [-0.59239767 -0.56196091  0.4473108 ]\n",
      " [-0.07495712 -1.4321401  -1.01876315]\n",
      " [ 1.0960308  -1.06787904 -1.03347293]\n",
      " [ 1.13240417  1.74502576  0.71208669]\n",
      " [-1.2752784   1.15816073 -0.87656869]\n",
      " [-1.19666498  0.18005234 -0.4499853 ]\n",
      " [ 1.57240464 -0.62267109  0.35414891]\n",
      " [-0.30141069 -0.99367772  0.92783002]\n",
      " [ 0.5973636   0.01141297 -0.76379377]\n",
      " [ 0.2887766   1.11768728  0.38847171]\n",
      " [ 0.48237681 -0.13698968 -0.99424687]\n",
      " [-1.67303882 -0.77781931 -1.18057065]\n",
      " [-0.61938436  1.37401913  1.01608865]\n",
      " [ 0.03650967 -1.47261355 -0.26856478]\n",
      " [-1.58386539  0.92881118  0.75621601]\n",
      " [-0.17586389 -0.31912021  0.23647073]\n",
      " [ 0.30285662 -0.33935694  0.04524369]\n",
      " [-0.7155978   0.85460985  0.95724956]\n",
      " [ 0.48941682 -0.33935694 -0.20482243]\n",
      " [ 0.19725651  0.9220656  -1.09721527]\n",
      " [-0.34599741 -0.56870649 -1.19528042]\n",
      " [ 1.03032406 -1.33095647  2.69790592]\n",
      " [-1.51111865  0.9760302  -0.40095273]\n",
      " [ 0.70531038 -1.20953612 -0.50882439]\n",
      " [ 0.80621716  0.03164969  1.36421992]\n",
      " [ 1.61464468 -0.84527507 -1.14624784]\n",
      " [-1.13447825 -0.77781931 -0.55785696]\n",
      " [ 0.20898985 -0.15048083  0.86408767]\n",
      " [-1.49117196 -0.20444543 -0.62650256]\n",
      " [ 0.2547499  -1.08137019 -0.83243937]\n",
      " [ 0.88835058 -1.33095647 -0.8177296 ]\n",
      " [ 1.52781792  1.73828018  0.58950526]\n",
      " [ 1.19341757  0.47685765 -0.46469507]\n",
      " [ 0.27586992 -1.03415117  0.26589027]\n",
      " [ 1.52547125 -1.4051578  -0.29798432]\n",
      " [ 0.22189653 -0.88574852 -0.59708302]\n",
      " [ 0.11629642 -1.38492107 -1.05308596]\n",
      " [ 0.84259053 -1.19604497 -0.1165638 ]\n",
      " [-1.0617315  -1.17580824 -0.00378888]\n",
      " [ 1.65336472  1.34029126  2.06048247]\n",
      " [ 1.25677764 -0.12349853  0.01092089]\n",
      " [ 0.68419036  1.48194833 -0.49901787]\n",
      " [-0.08434379 -1.41864895 -0.15578986]\n",
      " [ 0.52109685  0.37567402 -0.56766348]\n",
      " [ 1.63459137 -0.62267109 -1.27863579]\n",
      " [-1.50173197 -0.74409144 -0.31269409]\n",
      " [-1.25767838  1.21212533 -1.17566739]\n",
      " [-0.83527793 -0.83178391 -1.16586087]\n",
      " [-1.51933199 -1.28373744  0.08937301]\n",
      " [ 0.23597655  1.2728355  -1.28353905]\n",
      " [ 0.03533633  0.8411187  -1.16586087]\n",
      " [-1.27293173 -1.31071974 -0.7834068 ]\n",
      " [-0.61586436 -1.22977284 -1.06289247]\n",
      " [ 0.35565668 -0.93296754 -1.14624784]\n",
      " [ 1.60643134  1.2728355   1.78590005]\n",
      " [ 1.00216403 -0.98018657 -1.03347293]]\n"
     ]
    }
   ],
   "source": [
    "scaler=StandardScaler()\n",
    "x_scaled=scaler.fit_transform(x)\n",
    "print(x_scaled)"
   ]
  },
  {
   "cell_type": "markdown",
   "metadata": {},
   "source": [
    "## Variance Inflation Factor"
   ]
  },
  {
   "cell_type": "code",
   "execution_count": 89,
   "metadata": {},
   "outputs": [
    {
     "data": {
      "text/html": [
       "<div>\n",
       "<style scoped>\n",
       "    .dataframe tbody tr th:only-of-type {\n",
       "        vertical-align: middle;\n",
       "    }\n",
       "\n",
       "    .dataframe tbody tr th {\n",
       "        vertical-align: top;\n",
       "    }\n",
       "\n",
       "    .dataframe thead th {\n",
       "        text-align: right;\n",
       "    }\n",
       "</style>\n",
       "<table border=\"1\" class=\"dataframe\">\n",
       "  <thead>\n",
       "    <tr style=\"text-align: right;\">\n",
       "      <th></th>\n",
       "      <th>VIF</th>\n",
       "      <th>Features</th>\n",
       "    </tr>\n",
       "  </thead>\n",
       "  <tbody>\n",
       "    <tr>\n",
       "      <th>0</th>\n",
       "      <td>1.003863</td>\n",
       "      <td>TV</td>\n",
       "    </tr>\n",
       "    <tr>\n",
       "      <th>1</th>\n",
       "      <td>1.137887</td>\n",
       "      <td>radio</td>\n",
       "    </tr>\n",
       "    <tr>\n",
       "      <th>2</th>\n",
       "      <td>1.137631</td>\n",
       "      <td>newspaper</td>\n",
       "    </tr>\n",
       "  </tbody>\n",
       "</table>\n",
       "</div>"
      ],
      "text/plain": [
       "        VIF   Features\n",
       "0  1.003863         TV\n",
       "1  1.137887      radio\n",
       "2  1.137631  newspaper"
      ]
     },
     "execution_count": 89,
     "metadata": {},
     "output_type": "execute_result"
    }
   ],
   "source": [
    "\n",
    "\n",
    "from statsmodels.stats.outliers_influence import variance_inflation_factor\n",
    "vif=pd.DataFrame()\n",
    "vif['VIF']=[variance_inflation_factor(x_scaled,i) for i in range(x_scaled.shape[1])]\n",
    "vif['Features']=x.columns\n",
    "vif\n"
   ]
  },
  {
   "cell_type": "markdown",
   "metadata": {},
   "source": [
    "# Training and Testing data"
   ]
  },
  {
   "cell_type": "code",
   "execution_count": 90,
   "metadata": {},
   "outputs": [],
   "source": [
    "train_x,test_x,train_y,test_y=train_test_split(x_scaled,y,test_size=.30,random_state=42)"
   ]
  },
  {
   "cell_type": "code",
   "execution_count": 91,
   "metadata": {},
   "outputs": [
    {
     "data": {
      "text/plain": [
       "(138, 3)"
      ]
     },
     "execution_count": 91,
     "metadata": {},
     "output_type": "execute_result"
    }
   ],
   "source": [
    "train_x.shape"
   ]
  },
  {
   "cell_type": "code",
   "execution_count": 92,
   "metadata": {},
   "outputs": [
    {
     "data": {
      "text/plain": [
       "(60, 3)"
      ]
     },
     "execution_count": 92,
     "metadata": {},
     "output_type": "execute_result"
    }
   ],
   "source": [
    "test_x.shape"
   ]
  },
  {
   "cell_type": "code",
   "execution_count": 93,
   "metadata": {},
   "outputs": [
    {
     "data": {
      "text/plain": [
       "(138, 1)"
      ]
     },
     "execution_count": 93,
     "metadata": {},
     "output_type": "execute_result"
    }
   ],
   "source": [
    "train_y.shape"
   ]
  },
  {
   "cell_type": "code",
   "execution_count": 94,
   "metadata": {},
   "outputs": [
    {
     "data": {
      "text/plain": [
       "(60, 1)"
      ]
     },
     "execution_count": 94,
     "metadata": {},
     "output_type": "execute_result"
    }
   ],
   "source": [
    "test_y.shape"
   ]
  },
  {
   "cell_type": "markdown",
   "metadata": {},
   "source": [
    "# Model Building"
   ]
  },
  {
   "cell_type": "markdown",
   "metadata": {},
   "source": [
    "# Linear Regession"
   ]
  },
  {
   "cell_type": "code",
   "execution_count": 95,
   "metadata": {},
   "outputs": [
    {
     "data": {
      "text/plain": [
       "LinearRegression()"
      ]
     },
     "execution_count": 95,
     "metadata": {},
     "output_type": "execute_result"
    }
   ],
   "source": [
    "from sklearn.linear_model import LinearRegression\n",
    "lr=LinearRegression()\n",
    "lr.fit(train_x,train_y)"
   ]
  },
  {
   "cell_type": "code",
   "execution_count": 96,
   "metadata": {},
   "outputs": [
    {
     "name": "stdout",
     "output_type": "stream",
     "text": [
      "[[ 8.69976099]\n",
      " [11.92478365]\n",
      " [23.34452286]\n",
      " [ 8.91262445]\n",
      " [10.66098008]\n",
      " [21.64204703]\n",
      " [19.20466511]\n",
      " [11.49656131]\n",
      " [13.96885459]\n",
      " [17.46403623]\n",
      " [14.18084249]\n",
      " [20.95846023]\n",
      " [ 8.79117747]\n",
      " [12.57315945]\n",
      " [ 6.48664407]\n",
      " [ 9.03899894]\n",
      " [10.92809601]\n",
      " [12.41486027]\n",
      " [ 9.75771188]\n",
      " [11.42036281]\n",
      " [13.24262188]\n",
      " [16.91308427]\n",
      " [23.00365635]\n",
      " [ 6.10877469]\n",
      " [16.96892644]\n",
      " [20.8681456 ]\n",
      " [ 8.24584568]\n",
      " [14.96662991]\n",
      " [ 6.84420106]\n",
      " [12.23984571]\n",
      " [17.78050738]\n",
      " [13.55425068]\n",
      " [ 6.43359072]\n",
      " [14.46490719]\n",
      " [15.37562927]\n",
      " [17.96797551]\n",
      " [15.15223764]\n",
      " [11.72937091]\n",
      " [18.30530225]\n",
      " [16.03851708]\n",
      " [19.10094652]\n",
      " [13.13968559]\n",
      " [11.75914391]\n",
      " [ 9.31356067]\n",
      " [ 6.27198868]\n",
      " [ 7.53772187]\n",
      " [17.07009432]\n",
      " [16.0295965 ]\n",
      " [11.14768266]\n",
      " [22.78854017]\n",
      " [16.79749391]\n",
      " [13.87100612]\n",
      " [18.54701824]\n",
      " [ 5.30200408]\n",
      " [ 4.52980725]\n",
      " [12.27690164]\n",
      " [ 9.63850925]\n",
      " [21.60559042]\n",
      " [13.81774223]\n",
      " [10.7446352 ]]\n"
     ]
    }
   ],
   "source": [
    "lr_pred=lr.predict(test_x)\n",
    "print(lr_pred)"
   ]
  },
  {
   "cell_type": "code",
   "execution_count": 97,
   "metadata": {},
   "outputs": [
    {
     "data": {
      "text/plain": [
       "array([[3.80578513, 2.73285341, 0.27410155]])"
      ]
     },
     "execution_count": 97,
     "metadata": {},
     "output_type": "execute_result"
    }
   ],
   "source": [
    "lr.coef_"
   ]
  },
  {
   "cell_type": "code",
   "execution_count": 98,
   "metadata": {},
   "outputs": [
    {
     "data": {
      "text/plain": [
       "array([13.94324666])"
      ]
     },
     "execution_count": 98,
     "metadata": {},
     "output_type": "execute_result"
    }
   ],
   "source": [
    "lr.intercept_"
   ]
  },
  {
   "cell_type": "code",
   "execution_count": 99,
   "metadata": {},
   "outputs": [
    {
     "data": {
      "text/plain": [
       "1.0"
      ]
     },
     "execution_count": 99,
     "metadata": {},
     "output_type": "execute_result"
    }
   ],
   "source": [
    "lr.score(test_x,lr_pred)"
   ]
  },
  {
   "cell_type": "code",
   "execution_count": 156,
   "metadata": {},
   "outputs": [
    {
     "data": {
      "text/plain": [
       "0.8949751177619989"
      ]
     },
     "execution_count": 156,
     "metadata": {},
     "output_type": "execute_result"
    }
   ],
   "source": [
    "accuracy=lr.score(train_x,train_y)\n",
    "accuracy"
   ]
  },
  {
   "cell_type": "markdown",
   "metadata": {},
   "source": [
    "We got 89% accuracy in training data"
   ]
  },
  {
   "cell_type": "code",
   "execution_count": 162,
   "metadata": {},
   "outputs": [
    {
     "name": "stdout",
     "output_type": "stream",
     "text": [
      "0.8851774936997314\n"
     ]
    }
   ],
   "source": [
    "accuracy=lr.score(test_x,test_y)\n",
    "print(accuracy)"
   ]
  },
  {
   "cell_type": "markdown",
   "metadata": {},
   "source": [
    "We got 88% accuracy in Testing data"
   ]
  },
  {
   "cell_type": "markdown",
   "metadata": {},
   "source": [
    "# Using Lasso and Ridge Method"
   ]
  },
  {
   "cell_type": "code",
   "execution_count": 234,
   "metadata": {},
   "outputs": [
    {
     "data": {
      "text/plain": [
       "Lasso(alpha=0.001)"
      ]
     },
     "execution_count": 234,
     "metadata": {},
     "output_type": "execute_result"
    }
   ],
   "source": [
    "## Using Lasso Method\n",
    "from sklearn.linear_model import Lasso,Ridge\n",
    "ls=Lasso(alpha=0.001)\n",
    "ls.fit(train_x,train_y)"
   ]
  },
  {
   "cell_type": "code",
   "execution_count": 238,
   "metadata": {
    "scrolled": true
   },
   "outputs": [
    {
     "name": "stdout",
     "output_type": "stream",
     "text": [
      "The score in Lasso: 0.8949750377678837\n"
     ]
    }
   ],
   "source": [
    "print(\"The score in Lasso:\",ls.score(train_x,train_y))"
   ]
  },
  {
   "cell_type": "code",
   "execution_count": 239,
   "metadata": {},
   "outputs": [
    {
     "data": {
      "text/plain": [
       "Ridge(alpha=0.01)"
      ]
     },
     "execution_count": 239,
     "metadata": {},
     "output_type": "execute_result"
    }
   ],
   "source": [
    "rg=Ridge(alpha=0.01)\n",
    "rg.fit(train_x,train_y)"
   ]
  },
  {
   "cell_type": "code",
   "execution_count": 241,
   "metadata": {},
   "outputs": [
    {
     "name": "stdout",
     "output_type": "stream",
     "text": [
      "The score in Ridge: 0.8949751133248549\n"
     ]
    }
   ],
   "source": [
    "print(\"The score in Ridge:\",rg.score(train_x,train_y))"
   ]
  },
  {
   "cell_type": "code",
   "execution_count": 245,
   "metadata": {},
   "outputs": [
    {
     "name": "stdout",
     "output_type": "stream",
     "text": [
      "Lasso Coefficient: [3.80487802 2.73220702 0.27348649]\n",
      "Ridge Coefficient: [[3.80550669 2.73263539 0.27419449]]\n"
     ]
    }
   ],
   "source": [
    "print(\"Lasso Coefficient:\",ls.coef_)\n",
    "print(\"Ridge Coefficient:\",rg.coef_)"
   ]
  },
  {
   "cell_type": "code",
   "execution_count": 246,
   "metadata": {},
   "outputs": [
    {
     "name": "stdout",
     "output_type": "stream",
     "text": [
      "Lasso Intercept: [13.94331613]\n",
      "Ridge Intercept: [13.9432546]\n"
     ]
    }
   ],
   "source": [
    "print(\"Lasso Intercept:\",ls.intercept_)\n",
    "print(\"Ridge Intercept:\",rg.intercept_)"
   ]
  },
  {
   "cell_type": "markdown",
   "metadata": {},
   "source": [
    "## KMeans Clustering"
   ]
  },
  {
   "cell_type": "code",
   "execution_count": 103,
   "metadata": {},
   "outputs": [
    {
     "data": {
      "image/png": "[encoded data removed]",
      "text/plain": [
       "<Figure size 432x288 with 1 Axes>"
      ]
     },
     "metadata": {
      "needs_background": "light"
     },
     "output_type": "display_data"
    }
   ],
   "source": [
    "from sklearn.cluster import KMeans\n",
    "wcss=[]\n",
    "for i in range(1,11):\n",
    "    kmeans=KMeans(n_clusters=i,init='k-means++',random_state=42)\n",
    "    kmeans.fit(x)\n",
    "    wcss.append(kmeans.inertia_)\n",
    "plt.plot(range(1,11),wcss)\n",
    "plt.title(\"The Elbow Method\")\n",
    "plt.xlabel(\"Number of Cluster\")\n",
    "plt.ylabel(\"WCSS\")\n",
    "plt.show()"
   ]
  },
  {
   "cell_type": "code",
   "execution_count": 104,
   "metadata": {},
   "outputs": [
    {
     "name": "stdout",
     "output_type": "stream",
     "text": [
      "[0 1 1 2 2 1 1 2 1 0 1 0 1 2 0 0 0 1 2 0 0 1 0 1 0 2 0 0 1 0 2 2 0 2 0 0 1\n",
      " 1 0 0 2 0 0 1 2 1 0 0 1 0 2 0 2 0 0 1 2 0 0 1 0 0 2 2 1 1 2 0 0 0 2 1 2 0\n",
      " 1 1 2 1 2 1 0 1 1 0 0 1 2 1 2 2 1 0 0 2 2 0 2 0 2 0 0 2 0 2 1 1 1 0 0 0 2\n",
      " 0 1 1 2 1 2 1 2 1 0 2 0 1 1 1 0 1 1 0 1 0 1 1 1 0 1 2 1 0 0 2 2 2 0 0 1 1\n",
      " 0 2 0 2 2 1 1 2 1 2 2 1 2 2 2 0 1 0 0 0 1 2 1 2 0 0 0 2 0 2 2 0 1 0 0 0 2\n",
      " 0 0 1 1 1 1 2 2 1 2 2 0 0]\n"
     ]
    }
   ],
   "source": [
    "kmeans=KMeans(n_clusters=3,init='k-means++',random_state=42)\n",
    "y_kmeans=kmeans.fit_predict(x)\n",
    "print(y_kmeans)"
   ]
  },
  {
   "cell_type": "code",
   "execution_count": 117,
   "metadata": {},
   "outputs": [
    {
     "data": {
      "image/png": "[encoded data removed]",
      "text/plain": [
       "<Figure size 432x288 with 1 Axes>"
      ]
     },
     "metadata": {
      "needs_background": "light"
     },
     "output_type": "display_data"
    }
   ],
   "source": [
    "\n",
    "plt.scatter(x[y_kmeans==0]['TV'],y[y_kmeans==0]['sales'],s=100,c='red',label='TV Sales Cluster')\n",
    "plt.scatter(x[y_kmeans==1]['newspaper'],y[y_kmeans==1]['sales'],s=100,c='green',label='News Paper Sales Cluster')\n",
    "plt.scatter(x[y_kmeans==2]['radio'],y[y_kmeans==2]['sales'],s=100,c='blue',label='Radio Sales Cluster')\n",
    "plt.scatter(kmeans.cluster_centers_[:,0],kmeans.cluster_centers_[:,1],c='yellow',label='Centroid')\n",
    "plt.title('Cluster of Sales Advertising')\n",
    "plt.xlabel('Advertising Cluster')\n",
    "plt.ylabel('Sales')\n",
    "plt.show()"
   ]
  },
  {
   "cell_type": "code",
   "execution_count": 126,
   "metadata": {},
   "outputs": [
    {
     "data": {
      "text/plain": [
       "array([[236.175     ,  24.84868421,  32.52894737],\n",
       "       [ 44.85625   ,  23.221875  ,  29.76875   ],\n",
       "       [141.79655172,  20.77931034,  26.18103448]])"
      ]
     },
     "execution_count": 126,
     "metadata": {},
     "output_type": "execute_result"
    }
   ],
   "source": [
    "kmeans.cluster_centers_"
   ]
  },
  {
   "cell_type": "code",
   "execution_count": 251,
   "metadata": {},
   "outputs": [
    {
     "data": {
      "text/plain": [
       "DBSCAN()"
      ]
     },
     "execution_count": 251,
     "metadata": {},
     "output_type": "execute_result"
    }
   ],
   "source": [
    "from sklearn.cluster import DBSCAN\n",
    "db=DBSCAN().fit(train_x,train_y)\n",
    "db"
   ]
  },
  {
   "cell_type": "code",
   "execution_count": 253,
   "metadata": {},
   "outputs": [
    {
     "data": {
      "text/plain": [
       "array([-1, -1, -1, -1, -1,  0, -1, -1,  1,  2, -1,  4, -1, -1, -1, -1, -1,\n",
       "       -1, -1, -1,  2, -1,  3,  1, -1, -1,  0, -1, -1, -1, -1, -1,  1,  1,\n",
       "       -1, -1,  4, -1,  2,  0, -1, -1,  2, -1, -1,  1,  2,  3, -1, -1, -1,\n",
       "       -1, -1, -1, -1,  4, -1, -1, -1, -1, -1,  2,  2,  0,  4, -1, -1, -1,\n",
       "       -1, -1, -1, -1, -1, -1, -1,  4, -1,  3,  1, -1, -1, -1, -1, -1,  1,\n",
       "       -1, -1, -1, -1, -1,  1, -1,  1,  4, -1, -1, -1, -1, -1,  3,  0, -1,\n",
       "       -1, -1, -1,  1,  1, -1, -1, -1, -1, -1,  2,  4, -1, -1, -1, -1, -1,\n",
       "       -1, -1, -1, -1, -1, -1, -1, -1, -1, -1,  0,  0,  3, -1, -1, -1, -1,\n",
       "        0, -1], dtype=int64)"
      ]
     },
     "execution_count": 253,
     "metadata": {},
     "output_type": "execute_result"
    }
   ],
   "source": [
    "db.labels_"
   ]
  },
  {
   "cell_type": "markdown",
   "metadata": {},
   "source": [
    "# Calculating the R2 Square"
   ]
  },
  {
   "cell_type": "code",
   "execution_count": 134,
   "metadata": {},
   "outputs": [
    {
     "name": "stdout",
     "output_type": "stream",
     "text": [
      "88.51774936997315\n"
     ]
    }
   ],
   "source": [
    "from sklearn.metrics import r2_score\n",
    "r2_score=r2_score(test_y,lr_pred)\n",
    "print(r2_score*100)"
   ]
  },
  {
   "cell_type": "markdown",
   "metadata": {},
   "source": [
    "R2 Score is 88%"
   ]
  },
  {
   "cell_type": "markdown",
   "metadata": {},
   "source": [
    "# Using Gradient Boosting Regressor"
   ]
  },
  {
   "cell_type": "code",
   "execution_count": 144,
   "metadata": {},
   "outputs": [],
   "source": [
    "from sklearn.ensemble import GradientBoostingRegressor\n",
    "from sklearn.metrics import mean_squared_error"
   ]
  },
  {
   "cell_type": "code",
   "execution_count": 136,
   "metadata": {},
   "outputs": [
    {
     "data": {
      "text/plain": [
       "GradientBoostingRegressor(max_depth=5)"
      ]
     },
     "execution_count": 136,
     "metadata": {},
     "output_type": "execute_result"
    }
   ],
   "source": [
    "gb_clf=GradientBoostingRegressor(n_estimators=100,max_depth=5)\n",
    "gb_clf.fit(train_x,train_y)"
   ]
  },
  {
   "cell_type": "code",
   "execution_count": 138,
   "metadata": {},
   "outputs": [
    {
     "name": "stdout",
     "output_type": "stream",
     "text": [
      "[ 8.89835909 13.44312419 22.81185825  9.83996061  5.63206268 23.65741737\n",
      " 19.57717612 12.60162513 15.20294686 14.77084806 14.11069374 22.57327344\n",
      "  5.61123611 13.11425408  8.73689664 10.19715983  5.61498401 11.40895264\n",
      "  9.64581947 11.92447384 14.01652202 17.40664518 25.31165072  7.20347264\n",
      " 17.0987796  22.3239077   8.07061597 12.36389229  7.68521135 12.61709697\n",
      " 18.64935962 15.03527603  8.76612469 12.74896431 12.5251196  18.6634611\n",
      " 15.39493651 12.34231125 19.02288774 16.45837671 21.33603993  5.7382686\n",
      " 13.50566278 10.62456505  7.55255322  7.76161262 18.62577257 16.26712282\n",
      "  8.65339102 25.70746092 18.17454236 12.94420591 19.98137025  7.73862868\n",
      "  7.45670418 11.46567637 11.18488654 20.58171494 14.37121583 12.69740418]\n"
     ]
    }
   ],
   "source": [
    "gb_pred=gb_clf.predict(test_x)\n",
    "print(gb_pred)"
   ]
  },
  {
   "cell_type": "markdown",
   "metadata": {},
   "source": [
    "### Mean Squared Error"
   ]
  },
  {
   "cell_type": "code",
   "execution_count": 146,
   "metadata": {
    "scrolled": true
   },
   "outputs": [
    {
     "name": "stdout",
     "output_type": "stream",
     "text": [
      "[22.386626581938504, 18.34958512563344, 14.994005398984626, 12.281733179883846, 10.15576999023246, 8.341653087673217, 6.852024775395094, 5.772920740449582, 4.842348718021487, 4.028384829640342, 3.446388353927228, 2.926358179543112, 2.4808483118216462, 2.1371184158229815, 1.8562362225718205, 1.6160110322723502, 1.4202034478860637, 1.2736728829270794, 1.1538553244547716, 1.0480113461456844, 0.9575288192331951, 0.8930684716427459, 0.8310296607353224, 0.7853643694798762, 0.7508221385448905, 0.720039698420477, 0.6929143955376726, 0.6729535486663674, 0.656472226089251, 0.6417071356422868, 0.6279412775866215, 0.6166754784363263, 0.6070218653716968, 0.6002787438908493, 0.5954884442362602, 0.5911445390177466, 0.5890638397703888, 0.5865873133610052, 0.5844609376919163, 0.5808153013458823, 0.5798059137281933, 0.576720005786835, 0.5756636352511875, 0.5741063694493257, 0.57363705993742, 0.5717488604539679, 0.5698605381260273, 0.5698606376250674, 0.5692445558784389, 0.5687034367034242, 0.5681688279897603, 0.5675755032291856, 0.5677585683932983, 0.5679469224323134, 0.5672894388331902, 0.5673438377058424, 0.5671342424762873, 0.5672365831386509, 0.5664518808515704, 0.566036286108123, 0.5656174434849707, 0.5657425279945512, 0.565668292317236, 0.5659092678788682, 0.5659783546568141, 0.5656525617802013, 0.5655952300192764, 0.5654475767064665, 0.5657414853439936, 0.5652213844781527, 0.5646058409665516, 0.5647883893499731, 0.5650022619143481, 0.564739149250027, 0.5650337663534354, 0.565224298715031, 0.5650324279930581, 0.5654636717519642, 0.5652140676700272, 0.5653878730946952, 0.5652930823019481, 0.5653811081028202, 0.5655939303124641, 0.5654357044250982, 0.5652089767623144, 0.5651422382883371, 0.5652896337973667, 0.5653245779215258, 0.5651015491791804, 0.5652482551486603, 0.5652053046679314, 0.5652014928786815, 0.5652788293276464, 0.5653596548401604, 0.5655227051496587, 0.5655102825138114, 0.5654888974068106, 0.5655034410268488, 0.5655017638003348, 0.5656518901456772]\n"
     ]
    }
   ],
   "source": [
    "error=[mean_squared_error(test_y,gb_pred) for gb_pred in gb_clf.staged_predict(test_x)]\n",
    "print(error)"
   ]
  },
  {
   "cell_type": "code",
   "execution_count": 147,
   "metadata": {},
   "outputs": [
    {
     "data": {
      "text/plain": [
       "70"
      ]
     },
     "execution_count": 147,
     "metadata": {},
     "output_type": "execute_result"
    }
   ],
   "source": [
    "bst_est=np.argmin(error)\n",
    "bst_est"
   ]
  },
  {
   "cell_type": "code",
   "execution_count": 148,
   "metadata": {},
   "outputs": [],
   "source": [
    "gb_bst=GradientBoostingRegressor(n_estimators=bst_est,max_depth=5)"
   ]
  },
  {
   "cell_type": "code",
   "execution_count": 149,
   "metadata": {},
   "outputs": [
    {
     "data": {
      "text/plain": [
       "GradientBoostingRegressor(max_depth=5, n_estimators=70)"
      ]
     },
     "execution_count": 149,
     "metadata": {},
     "output_type": "execute_result"
    }
   ],
   "source": [
    "gb_bst.fit(train_x,train_y)"
   ]
  },
  {
   "cell_type": "code",
   "execution_count": 150,
   "metadata": {},
   "outputs": [
    {
     "data": {
      "text/plain": [
       "0.9999269558985376"
      ]
     },
     "execution_count": 150,
     "metadata": {},
     "output_type": "execute_result"
    }
   ],
   "source": [
    "gb_bst.score(test_x,gb_pred)"
   ]
  },
  {
   "cell_type": "markdown",
   "metadata": {},
   "source": [
    "## Support Vector Regressor"
   ]
  },
  {
   "cell_type": "code",
   "execution_count": 182,
   "metadata": {},
   "outputs": [
    {
     "name": "stdout",
     "output_type": "stream",
     "text": [
      "0.8756486147239911\n",
      "0.8392501138235374\n",
      "0.9172905914724837\n"
     ]
    }
   ],
   "source": [
    "from sklearn.svm import SVR\n",
    "kernel_list=['linear','poly','rbf']\n",
    "for i in kernel_list:\n",
    "    svr=SVR(kernel=i)\n",
    "    svr.fit(train_x,train_y)\n",
    "    print(svr.score(train_x,train_y))\n",
    "    pred=svr.predict(test_x)"
   ]
  },
  {
   "cell_type": "markdown",
   "metadata": {},
   "source": [
    "rbf Kernel gives a good score 91% in Support Vector Regressor"
   ]
  },
  {
   "cell_type": "code",
   "execution_count": 187,
   "metadata": {},
   "outputs": [
    {
     "name": "stdout",
     "output_type": "stream",
     "text": [
      "SVR Score is:\n",
      " 0.9172905914724837 \n",
      "\n",
      "Predicted Sales value is:\n",
      " [ 9.59173858 12.46766219 22.2214975  10.17086656 10.46179016 18.74973585\n",
      " 20.2420673  12.09105778 15.09583599 14.87263099 14.39451088 21.56794157\n",
      "  9.44402159 13.56261453  8.73803531 10.24266091 10.73684176 11.32500964\n",
      "  9.90249095 11.70141439 12.95222137 17.56789676 22.71053346  8.0076006\n",
      " 17.83873219 21.51428867  9.77371443 13.84381963  8.23547422 11.87208004\n",
      " 18.75903134 14.45832698  8.98485329 13.60084269 12.54908405 17.54051365\n",
      " 15.83578283 11.77423175 18.45334525 17.0076013  18.03537697 12.00710184\n",
      " 12.69087919 10.29451859  8.27946721  8.49421248 17.70665334 16.59631123\n",
      " 11.19795526 19.85160645 18.14583365 12.65036005 19.08475507  8.07216472\n",
      "  7.89937686 11.82162388 10.44990549 19.66167922 13.63323059 11.97126785]\n"
     ]
    }
   ],
   "source": [
    "svr=SVR(kernel='rbf')\n",
    "svr.fit(train_x,train_y)\n",
    "print(\"SVR Score is:\\n\",svr.score(train_x,train_y),\"\\n\")\n",
    "svr_pred=svr.predict(test_x)\n",
    "print(\"Predicted Sales value is:\\n\",svr_pred)"
   ]
  },
  {
   "cell_type": "code",
   "execution_count": 191,
   "metadata": {},
   "outputs": [],
   "source": [
    "from sklearn.decomposition import PCA\n",
    "from sklearn.linear_model import SGDRegressor\n",
    "from sklearn.pipeline import Pipeline\n",
    "pipe=[]\n",
    "pipe.append(('SC', StandardScaler()))\n",
    "pipe.append(('PCA',PCA(n_components=8)))\n",
    "pipe.append(('SGD',SGDRegressor(alpha=0.1,learning_rate='optimal',max_iter=200,penalty='l2')))\n",
    "model=Pipeline(pipe)\n"
   ]
  },
  {
   "cell_type": "code",
   "execution_count": 192,
   "metadata": {},
   "outputs": [
    {
     "data": {
      "text/plain": [
       "Pipeline(steps=[('SC', StandardScaler()), ('PCA', PCA(n_components=8)),\n",
       "                ('SGD',\n",
       "                 SGDRegressor(alpha=0.1, learning_rate='optimal',\n",
       "                              max_iter=200))])"
      ]
     },
     "execution_count": 192,
     "metadata": {},
     "output_type": "execute_result"
    }
   ],
   "source": [
    "model"
   ]
  },
  {
   "cell_type": "markdown",
   "metadata": {},
   "source": [
    "# Hyper Parameter Tuning"
   ]
  },
  {
   "cell_type": "code",
   "execution_count": 210,
   "metadata": {},
   "outputs": [],
   "source": [
    "from sklearn.model_selection import GridSearchCV\n",
    "grid_param={\n",
    "    'learning_rate':[1.0,0.5,1.0,0.1,0.001],\n",
    "    'max_depth':[3,5,10,20],\n",
    "    'n_estimators':[10,50,100,200]\n",
    "}"
   ]
  },
  {
   "cell_type": "code",
   "execution_count": 221,
   "metadata": {},
   "outputs": [],
   "source": [
    "grid=GridSearchCV(estimator=gb_bst,param_grid=grid_param,cv=2,n_jobs=1,verbose=3)\n"
   ]
  },
  {
   "cell_type": "code",
   "execution_count": 222,
   "metadata": {},
   "outputs": [
    {
     "name": "stdout",
     "output_type": "stream",
     "text": [
      "Fitting 2 folds for each of 80 candidates, totalling 160 fits\n",
      "[CV 1/2] END learning_rate=1.0, max_depth=3, n_estimators=10;, score=0.768 total time=   0.0s\n",
      "[CV 2/2] END learning_rate=1.0, max_depth=3, n_estimators=10;, score=0.848 total time=   0.0s\n",
      "[CV 1/2] END learning_rate=1.0, max_depth=3, n_estimators=50;, score=0.764 total time=   0.0s\n",
      "[CV 2/2] END learning_rate=1.0, max_depth=3, n_estimators=50;, score=0.842 total time=   0.0s\n",
      "[CV 1/2] END learning_rate=1.0, max_depth=3, n_estimators=100;, score=0.764 total time=   0.0s\n",
      "[CV 2/2] END learning_rate=1.0, max_depth=3, n_estimators=100;, score=0.834 total time=   0.0s\n",
      "[CV 1/2] END learning_rate=1.0, max_depth=3, n_estimators=200;, score=0.764 total time=   0.0s\n",
      "[CV 2/2] END learning_rate=1.0, max_depth=3, n_estimators=200;, score=0.819 total time=   0.0s\n",
      "[CV 1/2] END learning_rate=1.0, max_depth=5, n_estimators=10;, score=0.823 total time=   0.0s\n",
      "[CV 2/2] END learning_rate=1.0, max_depth=5, n_estimators=10;, score=0.890 total time=   0.0s\n",
      "[CV 1/2] END learning_rate=1.0, max_depth=5, n_estimators=50;, score=0.822 total time=   0.0s\n",
      "[CV 2/2] END learning_rate=1.0, max_depth=5, n_estimators=50;, score=0.892 total time=   0.0s\n",
      "[CV 1/2] END learning_rate=1.0, max_depth=5, n_estimators=100;, score=0.817 total time=   0.0s\n",
      "[CV 2/2] END learning_rate=1.0, max_depth=5, n_estimators=100;, score=0.882 total time=   0.0s\n",
      "[CV 1/2] END learning_rate=1.0, max_depth=5, n_estimators=200;, score=0.818 total time=   0.0s\n",
      "[CV 2/2] END learning_rate=1.0, max_depth=5, n_estimators=200;, score=0.890 total time=   0.0s\n",
      "[CV 1/2] END learning_rate=1.0, max_depth=10, n_estimators=10;, score=0.847 total time=   0.0s\n",
      "[CV 2/2] END learning_rate=1.0, max_depth=10, n_estimators=10;, score=0.874 total time=   0.0s\n",
      "[CV 1/2] END learning_rate=1.0, max_depth=10, n_estimators=50;, score=0.837 total time=   0.0s\n",
      "[CV 2/2] END learning_rate=1.0, max_depth=10, n_estimators=50;, score=0.890 total time=   0.0s\n",
      "[CV 1/2] END learning_rate=1.0, max_depth=10, n_estimators=100;, score=0.843 total time=   0.0s\n",
      "[CV 2/2] END learning_rate=1.0, max_depth=10, n_estimators=100;, score=0.874 total time=   0.0s\n",
      "[CV 1/2] END learning_rate=1.0, max_depth=10, n_estimators=200;, score=0.838 total time=   0.0s\n",
      "[CV 2/2] END learning_rate=1.0, max_depth=10, n_estimators=200;, score=0.890 total time=   0.0s\n",
      "[CV 1/2] END learning_rate=1.0, max_depth=20, n_estimators=10;, score=0.840 total time=   0.0s\n",
      "[CV 2/2] END learning_rate=1.0, max_depth=20, n_estimators=10;, score=0.890 total time=   0.0s\n",
      "[CV 1/2] END learning_rate=1.0, max_depth=20, n_estimators=50;, score=0.839 total time=   0.0s\n",
      "[CV 2/2] END learning_rate=1.0, max_depth=20, n_estimators=50;, score=0.887 total time=   0.0s\n",
      "[CV 1/2] END learning_rate=1.0, max_depth=20, n_estimators=100;, score=0.839 total time=   0.0s\n",
      "[CV 2/2] END learning_rate=1.0, max_depth=20, n_estimators=100;, score=0.881 total time=   0.0s\n",
      "[CV 1/2] END learning_rate=1.0, max_depth=20, n_estimators=200;, score=0.837 total time=   0.0s\n",
      "[CV 2/2] END learning_rate=1.0, max_depth=20, n_estimators=200;, score=0.889 total time=   0.0s\n",
      "[CV 1/2] END learning_rate=0.5, max_depth=3, n_estimators=10;, score=0.910 total time=   0.0s\n",
      "[CV 2/2] END learning_rate=0.5, max_depth=3, n_estimators=10;, score=0.953 total time=   0.0s\n",
      "[CV 1/2] END learning_rate=0.5, max_depth=3, n_estimators=50;, score=0.908 total time=   0.0s\n",
      "[CV 2/2] END learning_rate=0.5, max_depth=3, n_estimators=50;, score=0.954 total time=   0.0s\n",
      "[CV 1/2] END learning_rate=0.5, max_depth=3, n_estimators=100;, score=0.909 total time=   0.0s\n",
      "[CV 2/2] END learning_rate=0.5, max_depth=3, n_estimators=100;, score=0.956 total time=   0.0s\n",
      "[CV 1/2] END learning_rate=0.5, max_depth=3, n_estimators=200;, score=0.909 total time=   0.0s\n",
      "[CV 2/2] END learning_rate=0.5, max_depth=3, n_estimators=200;, score=0.954 total time=   0.0s\n",
      "[CV 1/2] END learning_rate=0.5, max_depth=5, n_estimators=10;, score=0.895 total time=   0.0s\n",
      "[CV 2/2] END learning_rate=0.5, max_depth=5, n_estimators=10;, score=0.939 total time=   0.0s\n",
      "[CV 1/2] END learning_rate=0.5, max_depth=5, n_estimators=50;, score=0.895 total time=   0.0s\n",
      "[CV 2/2] END learning_rate=0.5, max_depth=5, n_estimators=50;, score=0.942 total time=   0.0s\n",
      "[CV 1/2] END learning_rate=0.5, max_depth=5, n_estimators=100;, score=0.894 total time=   0.0s\n",
      "[CV 2/2] END learning_rate=0.5, max_depth=5, n_estimators=100;, score=0.947 total time=   0.0s\n",
      "[CV 1/2] END learning_rate=0.5, max_depth=5, n_estimators=200;, score=0.896 total time=   0.0s\n",
      "[CV 2/2] END learning_rate=0.5, max_depth=5, n_estimators=200;, score=0.951 total time=   0.0s\n",
      "[CV 1/2] END learning_rate=0.5, max_depth=10, n_estimators=10;, score=0.847 total time=   0.0s\n",
      "[CV 2/2] END learning_rate=0.5, max_depth=10, n_estimators=10;, score=0.903 total time=   0.0s\n",
      "[CV 1/2] END learning_rate=0.5, max_depth=10, n_estimators=50;, score=0.842 total time=   0.0s\n",
      "[CV 2/2] END learning_rate=0.5, max_depth=10, n_estimators=50;, score=0.904 total time=   0.0s\n",
      "[CV 1/2] END learning_rate=0.5, max_depth=10, n_estimators=100;, score=0.847 total time=   0.0s\n",
      "[CV 2/2] END learning_rate=0.5, max_depth=10, n_estimators=100;, score=0.901 total time=   0.0s\n",
      "[CV 1/2] END learning_rate=0.5, max_depth=10, n_estimators=200;, score=0.847 total time=   0.0s\n",
      "[CV 2/2] END learning_rate=0.5, max_depth=10, n_estimators=200;, score=0.900 total time=   0.0s\n",
      "[CV 1/2] END learning_rate=0.5, max_depth=20, n_estimators=10;, score=0.847 total time=   0.0s\n",
      "[CV 2/2] END learning_rate=0.5, max_depth=20, n_estimators=10;, score=0.896 total time=   0.0s\n",
      "[CV 1/2] END learning_rate=0.5, max_depth=20, n_estimators=50;, score=0.844 total time=   0.0s\n",
      "[CV 2/2] END learning_rate=0.5, max_depth=20, n_estimators=50;, score=0.896 total time=   0.0s\n",
      "[CV 1/2] END learning_rate=0.5, max_depth=20, n_estimators=100;, score=0.841 total time=   0.0s\n",
      "[CV 2/2] END learning_rate=0.5, max_depth=20, n_estimators=100;, score=0.888 total time=   0.0s\n",
      "[CV 1/2] END learning_rate=0.5, max_depth=20, n_estimators=200;, score=0.844 total time=   0.0s\n",
      "[CV 2/2] END learning_rate=0.5, max_depth=20, n_estimators=200;, score=0.899 total time=   0.0s\n",
      "[CV 1/2] END learning_rate=1.0, max_depth=3, n_estimators=10;, score=0.759 total time=   0.0s\n",
      "[CV 2/2] END learning_rate=1.0, max_depth=3, n_estimators=10;, score=0.843 total time=   0.0s\n",
      "[CV 1/2] END learning_rate=1.0, max_depth=3, n_estimators=50;, score=0.753 total time=   0.0s\n",
      "[CV 2/2] END learning_rate=1.0, max_depth=3, n_estimators=50;, score=0.822 total time=   0.0s\n",
      "[CV 1/2] END learning_rate=1.0, max_depth=3, n_estimators=100;, score=0.766 total time=   0.0s\n",
      "[CV 2/2] END learning_rate=1.0, max_depth=3, n_estimators=100;, score=0.829 total time=   0.0s\n",
      "[CV 1/2] END learning_rate=1.0, max_depth=3, n_estimators=200;, score=0.764 total time=   0.0s\n",
      "[CV 2/2] END learning_rate=1.0, max_depth=3, n_estimators=200;, score=0.815 total time=   0.0s\n",
      "[CV 1/2] END learning_rate=1.0, max_depth=5, n_estimators=10;, score=0.824 total time=   0.0s\n",
      "[CV 2/2] END learning_rate=1.0, max_depth=5, n_estimators=10;, score=0.886 total time=   0.0s\n",
      "[CV 1/2] END learning_rate=1.0, max_depth=5, n_estimators=50;, score=0.823 total time=   0.0s\n",
      "[CV 2/2] END learning_rate=1.0, max_depth=5, n_estimators=50;, score=0.891 total time=   0.0s\n",
      "[CV 1/2] END learning_rate=1.0, max_depth=5, n_estimators=100;, score=0.824 total time=   0.0s\n",
      "[CV 2/2] END learning_rate=1.0, max_depth=5, n_estimators=100;, score=0.885 total time=   0.0s\n",
      "[CV 1/2] END learning_rate=1.0, max_depth=5, n_estimators=200;, score=0.826 total time=   0.0s\n",
      "[CV 2/2] END learning_rate=1.0, max_depth=5, n_estimators=200;, score=0.893 total time=   0.0s\n",
      "[CV 1/2] END learning_rate=1.0, max_depth=10, n_estimators=10;, score=0.840 total time=   0.0s\n",
      "[CV 2/2] END learning_rate=1.0, max_depth=10, n_estimators=10;, score=0.887 total time=   0.0s\n",
      "[CV 1/2] END learning_rate=1.0, max_depth=10, n_estimators=50;, score=0.837 total time=   0.0s\n",
      "[CV 2/2] END learning_rate=1.0, max_depth=10, n_estimators=50;, score=0.882 total time=   0.0s\n",
      "[CV 1/2] END learning_rate=1.0, max_depth=10, n_estimators=100;, score=0.842 total time=   0.0s\n",
      "[CV 2/2] END learning_rate=1.0, max_depth=10, n_estimators=100;, score=0.889 total time=   0.0s\n",
      "[CV 1/2] END learning_rate=1.0, max_depth=10, n_estimators=200;, score=0.837 total time=   0.0s\n",
      "[CV 2/2] END learning_rate=1.0, max_depth=10, n_estimators=200;, score=0.894 total time=   0.0s\n",
      "[CV 1/2] END learning_rate=1.0, max_depth=20, n_estimators=10;, score=0.842 total time=   0.0s\n",
      "[CV 2/2] END learning_rate=1.0, max_depth=20, n_estimators=10;, score=0.896 total time=   0.0s\n",
      "[CV 1/2] END learning_rate=1.0, max_depth=20, n_estimators=50;, score=0.838 total time=   0.0s\n",
      "[CV 2/2] END learning_rate=1.0, max_depth=20, n_estimators=50;, score=0.884 total time=   0.0s\n",
      "[CV 1/2] END learning_rate=1.0, max_depth=20, n_estimators=100;, score=0.842 total time=   0.0s\n",
      "[CV 2/2] END learning_rate=1.0, max_depth=20, n_estimators=100;, score=0.870 total time=   0.0s\n",
      "[CV 1/2] END learning_rate=1.0, max_depth=20, n_estimators=200;, score=0.837 total time=   0.0s\n",
      "[CV 2/2] END learning_rate=1.0, max_depth=20, n_estimators=200;, score=0.884 total time=   0.0s\n",
      "[CV 1/2] END learning_rate=0.1, max_depth=3, n_estimators=10;, score=0.776 total time=   0.0s\n",
      "[CV 2/2] END learning_rate=0.1, max_depth=3, n_estimators=10;, score=0.786 total time=   0.0s\n",
      "[CV 1/2] END learning_rate=0.1, max_depth=3, n_estimators=50;, score=0.934 total time=   0.0s\n",
      "[CV 2/2] END learning_rate=0.1, max_depth=3, n_estimators=50;, score=0.963 total time=   0.0s\n",
      "[CV 1/2] END learning_rate=0.1, max_depth=3, n_estimators=100;, score=0.935 total time=   0.0s\n",
      "[CV 2/2] END learning_rate=0.1, max_depth=3, n_estimators=100;, score=0.963 total time=   0.0s\n",
      "[CV 1/2] END learning_rate=0.1, max_depth=3, n_estimators=200;, score=0.936 total time=   0.0s\n",
      "[CV 2/2] END learning_rate=0.1, max_depth=3, n_estimators=200;, score=0.963 total time=   0.0s\n",
      "[CV 1/2] END learning_rate=0.1, max_depth=5, n_estimators=10;, score=0.795 total time=   0.0s\n",
      "[CV 2/2] END learning_rate=0.1, max_depth=5, n_estimators=10;, score=0.826 total time=   0.0s\n",
      "[CV 1/2] END learning_rate=0.1, max_depth=5, n_estimators=50;, score=0.903 total time=   0.0s\n",
      "[CV 2/2] END learning_rate=0.1, max_depth=5, n_estimators=50;, score=0.948 total time=   0.0s\n",
      "[CV 1/2] END learning_rate=0.1, max_depth=5, n_estimators=100;, score=0.902 total time=   0.0s\n",
      "[CV 2/2] END learning_rate=0.1, max_depth=5, n_estimators=100;, score=0.948 total time=   0.0s\n",
      "[CV 1/2] END learning_rate=0.1, max_depth=5, n_estimators=200;, score=0.902 total time=   0.0s\n",
      "[CV 2/2] END learning_rate=0.1, max_depth=5, n_estimators=200;, score=0.949 total time=   0.0s\n",
      "[CV 1/2] END learning_rate=0.1, max_depth=10, n_estimators=10;, score=0.792 total time=   0.0s\n",
      "[CV 2/2] END learning_rate=0.1, max_depth=10, n_estimators=10;, score=0.818 total time=   0.0s\n",
      "[CV 1/2] END learning_rate=0.1, max_depth=10, n_estimators=50;, score=0.844 total time=   0.0s\n",
      "[CV 2/2] END learning_rate=0.1, max_depth=10, n_estimators=50;, score=0.909 total time=   0.0s\n",
      "[CV 1/2] END learning_rate=0.1, max_depth=10, n_estimators=100;, score=0.846 total time=   0.0s\n",
      "[CV 2/2] END learning_rate=0.1, max_depth=10, n_estimators=100;, score=0.914 total time=   0.0s\n",
      "[CV 1/2] END learning_rate=0.1, max_depth=10, n_estimators=200;, score=0.844 total time=   0.0s\n",
      "[CV 2/2] END learning_rate=0.1, max_depth=10, n_estimators=200;, score=0.906 total time=   0.0s\n",
      "[CV 1/2] END learning_rate=0.1, max_depth=20, n_estimators=10;, score=0.787 total time=   0.0s\n",
      "[CV 2/2] END learning_rate=0.1, max_depth=20, n_estimators=10;, score=0.814 total time=   0.0s\n",
      "[CV 1/2] END learning_rate=0.1, max_depth=20, n_estimators=50;, score=0.846 total time=   0.0s\n",
      "[CV 2/2] END learning_rate=0.1, max_depth=20, n_estimators=50;, score=0.911 total time=   0.0s\n",
      "[CV 1/2] END learning_rate=0.1, max_depth=20, n_estimators=100;, score=0.843 total time=   0.0s\n",
      "[CV 2/2] END learning_rate=0.1, max_depth=20, n_estimators=100;, score=0.908 total time=   0.0s\n",
      "[CV 1/2] END learning_rate=0.1, max_depth=20, n_estimators=200;, score=0.846 total time=   0.0s\n",
      "[CV 2/2] END learning_rate=0.1, max_depth=20, n_estimators=200;, score=0.912 total time=   0.0s\n",
      "[CV 1/2] END learning_rate=0.001, max_depth=3, n_estimators=10;, score=0.011 total time=   0.0s\n",
      "[CV 2/2] END learning_rate=0.001, max_depth=3, n_estimators=10;, score=0.011 total time=   0.0s\n",
      "[CV 1/2] END learning_rate=0.001, max_depth=3, n_estimators=50;, score=0.076 total time=   0.0s\n",
      "[CV 2/2] END learning_rate=0.001, max_depth=3, n_estimators=50;, score=0.071 total time=   0.0s\n",
      "[CV 1/2] END learning_rate=0.001, max_depth=3, n_estimators=100;, score=0.152 total time=   0.0s\n",
      "[CV 2/2] END learning_rate=0.001, max_depth=3, n_estimators=100;, score=0.140 total time=   0.0s\n",
      "[CV 1/2] END learning_rate=0.001, max_depth=3, n_estimators=200;, score=0.281 total time=   0.0s\n",
      "[CV 2/2] END learning_rate=0.001, max_depth=3, n_estimators=200;, score=0.268 total time=   0.0s\n",
      "[CV 1/2] END learning_rate=0.001, max_depth=5, n_estimators=10;, score=0.013 total time=   0.0s\n",
      "[CV 2/2] END learning_rate=0.001, max_depth=5, n_estimators=10;, score=0.014 total time=   0.0s\n",
      "[CV 1/2] END learning_rate=0.001, max_depth=5, n_estimators=50;, score=0.086 total time=   0.0s\n",
      "[CV 2/2] END learning_rate=0.001, max_depth=5, n_estimators=50;, score=0.085 total time=   0.0s\n",
      "[CV 1/2] END learning_rate=0.001, max_depth=5, n_estimators=100;, score=0.169 total time=   0.0s\n",
      "[CV 2/2] END learning_rate=0.001, max_depth=5, n_estimators=100;, score=0.168 total time=   0.0s\n",
      "[CV 1/2] END learning_rate=0.001, max_depth=5, n_estimators=200;, score=0.309 total time=   0.0s\n",
      "[CV 2/2] END learning_rate=0.001, max_depth=5, n_estimators=200;, score=0.309 total time=   0.0s\n",
      "[CV 1/2] END learning_rate=0.001, max_depth=10, n_estimators=10;, score=0.012 total time=   0.0s\n",
      "[CV 2/2] END learning_rate=0.001, max_depth=10, n_estimators=10;, score=0.014 total time=   0.0s\n",
      "[CV 1/2] END learning_rate=0.001, max_depth=10, n_estimators=50;, score=0.084 total time=   0.0s\n",
      "[CV 2/2] END learning_rate=0.001, max_depth=10, n_estimators=50;, score=0.085 total time=   0.0s\n",
      "[CV 1/2] END learning_rate=0.001, max_depth=10, n_estimators=100;, score=0.165 total time=   0.0s\n",
      "[CV 2/2] END learning_rate=0.001, max_depth=10, n_estimators=100;, score=0.168 total time=   0.0s\n",
      "[CV 1/2] END learning_rate=0.001, max_depth=10, n_estimators=200;, score=0.304 total time=   0.0s\n",
      "[CV 2/2] END learning_rate=0.001, max_depth=10, n_estimators=200;, score=0.307 total time=   0.0s\n",
      "[CV 1/2] END learning_rate=0.001, max_depth=20, n_estimators=10;, score=0.012 total time=   0.0s\n",
      "[CV 2/2] END learning_rate=0.001, max_depth=20, n_estimators=10;, score=0.014 total time=   0.0s\n",
      "[CV 1/2] END learning_rate=0.001, max_depth=20, n_estimators=50;, score=0.084 total time=   0.0s\n",
      "[CV 2/2] END learning_rate=0.001, max_depth=20, n_estimators=50;, score=0.085 total time=   0.0s\n",
      "[CV 1/2] END learning_rate=0.001, max_depth=20, n_estimators=100;, score=0.165 total time=   0.0s\n",
      "[CV 2/2] END learning_rate=0.001, max_depth=20, n_estimators=100;, score=0.167 total time=   0.0s\n",
      "[CV 1/2] END learning_rate=0.001, max_depth=20, n_estimators=200;, score=0.304 total time=   0.0s\n",
      "[CV 2/2] END learning_rate=0.001, max_depth=20, n_estimators=200;, score=0.307 total time=   0.0s\n"
     ]
    },
    {
     "data": {
      "text/plain": [
       "GridSearchCV(cv=2,\n",
       "             estimator=GradientBoostingRegressor(max_depth=5, n_estimators=70),\n",
       "             n_jobs=1,\n",
       "             param_grid={'learning_rate': [1.0, 0.5, 1.0, 0.1, 0.001],\n",
       "                         'max_depth': [3, 5, 10, 20],\n",
       "                         'n_estimators': [10, 50, 100, 200]},\n",
       "             verbose=3)"
      ]
     },
     "execution_count": 222,
     "metadata": {},
     "output_type": "execute_result"
    }
   ],
   "source": [
    "grid.fit(train_x,train_y)"
   ]
  },
  {
   "cell_type": "code",
   "execution_count": 223,
   "metadata": {},
   "outputs": [
    {
     "name": "stdout",
     "output_type": "stream",
     "text": [
      "{'learning_rate': 0.1, 'max_depth': 3, 'n_estimators': 200}\n"
     ]
    }
   ],
   "source": [
    "best_parameter=grid.best_params_\n",
    "print(best_parameter)"
   ]
  },
  {
   "cell_type": "code",
   "execution_count": 224,
   "metadata": {
    "scrolled": true
   },
   "outputs": [
    {
     "data": {
      "text/plain": [
       "0.9496165510166974"
      ]
     },
     "execution_count": 224,
     "metadata": {},
     "output_type": "execute_result"
    }
   ],
   "source": [
    "grid.best_score_"
   ]
  },
  {
   "cell_type": "markdown",
   "metadata": {},
   "source": [
    "We got 94% score after tuning the parameter"
   ]
  },
  {
   "cell_type": "markdown",
   "metadata": {},
   "source": [
    "## Cross Validation"
   ]
  },
  {
   "cell_type": "code",
   "execution_count": 172,
   "metadata": {},
   "outputs": [],
   "source": [
    "from sklearn.model_selection import cross_val_score\n"
   ]
  },
  {
   "cell_type": "code",
   "execution_count": 180,
   "metadata": {},
   "outputs": [
    {
     "name": "stdout",
     "output_type": "stream",
     "text": [
      "Linear Regression Cross Validation Score is \n",
      " [3.51214055 3.28220079 2.33677381 2.51209071 1.51932738 1.56575124\n",
      " 8.16449714 1.99673917 3.20647742 2.58318161] \n",
      "\n",
      "Accuracy of Mean: 3.0679179811724238\n",
      "Accuracy of Standard Deviation: 1.8198383331133676\n"
     ]
    }
   ],
   "source": [
    "scores=cross_val_score(lr,x,y,cv=10,scoring='neg_mean_squared_error')\n",
    "accuracy= -scores  #cross_val_score give result in negative result so we negate it to get positive result\n",
    "print(\"Linear Regression Cross Validation Score is \\n\",accuracy,\"\\n\")\n",
    "print(\"Accuracy of Mean:\",accuracy.mean())\n",
    "print(\"Accuracy of Standard Deviation:\",accuracy.std())"
   ]
  },
  {
   "cell_type": "code",
   "execution_count": 181,
   "metadata": {},
   "outputs": [
    {
     "name": "stdout",
     "output_type": "stream",
     "text": [
      "Gradient Boosting Regressor Cross Validation Score is \n",
      " [0.58591359 0.47476825 0.56217569 0.72221943 0.61656757 0.60440256\n",
      " 0.90327221 0.39530604 0.33860978 0.35745908] \n",
      "\n",
      "Accuracy of Mean: 0.5560694199140637\n",
      "Accuracy of Standard Deviation: 0.1656107441075793\n"
     ]
    }
   ],
   "source": [
    "scores=cross_val_score(gb_clf,x,y,cv=10,scoring='neg_mean_squared_error')\n",
    "accuracy= -scores  #cross_val_score give result in negative result so we negate it to get positive result\n",
    "print(\"Gradient Boosting Regressor Cross Validation Score is \\n\",accuracy,\"\\n\")\n",
    "print(\"Accuracy of Mean:\",accuracy.mean())\n",
    "print(\"Accuracy of Standard Deviation:\",accuracy.std())"
   ]
  },
  {
   "cell_type": "code",
   "execution_count": 183,
   "metadata": {
    "scrolled": true
   },
   "outputs": [
    {
     "name": "stdout",
     "output_type": "stream",
     "text": [
      "Support Vector Regressor Cross Validation Score is \n",
      " [2.9424433  4.03323716 4.35519931 1.8404768  3.60866913 1.75011864\n",
      " 5.30723755 2.496505   5.66496199 5.16172679] \n",
      "\n",
      "Accuracy of Mean: 3.7160575680512613\n",
      "Accuracy of Standard Deviation: 1.3568045411448046\n"
     ]
    }
   ],
   "source": [
    "scores=cross_val_score(svr,x,y,cv=10,scoring='neg_mean_squared_error')\n",
    "accuracy= -scores  #cross_val_score give result in negative result so we negate it to get positive result\n",
    "print(\"Support Vector Regressor Cross Validation Score is \\n\",accuracy,\"\\n\")\n",
    "print(\"Accuracy of Mean:\",accuracy.mean())\n",
    "print(\"Accuracy of Standard Deviation:\",accuracy.std())"
   ]
  },
  {
   "cell_type": "markdown",
   "metadata": {},
   "source": [
    "# Saving the Model"
   ]
  },
  {
   "cell_type": "code",
   "execution_count": 225,
   "metadata": {},
   "outputs": [],
   "source": [
    "# Saving the Model\n",
    "\n",
    "import pickle\n",
    "filename='Advertise_sales_prediction_model.pickle'\n",
    "pickle.dump(gb_bst,open(filename,'wb'))"
   ]
  },
  {
   "cell_type": "code",
   "execution_count": 226,
   "metadata": {},
   "outputs": [
    {
     "data": {
      "text/plain": [
       "array([ 8.89297314, 13.44235817, 22.80623623,  9.87800454,  5.59172593,\n",
       "       23.59299033, 19.57645197, 12.6673032 , 15.20323204, 14.77794507,\n",
       "       14.11757167, 22.72546934,  5.6203369 , 13.11448976,  8.7569937 ,\n",
       "       10.18605706,  5.57035735, 11.41226168,  9.66085735, 11.92577306,\n",
       "       14.01060546, 17.40053038, 25.3011836 ,  7.17974193, 17.12849905,\n",
       "       22.31753461,  8.14815789, 12.35677153,  7.67573711, 12.63158388,\n",
       "       18.67173003, 15.05211651,  8.78693158, 12.72330261, 12.54015335,\n",
       "       18.65330491, 15.38872998, 12.36510347, 19.02159087, 16.47359681,\n",
       "       21.30103232,  5.6877083 , 13.4992371 , 10.67071728,  7.51751864,\n",
       "        7.74123941, 18.60763175, 16.25893197,  8.65033148, 25.69728625,\n",
       "       18.17782328, 12.94108492, 19.95808872,  7.93317725,  7.47279942,\n",
       "       11.46025577, 11.32752992, 20.58474279, 14.36001309, 12.62438981])"
      ]
     },
     "execution_count": 226,
     "metadata": {},
     "output_type": "execute_result"
    }
   ],
   "source": [
    "loaded_model=pickle.load(open(filename,'rb'))\n",
    "loaded_model.predict(test_x)"
   ]
  }
 ],
 "metadata": {
  "kernelspec": {
   "display_name": "Python 3",
   "language": "python",
   "name": "python3"
  },
  "language_info": {
   "codemirror_mode": {
    "name": "ipython",
    "version": 3
   },
   "file_extension": ".py",
   "mimetype": "text/x-python",
   "name": "python",
   "nbconvert_exporter": "python",
   "pygments_lexer": "ipython3",
   "version": "3.7.6"
  }
 },
 "nbformat": 4,
 "nbformat_minor": 4
}
